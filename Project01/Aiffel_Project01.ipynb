{
  "nbformat": 4,
  "nbformat_minor": 0,
  "metadata": {
    "colab": {
      "provenance": [],
      "toc_visible": true,
      "authorship_tag": "ABX9TyNxK+DXMyExbuKYgFPbFlwJ",
      "include_colab_link": true
    },
    "kernelspec": {
      "name": "python3",
      "display_name": "Python 3"
    },
    "language_info": {
      "name": "python"
    }
  },
  "cells": [
    {
      "cell_type": "markdown",
      "metadata": {
        "id": "view-in-github",
        "colab_type": "text"
      },
      "source": [
        "<a href=\"https://colab.research.google.com/github/choikanghoon/Aiffel_study/blob/master/Project01/Aiffel_Project01.ipynb\" target=\"_parent\"><img src=\"https://colab.research.google.com/assets/colab-badge.svg\" alt=\"Open In Colab\"/></a>"
      ]
    },
    {
      "cell_type": "markdown",
      "source": [
        "# 사각형 넓이구하기"
      ],
      "metadata": {
        "id": "bWdE_lsgVO2q"
      }
    },
    {
      "cell_type": "markdown",
      "source": [
        "## 설계하면서 만들기\n",
        "- 직사각형 : 가로 X 세로\n",
        "- 평행사변형 : 밑변 X 높이\n",
        "- 사다리꼴 : (밑변 + 윗변) X 높이 X 1/2\n",
        "\n",
        "1. 사각형 Class 만들기\n",
        "2. Input 받은 자료 split 함수로 나누기\n",
        "3. split 자료 map함수로 int함수 처리하기\n",
        "4. method 만들어서 return 값 반환해서 출력하기\n",
        "5. Class에 method 넣어서 self 인자를 받아 완성본 만들기"
      ],
      "metadata": {
        "id": "txVjSRCxUsUA"
      }
    },
    {
      "cell_type": "markdown",
      "source": [
        "## 1. 사각형 Class 만들기"
      ],
      "metadata": {
        "id": "hR6QjiUYV-3X"
      }
    },
    {
      "cell_type": "code",
      "execution_count": null,
      "metadata": {
        "id": "XUE-CHonUmm8"
      },
      "outputs": [],
      "source": [
        "class Square:\n",
        "    def __init__(self):\n",
        "        self.square = int(input(\"넓이를 구하고 싶은 사각형의 숫자를 써주세요. \\n 1.직사각형 2.평행사변형 3.사다리꼴 \\n >>>\"))\n",
        "        # 각 메소드들의 명칭을 나타내서 square class를 사용할때의 method를 알려주기 위해 print로 보여준다.\n",
        "        if self.square == 1:\n",
        "            print(\"직사각형 함수는 rect()입니다.\") # 직사각형의 함수 출력\n",
        "        elif self.square == 2:\n",
        "            print(\"평행사변형 함수는 par()입니다.\") # 평행사변형의 함수 출력\n",
        "        elif self.square == 3:\n",
        "            print(\"사다리꼴 함수는 trape()입니다.\") # 사다리꼴의 함수 출력\n",
        "        else:\n",
        "            print(\"1, 2, 3 중에서 다시 입력해주세요\")"
      ]
    },
    {
      "cell_type": "markdown",
      "source": [
        "## 2. input 받은 자료 split()으로 나누기\n",
        "\n",
        "split이란 괄호안에 구분을 짓는 값을 넣으면 그 기준으로\n",
        "데이터를 나눌수 있다."
      ],
      "metadata": {
        "id": "1ou9hzXWUtSf"
      }
    },
    {
      "cell_type": "code",
      "source": [
        "# split으로 값을 2개로 받을수 있기때문에 가로 변수와 세로 변수에 따로 저장을 할수 있다.\n",
        "가로, 세로 = input('가로, 세로를 입력하세요. 예시 : 가로, 세로').split(',')\n",
        "print(가로, 세로)"
      ],
      "metadata": {
        "colab": {
          "base_uri": "https://localhost:8080/"
        },
        "id": "nSneDGzVUtZv",
        "outputId": "350941fd-8389-4358-acf8-cc84aaf7bd19"
      },
      "execution_count": 1,
      "outputs": [
        {
          "output_type": "stream",
          "name": "stdout",
          "text": [
            "가로, 세로를 입력하세요. 예시 : 가로, 세로1,5\n",
            "1 5\n"
          ]
        }
      ]
    },
    {
      "cell_type": "markdown",
      "source": [
        "## 3. map()으로 int 함수 적용시키기\n",
        "\n",
        "map 함수는 (function, iterable) 개념으로\n",
        "반복되는 개체들에 전부 function에 있는 함수를 일괄적용\n",
        "시킬수 있는 함수로 input받은 내용물들을 int로 바꿔줄수 있다."
      ],
      "metadata": {
        "id": "Se1sbD5MUtfB"
      }
    },
    {
      "cell_type": "code",
      "source": [
        "가로, 세로 = map(int, input(\"가로, 세로를 입력하세요. 예시 : 가로, 세로\").split(','))\n",
        "print(가로, type(가로), 세로, type(세로)) # split으로 값이 나눠졌는지, 그 값이 int type인지 확인해보기"
      ],
      "metadata": {
        "colab": {
          "base_uri": "https://localhost:8080/"
        },
        "id": "QcCOD8gDUtkB",
        "outputId": "4140ac91-f078-4ccc-808c-cea5dc8c454f"
      },
      "execution_count": 3,
      "outputs": [
        {
          "output_type": "stream",
          "name": "stdout",
          "text": [
            "가로, 세로를 입력하세요. 예시 : 가로, 세로3, 5\n",
            "3 <class 'int'> 5 <class 'int'>\n"
          ]
        }
      ]
    },
    {
      "cell_type": "markdown",
      "source": [
        "## 4. 함수 만들어서 return 값 반환하기"
      ],
      "metadata": {
        "id": "IOtksjIwUtoO"
      }
    },
    {
      "cell_type": "code",
      "source": [
        "# 직사각형의 넓이를 구하는 메서드를 만들기\n",
        "# class에 넣는 형식으로 만들어 본것이 아니고 정상적으로 내부구성이 실행되는지 확인\n",
        "def rect():\n",
        "    width, vertical = map(int, input(\"가로, 세로를 입력하세요. 예시 : 가로, 세로 \\n >>> \").split(','))\n",
        "    area = width * vertical # 가로 X 세로 (넓이 구하는 부분)\n",
        "    result = '직사각형의 넓이는 : ' + str(area) # int는 문자열이 아니기때문에 str함수로 area의 값을 문자열로 바꾸기\n",
        "    return result\n",
        "rect = rect()\n",
        "print(rect)"
      ],
      "metadata": {
        "colab": {
          "base_uri": "https://localhost:8080/"
        },
        "id": "mfEADhMMUtvs",
        "outputId": "7bb16e5d-50ff-488e-96e4-32a02b01825d"
      },
      "execution_count": 8,
      "outputs": [
        {
          "output_type": "stream",
          "name": "stdout",
          "text": [
            "가로, 세로를 입력하세요. 예시 : 가로, 세로 \n",
            " >>> 3, 5\n",
            "직사각형의 넓이는 : 15\n"
          ]
        }
      ]
    },
    {
      "cell_type": "markdown",
      "source": [
        "## 5. 모든함수 합쳐서 완성본 만들기"
      ],
      "metadata": {
        "id": "7v7XzVB8Utzi"
      }
    },
    {
      "cell_type": "code",
      "source": [
        "class Square:\n",
        "    def __init__(self):\n",
        "        self.square = int(input(\"넓이를 구하고 싶은 사각형의 숫자를 써주세요.\\n 1.직사각형 2.평행사변형 3.사다리꼴\\n>>> \"))\n",
        "        # Class 안에있는 method가 무엇이 있는지 보여주기\n",
        "        if self.square == 1:\n",
        "            print(\"직사각형 함수는 rect()입니다.\")\n",
        "        elif self.square == 2:\n",
        "            print(\"평행사변형 함수는 par()입니다.\")\n",
        "        elif self.square == 3:\n",
        "            print(\"사다리꼴 함수는 trape()입니다.\")\n",
        "        else:\n",
        "            print(\"1, 2, 3 중에서 다시 입력해주세요\")\n",
        "\n",
        "    def rect(self):\n",
        "        width, vertical = map(int, input(\"가로, 세로를 입력하세요. 예시 : 가로, 세로\\n >>> \").split(','))\n",
        "        area = width * vertical\n",
        "        result = '직사각형의 넓이는 : ' + str(area)\n",
        "        return result\n",
        "\n",
        "    def par(self):\n",
        "        lower, height = map(int, input(\"밑변, 높이를 입력하세요. 예시 : 밑변, 높이\\n >>> \").split(','))\n",
        "        area = lower * height\n",
        "        result = '평행사변형의 넓이는 : ' + str(area)\n",
        "        return result\n",
        "\n",
        "    def trape(self):\n",
        "        lower, upper, height = map(int, input(\"밑변, 윗변, 높이를 입력하세요. 예시 : 밑변, 윗변, 높이\\n >>> \").split(','))\n",
        "        area = (lower + upper) * height / 0.5 # 1/2는 0.5이기 때문에 0.5로 처리\n",
        "        result = '사다리꼴의 넓이는 : ' + str(area)\n",
        "        return result"
      ],
      "metadata": {
        "id": "4e-LME9AUt5P"
      },
      "execution_count": 9,
      "outputs": []
    },
    {
      "cell_type": "code",
      "source": [
        "# 결과 출력하기\n",
        "square = Square()\n",
        "square.rect()\n",
        "square.par()\n",
        "square.trape()"
      ],
      "metadata": {
        "colab": {
          "base_uri": "https://localhost:8080/",
          "height": 219
        },
        "id": "uXN9gi-rdDwL",
        "outputId": "7fd7ceca-e017-4b62-eaec-1c30e922286d"
      },
      "execution_count": 10,
      "outputs": [
        {
          "name": "stdout",
          "output_type": "stream",
          "text": [
            "넓이를 구하고 싶은 사각형의 숫자를 써주세요.\n",
            " 1.직사각형 2.평행사변형 3.사다리꼴\n",
            ">>> 1\n",
            "직사각형 함수는 rect()입니다.\n",
            "가로, 세로를 입력하세요. 예시 : 가로, 세로\n",
            " >>> 3, 5\n",
            "밑변, 높이를 입력하세요. 예시 : 밑변, 높이\n",
            " >>> 5, 7\n",
            "밑변, 윗변, 높이를 입력하세요. 예시 : 밑변, 윗변, 높이\n",
            " >>> 3, 5, 2\n"
          ]
        },
        {
          "output_type": "execute_result",
          "data": {
            "text/plain": [
              "'사다리꼴의 넓이는 : 32.0'"
            ],
            "application/vnd.google.colaboratory.intrinsic+json": {
              "type": "string"
            }
          },
          "metadata": {},
          "execution_count": 10
        }
      ]
    },
    {
      "cell_type": "markdown",
      "source": [
        "# 키오스크 만들기"
      ],
      "metadata": {
        "id": "K367JvL4VRnI"
      }
    },
    {
      "cell_type": "markdown",
      "source": [
        "## 설계하면서 만들기\n",
        "\n",
        "1. 메뉴판 만들기\n",
        "2. 메뉴판 출력하기\n",
        "3. 주문하기\n",
        "4. 음료 온도 추가하기\n",
        "5. 추가주문하기\n",
        "6. 지불하기 함수 만들기\n",
        "7. 영수증 출력 함수 만들기\n",
        "8. 모든함수 합쳐서 완성본 만들기"
      ],
      "metadata": {
        "id": "LLzjrx6zVUzc"
      }
    },
    {
      "cell_type": "markdown",
      "source": [
        "## 1. 메뉴판 만들기\n",
        "\n",
        "음식점을 만들 때 메뉴판을 먼저 기획을 해야 하기 때문에\n",
        "먼저 음식과 가격에 대한 리스트를 만든다."
      ],
      "metadata": {
        "id": "mxkpEhnRefrv"
      }
    },
    {
      "cell_type": "code",
      "source": [
        "# 커피 메뉴와 가격\n",
        "coffee = ['americano', 'latte', 'mocha']\n",
        "c_price = [2000, 3000, 3000]\n",
        "\n",
        "# 논커피 메뉴와 가격\n",
        "non_coffee = ['yuza_tea', 'green_tea', 'choco_latte']\n",
        "n_price = [2500, 2500, 3000]\n",
        "\n",
        "# + 연산자로 리스트 두개를 합칠수 있다. 이렇게 합치면 뒤에 리스트가 앞에 리스트의 뒤부터 채운다.\n",
        "menu = coffee + non_coffee\n",
        "print(menu)\n",
        "price = c_price + n_price\n",
        "print(price)"
      ],
      "metadata": {
        "colab": {
          "base_uri": "https://localhost:8080/"
        },
        "id": "Re9DR8STfZwI",
        "outputId": "395e53ff-d448-4e26-d728-9921425b5346"
      },
      "execution_count": 14,
      "outputs": [
        {
          "output_type": "stream",
          "name": "stdout",
          "text": [
            "['americano', 'latte', 'mocha', 'yuza_tea', 'green_tea', 'choco_latte']\n",
            "[2000, 3000, 3000, 2500, 2500, 3000]\n"
          ]
        }
      ]
    },
    {
      "cell_type": "code",
      "source": [
        "# 직접 입력해본것과 구조가 똑같은 것을 확인할 수 있음\n",
        "menu = ['아메리카노', '커피라떼', '모카라떼', '유자차', '녹차', '초코라떼']\n",
        "price = [2000, 3000, 3000, 2500, 2500, 3000]\n",
        "print(menu)\n",
        "print(price)"
      ],
      "metadata": {
        "colab": {
          "base_uri": "https://localhost:8080/"
        },
        "id": "J73vIaS5VU72",
        "outputId": "c4128871-32c9-407a-e0e4-bf73a49666f9"
      },
      "execution_count": 16,
      "outputs": [
        {
          "output_type": "stream",
          "name": "stdout",
          "text": [
            "['아메리카노', '커피라떼', '모카라떼', '유자차', '녹차', '초코라떼']\n",
            "[2000, 3000, 3000, 2500, 2500, 3000]\n"
          ]
        }
      ]
    },
    {
      "cell_type": "markdown",
      "source": [
        "## 2. 메뉴판 출력하기\n",
        "\n",
        "키오스크를 만들기로 했으니 메뉴판을 출력해야 손님이 고를수 있을겁니다."
      ],
      "metadata": {
        "id": "NSUrFUMoVVDG"
      }
    },
    {
      "cell_type": "code",
      "source": [
        "# 클래스에 적용시키기전에 함수를 별도로 만들어 봤습니다.\n",
        "def menu_print(menu, price):\n",
        "    for i in range(len(menu)):\n",
        "        print(i+1, menu[i], ' : ', price[i])\n",
        "menu_print(menu, price)"
      ],
      "metadata": {
        "colab": {
          "base_uri": "https://localhost:8080/"
        },
        "id": "3E9KMyJmVVH9",
        "outputId": "0c1fd026-c879-4481-a676-7e40756517cd"
      },
      "execution_count": 18,
      "outputs": [
        {
          "output_type": "stream",
          "name": "stdout",
          "text": [
            "1 아메리카노  :  2000\n",
            "2 커피라떼  :  3000\n",
            "3 모카라떼  :  3000\n",
            "4 유자차  :  2500\n",
            "5 녹차  :  2500\n",
            "6 초코라떼  :  3000\n"
          ]
        }
      ]
    },
    {
      "cell_type": "markdown",
      "source": [
        "## 3. 주문하기\n",
        "\n",
        "손님이 주문할수 있는 method를 만들겠습니다.\n",
        "\n",
        "class에 적용하기전 def 함수만으로 작성해보기"
      ],
      "metadata": {
        "id": "bVVR-EHdVVMX"
      }
    },
    {
      "cell_type": "code",
      "source": [
        "def menu_select(menu, price):\n",
        "    # n 에 음료번호를 받아야 하기에 0으로 초기화를 해주었습니다.\n",
        "    n = 0\n",
        "    # menu에 있는 번호만 입력해야 하기에 조건 반복문으로 1보다 크면 안되고, menu의 요소갯수보다 작아야 한다고 정의\n",
        "    while n < 1 or len(menu) < n:\n",
        "        n = int(input(\"음료 번호를 입력하세요 : \"))\n",
        "\n",
        "        # 메뉴판에 있는 음료 번호일 때\n",
        "        if 1 <= n and n <= len(menu):\n",
        "            price_sum = price[n-1] # 선택 음료의 가격\n",
        "            print(n, menu[n-1], ':', price[n-1], '원') # 메뉴\n",
        "\n",
        "        else:\n",
        "            print(\"없는 메뉴입니다. 다시 주문 부탁드립니다.\")\n",
        "menu_select(menu, price)"
      ],
      "metadata": {
        "colab": {
          "base_uri": "https://localhost:8080/"
        },
        "id": "9-GYW0beVVRC",
        "outputId": "cbc2fb3d-82b9-4f3b-c4f4-0d5993e253d5"
      },
      "execution_count": 19,
      "outputs": [
        {
          "output_type": "stream",
          "name": "stdout",
          "text": [
            "음료 번호를 입력하세요 : 3\n",
            "3 모카라떼  :  3000 원\n"
          ]
        }
      ]
    },
    {
      "cell_type": "markdown",
      "source": [
        "## 4. 음료 온도 추가하기\n",
        "\n",
        "뜨거운것을 좋아하는 사람도있고, 차가운것을 좋아하는 사람도 있기에 음료를 어떤 온도로 받을 것인지 추가설정하기"
      ],
      "metadata": {
        "id": "JLGBX5rEVVVz"
      }
    },
    {
      "cell_type": "code",
      "source": [
        "def menu_select(menu, price):\n",
        "    n = 0\n",
        "    while n < 1 or len(menu) < n :\n",
        "        n = int(input(\"음료 번호를 입력하세요 : \"))\n",
        "        if 1 <= n and n <= len(menu):\n",
        "            price_sum = price[n-1]\n",
        "            print(n, menu[n-1], ':', price[n-1], '원')\n",
        "        else:\n",
        "            print(\"없는 메뉴입니다. 다시 주문 부탁드립니다.\")\n",
        "    t = 0\n",
        "    while t != 1 and t != 2: # 1이나 2를 입력할 때까지 물어보기\n",
        "        t = int(input(\"뜨거운 음료는 1을, 차가운 음료는 2를 입력하세요 : \"))\n",
        "        if t == 1: # 1일경우 뜨거운 이라는 문자열이 추가로 붙습니다.\n",
        "            temp = \"뜨거운\"\n",
        "        elif t == 2: # 2일경우 차가운 이라는 문자열이 추가로 붙습니다.\n",
        "            temp = \"차가운\"\n",
        "        else:\n",
        "            print(\"1과 2중 하나를 입력하세요.\\n\") # 조건반복문으로 1과 2가 아니면 다시 while문이 돕니다.\n",
        "    print('주문 음료 -', temp, menu[n-1], ' : ', price[n-1], '원')  # 온도 속성을 추가한 주문 결과 출력\n",
        "menu_select(menu, price)"
      ],
      "metadata": {
        "colab": {
          "base_uri": "https://localhost:8080/"
        },
        "id": "2XHQXGDbVVas",
        "outputId": "d66673d7-26fa-4f88-c441-d756bd62ab49"
      },
      "execution_count": 21,
      "outputs": [
        {
          "output_type": "stream",
          "name": "stdout",
          "text": [
            "음료 번호를 입력하세요 : 3\n",
            "3 모카라떼  :  3000 원\n",
            "뜨거운 음료는 1을, 차가운 음료는 2를 입력하세요 : 2\n",
            "주문 음료 -  차가운 모카라떼  :  3000 원\n"
          ]
        }
      ]
    },
    {
      "cell_type": "code",
      "source": [
        "# 추가 된 부분\n",
        "'''\n",
        "t = 0\n",
        "    while t != 1 and t != 2: # 1이나 2를 입력할 때까지 물어보기\n",
        "        t = int(input(\"뜨거운 음료는 1을, 차가운 음료는 2를 입력하세요 : \"))\n",
        "        if t == 1: # 1일경우 뜨거운 이라는 문자열이 추가로 붙습니다.\n",
        "            temp = \"뜨거운\"\n",
        "        elif t == 2: # 2일경우 차가운 이라는 문자열이 추가로 붙습니다.\n",
        "            temp = \"차가운\"\n",
        "        else:\n",
        "            print(\"1과 2중 하나를 입력하세요.\\n\") # 조건반복문으로 1과 2가 아니면 다시 while문이 돕니다.\n",
        "'''"
      ],
      "metadata": {
        "id": "f932LUFupxMc"
      },
      "execution_count": null,
      "outputs": []
    },
    {
      "cell_type": "markdown",
      "source": [
        "## 5. 추가 주문하기\n",
        "\n",
        "음료를 추가로 주문할수 있게 while문 사용하기\n",
        "\n",
        "추가 주문을 할것인지, 지불할것인지"
      ],
      "metadata": {
        "id": "zsmSKwDoVVff"
      }
    },
    {
      "cell_type": "code",
      "source": [
        "def menu_select(menu, price):\n",
        "    order_menu = [] # 추가로 받게되면 리스트에 주문받은것을 추가하여 시킨 메뉴를 보여주기 위해\n",
        "    order_price = [] # 추가로 받게되면 리스트에 주문받은것에 대한 금액을 추가하여 가격을 보여주기 위해\n",
        "\n",
        "    n = 0\n",
        "    while n < 1 or len(menu) < n :\n",
        "        n = int(input(\"음료 번호를 입력하세요 : \"))\n",
        "        if 1 <= n and n <= len(menu):\n",
        "            price_sum = price[n-1]\n",
        "            print(n, menu[n-1], ':', price[n-1], '원')\n",
        "        else:\n",
        "            print(\"없는 메뉴입니다. 다시 주문 부탁드립니다.\")\n",
        "    t = 0\n",
        "    while t != 1 and t != 2:\n",
        "        t = int(input(\"뜨거운 음료는 1을, 차가운 음료는 2를 입력하세요 : \"))\n",
        "        if t == 1:\n",
        "            temp = \"뜨거운\"\n",
        "        elif t == 2:\n",
        "            temp = \"차가운\"\n",
        "        else:\n",
        "            print(\"1과 2중 하나를 입력하세요.\\n\")\n",
        "    order_menu.append(temp + ' ' +menu[n-1]) # 처음 음료 주문을 받았을때 order_menu에 메뉴 추가\n",
        "    order_price.append(price[n-1]) # 처음 음료 주문을 받았을때 order_pirce에 금액 추가\n",
        "    print(temp, menu[n-1], ':', price[n-1],'원')\n",
        "\n",
        "    while n != 0: # 0(지불)을 선택하기 전에는 밑에 코드가 반복됩니다.\n",
        "        print()\n",
        "        n = int(input(\"추가 주문은 음료 번호를, 지불 하실경우 0을 눌러주세요 : \"))\n",
        "        if n > 0 and n < len(menu) +1:\n",
        "            t = 0\n",
        "            while t != 1 and t != 2:\n",
        "                t = int(input(\"뜨거운 음료는 1을, 차가운 음료는 2를 입력하세요 : \"))\n",
        "                if t == 1:\n",
        "                    temp = \"뜨거운\"\n",
        "                elif t ==2:\n",
        "                    temp = \"차가운\"\n",
        "                else:\n",
        "                    print(\"1과 2 중 하나를 입력하세요. \\n\")\n",
        "            order_menu.append(temp + ' ' + menu[n-1]) # order_menu 리스트에 메뉴 추가해주기\n",
        "            order_price.append(price[n-1]) # order_price 리스트에 금액 추가해주기\n",
        "            price_sum += price[n-1] # 위에 price_sum을 만들어 줬기에 거기에 금액을 더해줍니다.\n",
        "            print('추가 주문 음료', temp, menu[n-1], ':', price[n-1], '원\\n', '합계 :',price_sum, '원')\n",
        "        else:\n",
        "            if n == 0:\n",
        "                print(\"주문이 완료되었습니다.\")\n",
        "                print(order_menu, order_price) # 확인을 위한 리스트 출력\n",
        "                print(f\"총 가격은 {price_sum}원 입니다.\")\n",
        "            else:\n",
        "                print(\"없는 메뉴입니다. 다시 주문 해주세요.\")\n",
        "menu_select(menu, price)"
      ],
      "metadata": {
        "colab": {
          "base_uri": "https://localhost:8080/"
        },
        "id": "TM0xsQdSVVkN",
        "outputId": "d7d5a747-9b92-43bd-d150-4e8bc6781cd0"
      },
      "execution_count": 24,
      "outputs": [
        {
          "output_type": "stream",
          "name": "stdout",
          "text": [
            "음료 번호를 입력하세요 : 3\n",
            "3 모카라떼 : 3000 원\n",
            "뜨거운 음료는 1을, 차가운 음료는 2를 입력하세요 : 2\n",
            "차가운 모카라떼 : 3000 원\n",
            "\n",
            "추가 주문은 음료 번호를, 지불 하실경우 0을 눌러주세요 : 1\n",
            "뜨거운 음료는 1을, 차가운 음료는 2를 입력하세요 : 2\n",
            "추가 주문 음료 차가운 아메리카노 : 2000 원\n",
            " 합계 : 5000 원\n",
            "\n",
            "추가 주문은 음료 번호를, 지불 하실경우 0을 눌러주세요 : 0\n",
            "주문이 완료되었습니다.\n",
            "['차가운 모카라떼', '차가운 아메리카노'] [3000, 2000]\n",
            "총 가격은 5000원 입니다.\n"
          ]
        }
      ]
    },
    {
      "cell_type": "code",
      "source": [
        "# 추가된 부분\n",
        "'''\n",
        "처음 음료를 받는 부분 하단\n",
        "order_menu.append(temp + ' ' +menu[n-1]) # 처음 음료 주문을 받았을때 order_menu에 메뉴 추가\n",
        "order_price.append(price[n-1]) # 처음 음료 주문을 받았을때 order_pirce에 금액 추가\n",
        "'''\n",
        "\n",
        "'''\n",
        "처음 주문을 받고나서 밑에 부분 추가 작성 및 수정\n",
        "while n != 0: # 0(지불)을 선택하기 전에는 밑에 코드가 반복됩니다.\n",
        "        print()\n",
        "        n = int(input(\"추가 주문은 음료 번호를, 지불 하실경우 0을 눌러주세요 : \"))\n",
        "        if n > 0 and n < len(menu) +1:\n",
        "            t = 0\n",
        "            while t != 1 and t != 2:\n",
        "                t = int(input(\"뜨거운 음료는 1을, 차가운 음료는 2를 입력하세요 : \"))\n",
        "                if t == 1:\n",
        "                    temp = \"뜨거운\"\n",
        "                elif t ==2:\n",
        "                    temp = \"차가운\"\n",
        "                else:\n",
        "                    print(\"1과 2 중 하나를 입력하세요. \\n\")\n",
        "            order_menu.append(temp + ' ' + menu[n-1]) # order_menu 리스트에 메뉴 추가해주기\n",
        "            order_price.append(price[n-1]) # order_price 리스트에 금액 추가해주기\n",
        "            price_sum += price[n-1] # 위에 price_sum을 만들어 줬기에 거기에 금액을 더해줍니다.\n",
        "else:\n",
        "            if n == 0:\n",
        "                print(\"주문이 완료되었습니다.\")\n",
        "                print(order_menu, order_price) # 확인을 위한 리스트 출력\n",
        "                print(f\"총 가격은 {price_sum}원 입니다.\")\n",
        "            else:\n",
        "                print(\"없는 메뉴입니다. 다시 주문 해주세요.\")\n",
        "'''"
      ],
      "metadata": {
        "id": "Ep8W5QIMqRIz"
      },
      "execution_count": null,
      "outputs": []
    },
    {
      "cell_type": "markdown",
      "source": [
        "## 6. 지불하기 함수 만들기"
      ],
      "metadata": {
        "id": "inUhDw1zrdFS"
      }
    },
    {
      "cell_type": "code",
      "source": [
        "def pay():\n",
        "    payment = input(\"결제방식을 선택해주세요 \\n현금결제를 원하시면 1 또는 cash 라고 입력해주세요 \\n\" +\\\n",
        "                    \"카드결제를 원하시면 2 또는 card 라고 입력해주세요\\n\"+\\\n",
        "                    \"결제 취소를 원하시면 3 또는 cancel을 입력해주세요\\n\")\n",
        "    if payment == 1 or payment == 'cash': # 입력값이 1 또는 cash 일 경우 출력\n",
        "        print(\"현금 결제를 선택하셨습니다. 직원을 호출하겠습니다.\")\n",
        "    elif payment == 2 or payment == 'card': # 입력값이 2 또는 card 일 경우 출력\n",
        "        print(\"카드 결제를 선택하셨습니다. IC칩 카드를 올바르게 꽂아주세요\")\n",
        "    elif payment == 3 or payment == 'cancel': # 입력값이 3 또는 cancel 일 경우 출력\n",
        "        print(\"결제를 취소하셨습니다. 감사합니다 또 이용해주세요.\")\n",
        "    else:\n",
        "        print(\"잘못 누르셨습니다. 다시 선택해주세요\") # 입력값이 다른경우 출력\n",
        "        pay()# 재귀함수로 다시 pay() 함수 호출\n",
        "pay = pay()\n",
        "pay"
      ],
      "metadata": {
        "colab": {
          "base_uri": "https://localhost:8080/"
        },
        "id": "wUZEooWOt_Vf",
        "outputId": "0a33e591-72c3-43f1-c0c4-9d2008f01aff"
      },
      "execution_count": 41,
      "outputs": [
        {
          "output_type": "stream",
          "name": "stdout",
          "text": [
            "결제방식을 선택해주세요 \n",
            "현금결제를 원하시면 1 또는 cash 라고 입력해주세요 \n",
            "카드결제를 원하시면 2 또는 card 라고 입력해주세요\n",
            "결제 취소를 원하시면 3 또는 cancel을 입력해주세요\n",
            "cancel\n",
            "결제를 취소하셨습니다. 감사합니다 또 이용해주세요.\n"
          ]
        }
      ]
    },
    {
      "cell_type": "markdown",
      "source": [
        "## 7. 영수증 출력 함수 만들기"
      ],
      "metadata": {
        "id": "dzo9bJXsy8Tl"
      }
    },
    {
      "cell_type": "code",
      "source": [
        "def table(payment,order_menu, order_price):\n",
        "        if payment != '3' and payment != 'cancel': # 결제 취소일 경우에는 영수증을 만들지 않습니다.\n",
        "            print('⟝' + '-' * 30 + '⟞')\n",
        "            for i in range(5):\n",
        "                print('|' + ' ' * 31 + '|')\n",
        "\n",
        "    # 주문 상품명 : 해당 금액\n",
        "            for i in range(len(order_menu)):\n",
        "                print(order_menu[i], ' : ', order_price[i])\n",
        "\n",
        "            print('합계 금액 :', sum(order_price))\n",
        "\n",
        "    # 외곽\n",
        "            for i in range(5):\n",
        "                print('|' + ' ' * 31+ '|')\n",
        "            print('⟝' + '-' * 30 + '⟞')"
      ],
      "metadata": {
        "id": "sey1S9fcvIm5"
      },
      "execution_count": 53,
      "outputs": []
    },
    {
      "cell_type": "code",
      "source": [
        "payment = (input(\"치세요\\n\"))\n",
        "order_menu = ['모카라떼','녹차']\n",
        "order_price = [3000, 2500]\n",
        "table(payment, order_menu, order_price)"
      ],
      "metadata": {
        "colab": {
          "base_uri": "https://localhost:8080/"
        },
        "id": "ZIjMsERpwEGT",
        "outputId": "b28b24c4-d9ed-46c2-e558-c9bb2577dc4c"
      },
      "execution_count": 63,
      "outputs": [
        {
          "output_type": "stream",
          "name": "stdout",
          "text": [
            "치세요\n",
            "2\n",
            "⟝------------------------------⟞\n",
            "|                               |\n",
            "|                               |\n",
            "|                               |\n",
            "|                               |\n",
            "|                               |\n",
            "모카라떼  :  3000\n",
            "녹차  :  2500\n",
            "합계 금액 : 5500\n",
            "|                               |\n",
            "|                               |\n",
            "|                               |\n",
            "|                               |\n",
            "|                               |\n",
            "⟝------------------------------⟞\n"
          ]
        }
      ]
    },
    {
      "cell_type": "code",
      "source": [
        "# 결제 취소일 경우에는 아무것도 출력 되지 않음\n",
        "payment = '3'\n",
        "order_menu = ['모카라떼','녹차']\n",
        "order_price = [3000, 2500]\n",
        "table(payment, order_menu, order_price)"
      ],
      "metadata": {
        "id": "tADOPNcKwj3t"
      },
      "execution_count": 61,
      "outputs": []
    },
    {
      "cell_type": "code",
      "source": [
        "# 결제 취소일 경우에는 아무것도 출력 되지 않음\n",
        "payment = 'cancel'\n",
        "order_menu = ['모카라떼','녹차']\n",
        "order_price = [3000, 2500]\n",
        "table(payment, order_menu, order_price)"
      ],
      "metadata": {
        "id": "OL8azoZ8wp3S"
      },
      "execution_count": 62,
      "outputs": []
    },
    {
      "cell_type": "markdown",
      "source": [
        "## 8. 모든함수 합쳐서 완성본 만들기\n",
        "\n",
        "class 형식으로 만들어서 method들 합치기\n",
        "\n",
        "인자값을 직접받는것이 아닌 self로 받아서 처리해야합니다."
      ],
      "metadata": {
        "id": "r69FTjiPy3wJ"
      }
    },
    {
      "cell_type": "code",
      "source": [
        "class Kiosk:\n",
        "    def __init__(self):\n",
        "        self.menu = ['아메리카노', '커피라떼', '모카라떼', '유자차', '녹차', '초코라떼']\n",
        "        self.price = [2000, 3000, 3000, 2500, 2500, 3000]\n",
        "    def menu_print(self):\n",
        "        for i in range(len(self.menu)):\n",
        "            print(i+1, self.menu[i], ':', self.price[i], '원')\n",
        "    def menu_select(self):\n",
        "        self.order_menu = []\n",
        "        self.order_price = []\n",
        "\n",
        "        n = 0\n",
        "        while n < 1 or len(self.menu) < n :\n",
        "            n = int(input(\"원하시는 음료를 번호로 입력해주세요 : \"))\n",
        "            if 1 <= n and n <= len(self.menu):\n",
        "                self.price_sum = self.price[n-1]\n",
        "            else:\n",
        "                print(\"없는 메뉴입니다. 다시 주문해주세요.\")\n",
        "\n",
        "        t = 0\n",
        "        while t != 1 and t != 2:\n",
        "            t = int(input(\"뜨거운 음료는 1을, 차가운 음료는 2를 입력해주세요 : \"))\n",
        "            if t == 1:\n",
        "                self.temp = \"뜨거운\"\n",
        "            elif t == 2:\n",
        "                self.temp = \"차가운\"\n",
        "            else:\n",
        "                print(\"1과 2중 하나를 입력하세요\\n\")\n",
        "\n",
        "        self.order_menu.append(self.temp + ' ' + self.menu[n-1])\n",
        "        self.order_price.append(self.price[n-1])\n",
        "        print(self.temp, self.menu[n-1], ':', self.price[n-1],'원')\n",
        "\n",
        "        while n != 0:\n",
        "            print()\n",
        "            n = int(input(\"추가 주문은 음료 번호를, 지불은 0을 누르세요\\n\"))\n",
        "            if n > 0 and n < len(self.menu)+1 :\n",
        "                t = 0\n",
        "                while t != 1 and t != 2:\n",
        "                    t = int(input(\"뜨거운 음료는 1을, 차가운 음료는 2를 입력하세요 : \"))\n",
        "                    if t == 1:\n",
        "                        self.temp = \"뜨거운\"\n",
        "                    elif t == 2:\n",
        "                        self.temp = \"차가운\"\n",
        "                    else:\n",
        "                        print(\"1과 2중 하나를 입력하세요\\n\")\n",
        "                self.order_menu.append(self.temp + ' ' + self.menu[n-1])\n",
        "                self.order_price.append(self.price[n-1])\n",
        "                self.price_sum += self.price[n-1]\n",
        "                print('추가 주문 음료', self.temp, self.menu[n-1], ':', self.price[n-1])\n",
        "                print(\"-\" * 25 +\\\n",
        "                      \"\\n\"+\\\n",
        "                      \"지금까지 주문한 음료\\n\"+\\\n",
        "                      f\"\\n{self.full_order_list()}\\n\"+\\\n",
        "                      f\"합계 : {self.price_sum}원\\n\"+\\\n",
        "                      \"-\" * 25+\\\n",
        "                      \"\\n\")\n",
        "            else:\n",
        "                if n == 0:\n",
        "                    print(\"주문이 완료 되었습니다.\")\n",
        "                    print(f\"메뉴{self.order_menu}, 금액{self.order_price}\")\n",
        "                    print(f\"총 가격은 {self.price_sum}원 입니다.\")\n",
        "                else:\n",
        "                    print(\"없는 메뉴입니다. 다시 선택해주세요\")\n",
        "    def full_order_list(self):\n",
        "        order_menu_list = []\n",
        "        for item in zip(self.order_menu, self.order_price):\n",
        "            order_menu_list.append(item)\n",
        "        result = ''\n",
        "        for menu, price in order_menu_list:\n",
        "            result += f'{menu} : {price}원\\n'\n",
        "        return result\n",
        "\n",
        "    def pay(self):\n",
        "        self.payment = input(\"결제방식을 선택해주세요\\n\"+\\\n",
        "                             \"현금결제를 원하시면 1 또는 cash 라고 입력해주세요\\n\"+\\\n",
        "                             \"카드결제를 원하시면 2 또는 card 라고 입력해주세요\\n\"+\\\n",
        "                             \"결제 취소를 원하시면 3 또는 cancel을 입력해주세요\\n\")\n",
        "        if self.payment == '1' or self.payment == 'cash':\n",
        "            print(\"현금 결제를 선택하셨습니다. 직원을 호출하겠습니다.\")\n",
        "        elif self.payment == '2' or self.payment == 'card':\n",
        "            print(\"카드 결제를 선택하셨습니다. IC칩 카드를 올바르게 꽂아주세요\")\n",
        "        elif self.payment == '3' or self.payment == 'cancel':\n",
        "            print(\"결제를 취소하셨습니다. 감사합니다 또 이용해주세요.\")\n",
        "        else:\n",
        "            print(\"잘못 누르셨습니다. 다시 선택해주세요\")\n",
        "            self.pay()\n",
        "    def table(self):\n",
        "        if self.payment != '3' and self.payment != 'cancel':\n",
        "            print('⟝' + '-' * 30 + '⟞')\n",
        "            for i in range(5):\n",
        "                print('|' + ' ' * 31 + '|')\n",
        "\n",
        "    # 주문 상품명 : 해당 금액\n",
        "            for i in range(len(self.order_menu)):\n",
        "                print(self.order_menu[i], ' : ', self.order_price[i])\n",
        "\n",
        "            print('합계 금액 :', sum(self.order_price))\n",
        "\n",
        "    # 외곽\n",
        "            for i in range(5):\n",
        "                print('|' + ' ' * 31+ '|')\n",
        "            print('⟝' + '-' * 30 + '⟞')"
      ],
      "metadata": {
        "id": "NavUDBEhwuWI"
      },
      "execution_count": 72,
      "outputs": []
    },
    {
      "cell_type": "code",
      "source": [
        "a = Kiosk()  # 객체 생성\n",
        "a.menu_print()  # 메뉴 출력\n",
        "a.menu_select()  # 주문\n",
        "a.pay()  # 지불\n",
        "a.table()  # 주문표 출력"
      ],
      "metadata": {
        "colab": {
          "base_uri": "https://localhost:8080/"
        },
        "id": "MnevGN2Y45Wt",
        "outputId": "27c6fbfb-89b5-4416-861c-816e2f9edd9f"
      },
      "execution_count": 73,
      "outputs": [
        {
          "output_type": "stream",
          "name": "stdout",
          "text": [
            "1 아메리카노 : 2000 원\n",
            "2 커피라떼 : 3000 원\n",
            "3 모카라떼 : 3000 원\n",
            "4 유자차 : 2500 원\n",
            "5 녹차 : 2500 원\n",
            "6 초코라떼 : 3000 원\n",
            "원하시는 음료를 번호로 입력해주세요 : 3\n",
            "뜨거운 음료는 1을, 차가운 음료는 2를 입력해주세요 : 22\n",
            "1과 2중 하나를 입력하세요\n",
            "\n",
            "뜨거운 음료는 1을, 차가운 음료는 2를 입력해주세요 : 2\n",
            "차가운 모카라떼 : 3000 원\n",
            "\n",
            "추가 주문은 음료 번호를, 지불은 0을 누르세요\n",
            "1\n",
            "뜨거운 음료는 1을, 차가운 음료는 2를 입력하세요 : 2\n",
            "추가 주문 음료 차가운 아메리카노 : 2000\n",
            "-------------------------\n",
            "지금까지 주문한 음료\n",
            "\n",
            "차가운 모카라떼 : 3000원\n",
            "차가운 아메리카노 : 2000원\n",
            "\n",
            "합계 : 5000원\n",
            "-------------------------\n",
            "\n",
            "\n",
            "추가 주문은 음료 번호를, 지불은 0을 누르세요\n",
            "0\n",
            "주문이 완료 되었습니다.\n",
            "메뉴['차가운 모카라떼', '차가운 아메리카노'], 금액[3000, 2000]\n",
            "총 가격은 5000원 입니다.\n",
            "결제방식을 선택해주세요\n",
            "현금결제를 원하시면 1 또는 cash 라고 입력해주세요\n",
            "카드결제를 원하시면 2 또는 card 라고 입력해주세요\n",
            "결제 취소를 원하시면 3 또는 cancel을 입력해주세요\n",
            "4\n",
            "잘못 누르셨습니다. 다시 선택해주세요\n",
            "결제방식을 선택해주세요\n",
            "현금결제를 원하시면 1 또는 cash 라고 입력해주세요\n",
            "카드결제를 원하시면 2 또는 card 라고 입력해주세요\n",
            "결제 취소를 원하시면 3 또는 cancel을 입력해주세요\n",
            "3\n",
            "결제를 취소하셨습니다. 감사합니다 또 이용해주세요.\n"
          ]
        }
      ]
    },
    {
      "cell_type": "markdown",
      "source": [
        "# 회고"
      ],
      "metadata": {
        "id": "bkQ13cuv6Q2z"
      }
    },
    {
      "cell_type": "markdown",
      "source": [
        "## K\n",
        "\n",
        "- 다양한 검색을 하면서, 재귀함수 및 프로젝트 문제 외에 코드를 추가 작성하였음"
      ],
      "metadata": {
        "id": "7fdqW0gA6TKX"
      }
    },
    {
      "cell_type": "markdown",
      "source": [
        "## P\n",
        "- 들여쓰기 문제로 인한 시간 지연된 점\n",
        "- 군데 군데 코드를 넣은 점\n",
        "- 원리가 이해가 안되었던 상황이 많았음"
      ],
      "metadata": {
        "id": "FdTnAWLh6TFd"
      }
    },
    {
      "cell_type": "markdown",
      "source": [
        "## T\n",
        "- 코드를 다시 정리하여 들여쓰기를 확인하였음\n",
        "- 군데 군데 코드 넣었던 부분을 올바른 위치로 정렬하여 가독성을 높였음\n",
        "- 구글링 및 챗봇을 이용하여 원리를 이해 하였음"
      ],
      "metadata": {
        "id": "v53oF3E76TAk"
      }
    },
    {
      "cell_type": "markdown",
      "source": [
        "---\n",
        "## **프로젝트를 마치면서**\n",
        "\n",
        "처음에는 왜 정리를 다시해서 프로젝트를 제출하라 하는지 이해가 안되었으나\n",
        "\n",
        "다시 정리하면서 노드에 썼던 코드보다 더 정갈하고 깔끔하게 코드 작성이 가능했고\n",
        "\n",
        "문제점들이 눈에 들어왔습니다. 다양한 시도를 해보고 그것을 결과로 볼수있었고\n",
        "\n",
        "또한 class객체로 만드는것이 아닌 따로 함수를 하나하나 만들어서 출력해봐서\n",
        "\n",
        "더욱 원리에 대해 이해가 되었던 것 같습니다."
      ],
      "metadata": {
        "id": "5SZT7tJD7MSo"
      }
    }
  ]
}