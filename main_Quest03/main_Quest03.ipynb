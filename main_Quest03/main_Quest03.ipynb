{
  "nbformat": 4,
  "nbformat_minor": 0,
  "metadata": {
    "colab": {
      "provenance": [],
      "toc_visible": true,
      "authorship_tag": "ABX9TyO757oLMCG+5rtcZ2Un/Zuu",
      "include_colab_link": true
    },
    "kernelspec": {
      "name": "python3",
      "display_name": "Python 3"
    },
    "language_info": {
      "name": "python"
    },
    "accelerator": "TPU"
  },
  "cells": [
    {
      "cell_type": "markdown",
      "metadata": {
        "id": "view-in-github",
        "colab_type": "text"
      },
      "source": [
        "<a href=\"https://colab.research.google.com/github/choikanghoon/Aiffel_study/blob/master/main_Quest03/main_Quest03.ipynb\" target=\"_parent\"><img src=\"https://colab.research.google.com/assets/colab-badge.svg\" alt=\"Open In Colab\"/></a>"
      ]
    },
    {
      "cell_type": "code",
      "source": [
        "import tensorflow as tf\n",
        "from tensorflow import keras\n",
        "\n",
        "import numpy as np\n",
        "import matplotlib.pyplot as plt\n",
        "\n",
        "print(tf.__version__) # Tensorflow의 버전 출력\n",
        "\n",
        "mnist = keras.datasets.mnist\n",
        "\n",
        "(x_train, y_train), (x_test, y_test) = mnist.load_data()\n",
        "\n",
        "print(len(x_train)) # x_train 배열의 크기를 출력\n",
        "\n",
        "plt.imshow(x_train[1], cmap=plt.cm.binary)\n",
        "plt.show() # x_train의 1번째 이미지를 출력\n",
        "\n",
        "print(y_train[1]) # x_train[1]에 대응하는 실제 숫자값\n",
        "\n",
        "index = 10000\n",
        "plt.imshow(x_train[index], cmap=plt.cm.binary)\n",
        "plt.show()\n",
        "print(f'{index} 번째 이미지의 숫자는 바로 {y_train[index]} 입니다.')\n",
        "\n",
        "print(x_train.shape) # x_train 이미지의 (count, x, y)\n",
        "print(x_test.shape)"
      ],
      "metadata": {
        "colab": {
          "base_uri": "https://localhost:8080/",
          "height": 990
        },
        "id": "rNHWBT1pXtuT",
        "outputId": "6a8fa3b9-8633-46fb-fa54-589ad517ef30"
      },
      "execution_count": 1,
      "outputs": [
        {
          "output_type": "stream",
          "name": "stdout",
          "text": [
            "2.15.0\n",
            "Downloading data from https://storage.googleapis.com/tensorflow/tf-keras-datasets/mnist.npz\n",
            "11490434/11490434 [==============================] - 0s 0us/step\n",
            "60000\n"
          ]
        },
        {
          "output_type": "display_data",
          "data": {
            "text/plain": [
              "<Figure size 640x480 with 1 Axes>"
            ],
            "image/png": "[encoded data removed]"
          },
          "metadata": {}
        },
        {
          "output_type": "stream",
          "name": "stdout",
          "text": [
            "0\n"
          ]
        },
        {
          "output_type": "display_data",
          "data": {
            "text/plain": [
              "<Figure size 640x480 with 1 Axes>"
            ],
            "image/png": "[encoded data removed]"
          },
          "metadata": {}
        },
        {
          "output_type": "stream",
          "name": "stdout",
          "text": [
            "10000 번째 이미지의 숫자는 바로 3 입니다.\n",
            "(60000, 28, 28)\n",
            "(10000, 28, 28)\n"
          ]
        }
      ]
    },
    {
      "cell_type": "code",
      "source": [
        "print(f'최소값: {np.min(x_train)} 최대값: {np.max(x_train)}')\n",
        "\n",
        "x_train_norm, x_test_norm = x_train / 255.0, x_test / 255.0\n",
        "print(f'최소값: {np.min(x_train_norm)} 최대값: {np.max(x_train_norm)}')"
      ],
      "metadata": {
        "colab": {
          "base_uri": "https://localhost:8080/"
        },
        "id": "sWay57-EXvJu",
        "outputId": "740b504c-02d4-4328-e185-180620480f1e"
      },
      "execution_count": 2,
      "outputs": [
        {
          "output_type": "stream",
          "name": "stdout",
          "text": [
            "최소값: 0 최대값: 255\n",
            "최소값: 0.0 최대값: 1.0\n"
          ]
        }
      ]
    },
    {
      "cell_type": "code",
      "source": [
        "model = keras.models.Sequential()\n",
        "model.add(keras.layers.Conv2D(16, (3,3), activation='relu', input_shape=(28,28,1)))\n",
        "model.add(keras.layers.MaxPool2D(2,2))\n",
        "model.add(keras.layers.Conv2D(32, (3,3), activation='relu'))\n",
        "model.add(keras.layers.MaxPooling2D((2,2)))\n",
        "model.add(keras.layers.Flatten())\n",
        "model.add(keras.layers.Dense(32, activation='relu'))\n",
        "model.add(keras.layers.Dense(10, activation='softmax'))\n",
        "\n",
        "print(f'Model에 추가된 Layer 개수: {len(model.layers)}')\n",
        "\n",
        "model.summary()"
      ],
      "metadata": {
        "colab": {
          "base_uri": "https://localhost:8080/"
        },
        "id": "bV7-4TIaXwYl",
        "outputId": "463097fb-87e1-43fa-da0a-c32b8363730c"
      },
      "execution_count": 3,
      "outputs": [
        {
          "output_type": "stream",
          "name": "stdout",
          "text": [
            "Model에 추가된 Layer 개수: 7\n",
            "Model: \"sequential\"\n",
            "_________________________________________________________________\n",
            " Layer (type)                Output Shape              Param #   \n",
            "=================================================================\n",
            " conv2d (Conv2D)             (None, 26, 26, 16)        160       \n",
            "                                                                 \n",
            " max_pooling2d (MaxPooling2  (None, 13, 13, 16)        0         \n",
            " D)                                                              \n",
            "                                                                 \n",
            " conv2d_1 (Conv2D)           (None, 11, 11, 32)        4640      \n",
            "                                                                 \n",
            " max_pooling2d_1 (MaxPoolin  (None, 5, 5, 32)          0         \n",
            " g2D)                                                            \n",
            "                                                                 \n",
            " flatten (Flatten)           (None, 800)               0         \n",
            "                                                                 \n",
            " dense (Dense)               (None, 32)                25632     \n",
            "                                                                 \n",
            " dense_1 (Dense)             (None, 10)                330       \n",
            "                                                                 \n",
            "=================================================================\n",
            "Total params: 30762 (120.16 KB)\n",
            "Trainable params: 30762 (120.16 KB)\n",
            "Non-trainable params: 0 (0.00 Byte)\n",
            "_________________________________________________________________\n"
          ]
        }
      ]
    },
    {
      "cell_type": "code",
      "source": [
        "print(\"Before Reshape - x_train_norm shape: {}\".format(x_train_norm.shape))\n",
        "print(\"Before Reshape - x_test_norm shape: {}\".format(x_test_norm.shape))\n",
        "\n",
        "x_train_reshaped=x_train_norm.reshape( -1, 28, 28, 1)  # 데이터갯수에 -1을 쓰면 reshape시 자동계산됩니다.\n",
        "x_test_reshaped=x_test_norm.reshape( -1, 28, 28, 1)\n",
        "\n",
        "print(\"After Reshape - x_train_reshaped shape: {}\".format(x_train_reshaped.shape))\n",
        "print(\"After Reshape - x_test_reshaped shape: {}\".format(x_test_reshaped.shape))\n",
        "\n",
        "model.compile(optimizer='adam',\n",
        "             loss='sparse_categorical_crossentropy',\n",
        "             metrics=['accuracy'])\n",
        "\n",
        "model.fit(x_train_reshaped, y_train, epochs=10)"
      ],
      "metadata": {
        "colab": {
          "base_uri": "https://localhost:8080/"
        },
        "id": "Mls1_3TbXxzJ",
        "outputId": "8f27d3f3-6493-4948-d629-1365b329538c"
      },
      "execution_count": 4,
      "outputs": [
        {
          "output_type": "stream",
          "name": "stdout",
          "text": [
            "Before Reshape - x_train_norm shape: (60000, 28, 28)\n",
            "Before Reshape - x_test_norm shape: (10000, 28, 28)\n",
            "After Reshape - x_train_reshaped shape: (60000, 28, 28, 1)\n",
            "After Reshape - x_test_reshaped shape: (10000, 28, 28, 1)\n",
            "Epoch 1/10\n",
            "1875/1875 [==============================] - 48s 24ms/step - loss: 0.1890 - accuracy: 0.9431\n",
            "Epoch 2/10\n",
            "1875/1875 [==============================] - 29s 15ms/step - loss: 0.0654 - accuracy: 0.9800\n",
            "Epoch 3/10\n",
            "1875/1875 [==============================] - 29s 16ms/step - loss: 0.0485 - accuracy: 0.9849\n",
            "Epoch 4/10\n",
            "1875/1875 [==============================] - 29s 15ms/step - loss: 0.0379 - accuracy: 0.9883\n",
            "Epoch 5/10\n",
            "1875/1875 [==============================] - 30s 16ms/step - loss: 0.0313 - accuracy: 0.9898\n",
            "Epoch 6/10\n",
            "1875/1875 [==============================] - 30s 16ms/step - loss: 0.0259 - accuracy: 0.9917\n",
            "Epoch 7/10\n",
            "1875/1875 [==============================] - 29s 15ms/step - loss: 0.0220 - accuracy: 0.9925\n",
            "Epoch 8/10\n",
            "1875/1875 [==============================] - 29s 15ms/step - loss: 0.0176 - accuracy: 0.9943\n",
            "Epoch 9/10\n",
            "1875/1875 [==============================] - 29s 15ms/step - loss: 0.0158 - accuracy: 0.9947\n",
            "Epoch 10/10\n",
            "1875/1875 [==============================] - 29s 15ms/step - loss: 0.0137 - accuracy: 0.9956\n"
          ]
        },
        {
          "output_type": "execute_result",
          "data": {
            "text/plain": [
              "<keras.src.callbacks.History at 0x7c380c3a31c0>"
            ]
          },
          "metadata": {},
          "execution_count": 4
        }
      ]
    },
    {
      "cell_type": "code",
      "source": [
        "test_loss, test_accuracy = model.evaluate(x_test_reshaped,y_test, verbose=2)\n",
        "print(\"test_loss: {} \".format(test_loss))\n",
        "print(\"test_accuracy: {}\".format(test_accuracy))"
      ],
      "metadata": {
        "colab": {
          "base_uri": "https://localhost:8080/"
        },
        "id": "hsxWOjgRXy-l",
        "outputId": "1562f4cf-2b4d-40e8-bb24-4b2478f7a73b"
      },
      "execution_count": 5,
      "outputs": [
        {
          "output_type": "stream",
          "name": "stdout",
          "text": [
            "313/313 - 2s - loss: 0.0422 - accuracy: 0.9879 - 2s/epoch - 6ms/step\n",
            "test_loss: 0.042241230607032776 \n",
            "test_accuracy: 0.9879000186920166\n"
          ]
        }
      ]
    },
    {
      "cell_type": "code",
      "source": [
        "predicted_result = model.predict(x_test_reshaped)  # model이 추론한 확률값.\n",
        "predicted_labels = np.argmax(predicted_result, axis=1)\n",
        "\n",
        "idx = 0  # 1번째 x_test를 살펴보자.\n",
        "print('model.predict() 결과 : ', predicted_result[idx])\n",
        "print('model이 추론한 가장 가능성이 높은 결과 : ', predicted_labels[idx])\n",
        "print('실제 데이터의 라벨 : ', y_test[idx])\n",
        "\n",
        "# 실제 데이터 확인\n",
        "plt.imshow(x_test[idx],cmap=plt.cm.binary)\n",
        "plt.show()"
      ],
      "metadata": {
        "colab": {
          "base_uri": "https://localhost:8080/",
          "height": 522
        },
        "id": "HefjBwUVX0qN",
        "outputId": "a72b9345-ec52-44ce-d876-31e59b95fd67"
      },
      "execution_count": 6,
      "outputs": [
        {
          "output_type": "stream",
          "name": "stdout",
          "text": [
            "313/313 [==============================] - 2s 5ms/step\n",
            "model.predict() 결과 :  [8.0693251e-11 6.9685029e-11 1.4030171e-07 4.2930268e-09 2.5692534e-10\n",
            " 6.0593458e-10 1.0835981e-16 9.9999970e-01 5.7957966e-08 6.2146710e-09]\n",
            "model이 추론한 가장 가능성이 높은 결과 :  7\n",
            "실제 데이터의 라벨 :  7\n"
          ]
        },
        {
          "output_type": "display_data",
          "data": {
            "text/plain": [
              "<Figure size 640x480 with 1 Axes>"
            ],
            "image/png": "[encoded data removed]"
          },
          "metadata": {}
        }
      ]
    },
    {
      "cell_type": "code",
      "source": [
        "import random\n",
        "wrong_predict_list=[]\n",
        "for i, _ in enumerate(predicted_labels):\n",
        "    # i번째 test_labels과 y_test이 다른 경우만 모아 봅시다.\n",
        "    if predicted_labels[i] != y_test[i]:\n",
        "        wrong_predict_list.append(i)\n",
        "\n",
        "# wrong_predict_list 에서 랜덤하게 5개만 뽑아봅시다.\n",
        "samples = random.choices(population=wrong_predict_list, k=5)\n",
        "\n",
        "for n in samples:\n",
        "    print(\"예측확률분포: \" + str(predicted_result[n]))\n",
        "    print(\"라벨: \" + str(y_test[n]) + \", 예측결과: \" + str(predicted_labels[n]))\n",
        "    plt.imshow(x_test[n], cmap=plt.cm.binary)\n",
        "    plt.show()"
      ],
      "metadata": {
        "colab": {
          "base_uri": "https://localhost:8080/",
          "height": 1000
        },
        "id": "JqDBuaKdX11P",
        "outputId": "b96cecfe-15af-4956-f057-c920dda99f18"
      },
      "execution_count": 7,
      "outputs": [
        {
          "output_type": "stream",
          "name": "stdout",
          "text": [
            "예측확률분포: [5.0844717e-01 3.0595277e-12 3.5738683e-08 5.6543038e-05 3.2757772e-08\n",
            " 7.0956786e-04 4.9071014e-01 1.8647061e-08 6.8556263e-05 7.7989998e-06]\n",
            "라벨: 6, 예측결과: 0\n"
          ]
        },
        {
          "output_type": "display_data",
          "data": {
            "text/plain": [
              "<Figure size 640x480 with 1 Axes>"
            ],
            "image/png": "[encoded data removed]"
          },
          "metadata": {}
        },
        {
          "output_type": "stream",
          "name": "stdout",
          "text": [
            "예측확률분포: [9.9884421e-01 2.9316680e-09 6.0751256e-07 3.7579733e-07 2.6141058e-14\n",
            " 5.8466585e-06 6.9081500e-05 5.2350956e-08 1.0797706e-03 8.6907498e-08]\n",
            "라벨: 8, 예측결과: 0\n"
          ]
        },
        {
          "output_type": "display_data",
          "data": {
            "text/plain": [
              "<Figure size 640x480 with 1 Axes>"
            ],
            "image/png": "[encoded data removed]"
          },
          "metadata": {}
        },
        {
          "output_type": "stream",
          "name": "stdout",
          "text": [
            "예측확률분포: [7.0188285e-08 5.5647231e-08 2.7711515e-09 9.3186742e-01 2.1852651e-09\n",
            " 6.7706950e-02 3.8607826e-07 4.9038373e-09 4.2323364e-04 1.8968241e-06]\n",
            "라벨: 5, 예측결과: 3\n"
          ]
        },
        {
          "output_type": "display_data",
          "data": {
            "text/plain": [
              "<Figure size 640x480 with 1 Axes>"
            ],
            "image/png": "[encoded data removed]"
          },
          "metadata": {}
        },
        {
          "output_type": "stream",
          "name": "stdout",
          "text": [
            "예측확률분포: [7.7221048e-05 7.8701717e-04 3.1675046e-07 6.6685070e-06 1.1923357e-01\n",
            " 8.4741960e-06 6.3239415e-05 4.2817465e-04 4.2252937e-06 8.7939107e-01]\n",
            "라벨: 4, 예측결과: 9\n"
          ]
        },
        {
          "output_type": "display_data",
          "data": {
            "text/plain": [
              "<Figure size 640x480 with 1 Axes>"
            ],
            "image/png": "[encoded data removed]"
          },
          "metadata": {}
        },
        {
          "output_type": "stream",
          "name": "stdout",
          "text": [
            "예측확률분포: [8.4675069e-04 1.3440737e-07 3.6684573e-02 2.6891247e-04 2.2059957e-07\n",
            " 1.9647018e-04 3.6123886e-08 6.8035638e-01 2.8143561e-01 2.1084708e-04]\n",
            "라벨: 8, 예측결과: 7\n"
          ]
        },
        {
          "output_type": "display_data",
          "data": {
            "text/plain": [
              "<Figure size 640x480 with 1 Axes>"
            ],
            "image/png": "[encoded data removed]"
          },
          "metadata": {}
        }
      ]
    },
    {
      "cell_type": "markdown",
      "source": [
        "# 가위바위보 데이터 분류기"
      ],
      "metadata": {
        "id": "BrFdXXW8ClJc"
      }
    },
    {
      "cell_type": "markdown",
      "source": [
        "## 텐서플루오와 넘파이 버전확인하기"
      ],
      "metadata": {
        "id": "gpKaajuMCqKg"
      }
    },
    {
      "cell_type": "code",
      "source": [
        "import tensorflow as tf\n",
        "import numpy as np\n",
        "\n",
        "print(tf.__version__)\n",
        "print(np.__version__)"
      ],
      "metadata": {
        "colab": {
          "base_uri": "https://localhost:8080/"
        },
        "id": "FN67OP5oDwYK",
        "outputId": "c305ad94-08fc-4d43-f300-d0e68d4b4812"
      },
      "execution_count": 1,
      "outputs": [
        {
          "output_type": "stream",
          "name": "stdout",
          "text": [
            "2.12.0\n",
            "1.23.5\n"
          ]
        }
      ]
    },
    {
      "cell_type": "code",
      "execution_count": 2,
      "metadata": {
        "colab": {
          "base_uri": "https://localhost:8080/"
        },
        "id": "0tYt5A-EDsIO",
        "outputId": "008a18dd-ac9f-4861-8dc3-5eccaa285a0d"
      },
      "outputs": [
        {
          "output_type": "stream",
          "name": "stdout",
          "text": [
            "Mounted at /content/drive\n"
          ]
        }
      ],
      "source": [
        "from google.colab import drive\n",
        "drive.mount('/content/drive')"
      ]
    },
    {
      "cell_type": "code",
      "source": [
        "from PIL import Image\n",
        "import glob\n",
        "import os\n",
        "\n",
        "print(\"PIL 라이브러리 import 완료!\")"
      ],
      "metadata": {
        "colab": {
          "base_uri": "https://localhost:8080/"
        },
        "id": "U0DxLqkr95ER",
        "outputId": "9a685002-e72d-49c0-ea1c-799569cd315f"
      },
      "execution_count": 3,
      "outputs": [
        {
          "output_type": "stream",
          "name": "stdout",
          "text": [
            "PIL 라이브러리 import 완료!\n"
          ]
        }
      ]
    },
    {
      "cell_type": "code",
      "source": [
        "from PIL import Image\n",
        "import os\n",
        "import glob\n",
        "\n",
        "def resize_images(img_path):\n",
        "    images = glob.glob(img_path + \"/*.jpg\")\n",
        "\n",
        "    print(len(images), \" images to be resized.\")\n",
        "\n",
        "    # 파일마다 모두 28x28 사이즈로 바꾸어 저장합니다.\n",
        "    target_size = (28, 28)\n",
        "    for img in images:\n",
        "        old_img = Image.open(img)\n",
        "        new_img = old_img.resize(target_size, Image.ANTIALIAS)\n",
        "        new_img.save(img, \"JPEG\")\n",
        "\n",
        "    print(len(images), \" images resized.\")\n",
        "\n",
        "# 가위 이미지가 저장된 디렉토리 아래의 모든 jpg 파일을 읽어들여서\n",
        "scissor_path = \"/content/drive/MyDrive/아이펠과정/Main_Quest03/scissor\"\n",
        "paper_path = \"/content/drive/MyDrive/아이펠과정/Main_Quest03/paper\"\n",
        "rock_path = \"/content/drive/MyDrive/아이펠과정/Main_Quest03/rock\"\n",
        "\n",
        "resize_images(scissor_path)\n",
        "resize_images(paper_path)\n",
        "resize_images(rock_path)"
      ],
      "metadata": {
        "colab": {
          "base_uri": "https://localhost:8080/"
        },
        "id": "bzmpBNHb-Ghi",
        "outputId": "727a45c6-a54e-4ccd-8e90-dc4a1da23ae4"
      },
      "execution_count": 4,
      "outputs": [
        {
          "output_type": "stream",
          "name": "stdout",
          "text": [
            "100  images to be resized.\n"
          ]
        },
        {
          "output_type": "stream",
          "name": "stderr",
          "text": [
            "<ipython-input-4-a613a8774f03>:14: DeprecationWarning: ANTIALIAS is deprecated and will be removed in Pillow 10 (2023-07-01). Use LANCZOS or Resampling.LANCZOS instead.\n",
            "  new_img = old_img.resize(target_size, Image.ANTIALIAS)\n"
          ]
        },
        {
          "output_type": "stream",
          "name": "stdout",
          "text": [
            "100  images resized.\n",
            "100  images to be resized.\n",
            "100  images resized.\n",
            "100  images to be resized.\n",
            "100  images resized.\n"
          ]
        }
      ]
    },
    {
      "cell_type": "code",
      "source": [
        "import numpy as np\n",
        "\n",
        "def load_data(img_path, number_of_data=300):  # 가위바위보 이미지 개수 총합에 주의하세요.\n",
        "    # 가위 : 0, 바위 : 1, 보 : 2\n",
        "    img_size=28\n",
        "    color=3\n",
        "    #이미지 데이터와 라벨(가위 : 0, 바위 : 1, 보 : 2) 데이터를 담을 행렬(matrix) 영역을 생성합니다.\n",
        "    imgs=np.zeros(number_of_data*img_size*img_size*color,dtype=np.int32).reshape(number_of_data,img_size,img_size,color)\n",
        "    labels=np.zeros(number_of_data,dtype=np.int32)\n",
        "\n",
        "    idx=0\n",
        "    for file in glob.iglob(img_path+'/scissor/*.jpg'):\n",
        "        img = np.array(Image.open(file),dtype=np.int32)\n",
        "        imgs[idx,:,:,:]=img    # 데이터 영역에 이미지 행렬을 복사\n",
        "        labels[idx]=0   # 가위 : 0\n",
        "        idx=idx+1\n",
        "\n",
        "    for file in glob.iglob(img_path+'/rock/*.jpg'):\n",
        "        img = np.array(Image.open(file),dtype=np.int32)\n",
        "        imgs[idx,:,:,:]=img    # 데이터 영역에 이미지 행렬을 복사\n",
        "        labels[idx]=1   # 바위 : 1\n",
        "        idx=idx+1\n",
        "\n",
        "    for file in glob.iglob(img_path+'/paper/*.jpg'):\n",
        "        img = np.array(Image.open(file),dtype=np.int32)\n",
        "        imgs[idx,:,:,:]=img    # 데이터 영역에 이미지 행렬을 복사\n",
        "        labels[idx]=2   # 보 : 2\n",
        "        idx=idx+1\n",
        "\n",
        "    print(\"학습데이터(x_train)의 이미지 개수는\", idx,\"입니다.\")\n",
        "    return imgs, labels\n",
        "\n",
        "image_dir_path = \"/content/drive/MyDrive/아이펠과정/Main_Quest03/\"\n",
        "(x_train, y_train)=load_data(image_dir_path)\n",
        "x_train_norm = x_train/255.0   # 입력은 0~1 사이의 값으로 정규화\n",
        "\n",
        "print(\"x_train shape: {}\".format(x_train.shape))\n",
        "print(\"y_train shape: {}\".format(y_train.shape))"
      ],
      "metadata": {
        "colab": {
          "base_uri": "https://localhost:8080/"
        },
        "id": "6fYl4JPR-JcT",
        "outputId": "8a34f086-4a93-4090-fe70-0d69ae029d85"
      },
      "execution_count": 5,
      "outputs": [
        {
          "output_type": "stream",
          "name": "stdout",
          "text": [
            "학습데이터(x_train)의 이미지 개수는 300 입니다.\n",
            "x_train shape: (300, 28, 28, 3)\n",
            "y_train shape: (300,)\n"
          ]
        }
      ]
    },
    {
      "cell_type": "code",
      "source": [
        "plt.imshow(x_train[0])\n",
        "print('라벨: ', y_train[0])"
      ],
      "metadata": {
        "colab": {
          "base_uri": "https://localhost:8080/",
          "height": 448
        },
        "id": "B89-lfaW_ouP",
        "outputId": "f8a49a4f-cc2b-4f8b-d3b6-1ee128bb8ceb"
      },
      "execution_count": 38,
      "outputs": [
        {
          "output_type": "stream",
          "name": "stdout",
          "text": [
            "라벨:  0\n"
          ]
        },
        {
          "output_type": "display_data",
          "data": {
            "text/plain": [
              "<Figure size 640x480 with 1 Axes>"
            ],
            "image/png": "[encoded data removed]"
          },
          "metadata": {}
        }
      ]
    },
    {
      "cell_type": "code",
      "source": [
        "plt.imshow(x_train[140])\n",
        "print('라벨: ', y_train[140])"
      ],
      "metadata": {
        "colab": {
          "base_uri": "https://localhost:8080/",
          "height": 448
        },
        "id": "Rp32yBWABrmh",
        "outputId": "87a668cb-ab08-4897-8f49-dc493e7a5e22"
      },
      "execution_count": 39,
      "outputs": [
        {
          "output_type": "stream",
          "name": "stdout",
          "text": [
            "라벨:  1\n"
          ]
        },
        {
          "output_type": "display_data",
          "data": {
            "text/plain": [
              "<Figure size 640x480 with 1 Axes>"
            ],
            "image/png": "[encoded data removed]"
          },
          "metadata": {}
        }
      ]
    },
    {
      "cell_type": "code",
      "source": [],
      "metadata": {
        "id": "AEzlFQ3Weggd"
      },
      "execution_count": 15,
      "outputs": []
    },
    {
      "cell_type": "markdown",
      "source": [
        "### 민기님 파일 복사"
      ],
      "metadata": {
        "id": "VLaUMHbtefoO"
      }
    },
    {
      "cell_type": "code",
      "source": [
        "import os\n",
        "import shutil\n",
        "\n",
        "def copy_folder(src_dir, dst_dir):\n",
        "    \"\"\"\n",
        "    src_dir 디렉토리를 dst_dir 디렉토리에 복사합니다.\n",
        "\n",
        "    Args:\n",
        "        src_dir: 복사할 디렉토리 경로\n",
        "        dst_dir: 복사할 디렉토리의 대상 경로\n",
        "\n",
        "    Returns:\n",
        "        None\n",
        "    \"\"\"\n",
        "\n",
        "    if not os.path.isdir(src_dir):\n",
        "        raise FileNotFoundError(f\"{src_dir} 디렉토리가 존재하지 않습니다.\")\n",
        "    if os.path.isdir(dst_dir):\n",
        "        raise FileExistsError(f\"{dst_dir} 디렉토리가 이미 존재합니다.\")\n",
        "\n",
        "    os.makedirs(dst_dir, exist_ok=True)\n",
        "\n",
        "    for file in os.listdir(src_dir):\n",
        "        src_file_path = os.path.join(src_dir, file)\n",
        "        dst_file_path = os.path.join(dst_dir, file)\n",
        "\n",
        "        if os.path.isfile(src_file_path):\n",
        "            shutil.copy2(src_file_path, dst_file_path)\n",
        "        elif os.path.isdir(src_file_path):\n",
        "            copy_folder(src_file_path, dst_file_path)\n",
        "\n",
        "\n",
        "if __name__ == \"__main__\":\n",
        "    src_dir = \"/content/drive/MyDrive/가위바위보 데이터셋/김민기(총 304개)\"\n",
        "    dst_dir = \"/content/drive/MyDrive/아이펠과정/Main_Quest03/김민기(총 304개)\"\n",
        "\n",
        "    copy_folder(src_dir, dst_dir)"
      ],
      "metadata": {
        "colab": {
          "base_uri": "https://localhost:8080/",
          "height": 349
        },
        "id": "kJ-tc7BzO2sj",
        "outputId": "44a98e26-76f3-4a60-85b6-80a6d5ad77e7"
      },
      "execution_count": 132,
      "outputs": [
        {
          "output_type": "error",
          "ename": "FileExistsError",
          "evalue": "ignored",
          "traceback": [
            "\u001b[0;31m---------------------------------------------------------------------------\u001b[0m",
            "\u001b[0;31mFileExistsError\u001b[0m                           Traceback (most recent call last)",
            "\u001b[0;32m<ipython-input-132-2d089f20f234>\u001b[0m in \u001b[0;36m<cell line: 33>\u001b[0;34m()\u001b[0m\n\u001b[1;32m     35\u001b[0m     \u001b[0mdst_dir\u001b[0m \u001b[0;34m=\u001b[0m \u001b[0;34m\"/content/drive/MyDrive/아이펠과정/Main_Quest03/김민기(총 304개)\"\u001b[0m\u001b[0;34m\u001b[0m\u001b[0;34m\u001b[0m\u001b[0m\n\u001b[1;32m     36\u001b[0m \u001b[0;34m\u001b[0m\u001b[0m\n\u001b[0;32m---> 37\u001b[0;31m     \u001b[0mcopy_folder\u001b[0m\u001b[0;34m(\u001b[0m\u001b[0msrc_dir\u001b[0m\u001b[0;34m,\u001b[0m \u001b[0mdst_dir\u001b[0m\u001b[0;34m)\u001b[0m\u001b[0;34m\u001b[0m\u001b[0;34m\u001b[0m\u001b[0m\n\u001b[0m",
            "\u001b[0;32m<ipython-input-132-2d089f20f234>\u001b[0m in \u001b[0;36mcopy_folder\u001b[0;34m(src_dir, dst_dir)\u001b[0m\n\u001b[1;32m     17\u001b[0m         \u001b[0;32mraise\u001b[0m \u001b[0mFileNotFoundError\u001b[0m\u001b[0;34m(\u001b[0m\u001b[0;34mf\"{src_dir} 디렉토리가 존재하지 않습니다.\"\u001b[0m\u001b[0;34m)\u001b[0m\u001b[0;34m\u001b[0m\u001b[0;34m\u001b[0m\u001b[0m\n\u001b[1;32m     18\u001b[0m     \u001b[0;32mif\u001b[0m \u001b[0mos\u001b[0m\u001b[0;34m.\u001b[0m\u001b[0mpath\u001b[0m\u001b[0;34m.\u001b[0m\u001b[0misdir\u001b[0m\u001b[0;34m(\u001b[0m\u001b[0mdst_dir\u001b[0m\u001b[0;34m)\u001b[0m\u001b[0;34m:\u001b[0m\u001b[0;34m\u001b[0m\u001b[0;34m\u001b[0m\u001b[0m\n\u001b[0;32m---> 19\u001b[0;31m         \u001b[0;32mraise\u001b[0m \u001b[0mFileExistsError\u001b[0m\u001b[0;34m(\u001b[0m\u001b[0;34mf\"{dst_dir} 디렉토리가 이미 존재합니다.\"\u001b[0m\u001b[0;34m)\u001b[0m\u001b[0;34m\u001b[0m\u001b[0;34m\u001b[0m\u001b[0m\n\u001b[0m\u001b[1;32m     20\u001b[0m \u001b[0;34m\u001b[0m\u001b[0m\n\u001b[1;32m     21\u001b[0m     \u001b[0mos\u001b[0m\u001b[0;34m.\u001b[0m\u001b[0mmakedirs\u001b[0m\u001b[0;34m(\u001b[0m\u001b[0mdst_dir\u001b[0m\u001b[0;34m,\u001b[0m \u001b[0mexist_ok\u001b[0m\u001b[0;34m=\u001b[0m\u001b[0;32mTrue\u001b[0m\u001b[0;34m)\u001b[0m\u001b[0;34m\u001b[0m\u001b[0;34m\u001b[0m\u001b[0m\n",
            "\u001b[0;31mFileExistsError\u001b[0m: /content/drive/MyDrive/아이펠과정/Main_Quest03/김민기(총 304개) 디렉토리가 이미 존재합니다."
          ]
        }
      ]
    },
    {
      "cell_type": "markdown",
      "source": [
        "## 다시 진행"
      ],
      "metadata": {
        "id": "RebDAExzek6H"
      }
    },
    {
      "cell_type": "code",
      "source": [
        "from PIL import Image\n",
        "import os\n",
        "import glob\n",
        "\n",
        "def resize_images(img_path):\n",
        "    images = glob.glob(img_path + \"/*.jpg\")\n",
        "\n",
        "    print(len(images), \" images to be resized.\")\n",
        "\n",
        "    # 파일마다 모두 28x28 사이즈로 바꾸어 저장합니다.\n",
        "    target_size = (28, 28)\n",
        "    for img in images:\n",
        "        old_img = Image.open(img)\n",
        "        new_img = old_img.resize(target_size, Image.ANTIALIAS)\n",
        "        new_img.save(img, \"JPEG\")\n",
        "\n",
        "    print(len(images), \" images resized.\")\n",
        "\n",
        "# 가위 이미지가 저장된 디렉토리 아래의 모든 jpg 파일을 읽어들여서\n",
        "scissor_path = '/content/drive/MyDrive/아이펠과정/Main_Quest03/김민기(총 304개)/scissor'\n",
        "paper_path = '/content/drive/MyDrive/아이펠과정/Main_Quest03/김민기(총 304개)/paper'\n",
        "rock_path = '/content/drive/MyDrive/아이펠과정/Main_Quest03/김민기(총 304개)/rock'\n",
        "\n",
        "resize_images(scissor_path)\n",
        "resize_images(paper_path)\n",
        "resize_images(rock_path)"
      ],
      "metadata": {
        "colab": {
          "base_uri": "https://localhost:8080/"
        },
        "id": "zBvDcu4pSKCM",
        "outputId": "af09ae0d-96f2-44fe-b915-24f11633bfed"
      },
      "execution_count": 6,
      "outputs": [
        {
          "output_type": "stream",
          "name": "stdout",
          "text": [
            "103  images to be resized.\n"
          ]
        },
        {
          "output_type": "stream",
          "name": "stderr",
          "text": [
            "<ipython-input-6-84d8f1c6a089>:14: DeprecationWarning: ANTIALIAS is deprecated and will be removed in Pillow 10 (2023-07-01). Use LANCZOS or Resampling.LANCZOS instead.\n",
            "  new_img = old_img.resize(target_size, Image.ANTIALIAS)\n"
          ]
        },
        {
          "output_type": "stream",
          "name": "stdout",
          "text": [
            "103  images resized.\n",
            "101  images to be resized.\n",
            "101  images resized.\n",
            "100  images to be resized.\n",
            "100  images resized.\n"
          ]
        }
      ]
    },
    {
      "cell_type": "code",
      "source": [
        "import numpy as np\n",
        "\n",
        "def load_data(img_path, number_of_data=304):  # 가위바위보 이미지 개수 총합에 주의하세요.\n",
        "    # 가위 : 0, 바위 : 1, 보 : 2\n",
        "    img_size=28\n",
        "    color=3\n",
        "    #이미지 데이터와 라벨(가위 : 0, 바위 : 1, 보 : 2) 데이터를 담을 행렬(matrix) 영역을 생성합니다.\n",
        "    imgs=np.zeros(number_of_data*img_size*img_size*color,dtype=np.int32).reshape(number_of_data,img_size,img_size,color)\n",
        "    labels=np.zeros(number_of_data,dtype=np.int32)\n",
        "\n",
        "    idx=0\n",
        "    for file in glob.iglob(img_path+'/scissor/*.jpg'):\n",
        "        img = np.array(Image.open(file),dtype=np.int32)\n",
        "        imgs[idx,:,:,:]=img    # 데이터 영역에 이미지 행렬을 복사\n",
        "        labels[idx]=0   # 가위 : 0\n",
        "        idx=idx+1\n",
        "\n",
        "    for file in glob.iglob(img_path+'/rock/*.jpg'):\n",
        "        img = np.array(Image.open(file),dtype=np.int32)\n",
        "        imgs[idx,:,:,:]=img    # 데이터 영역에 이미지 행렬을 복사\n",
        "        labels[idx]=1   # 바위 : 1\n",
        "        idx=idx+1\n",
        "\n",
        "    for file in glob.iglob(img_path+'/paper/*.jpg'):\n",
        "        img = np.array(Image.open(file),dtype=np.int32)\n",
        "        imgs[idx,:,:,:]=img    # 데이터 영역에 이미지 행렬을 복사\n",
        "        labels[idx]=2   # 보 : 2\n",
        "        idx=idx+1\n",
        "\n",
        "    print(\"학습데이터(x_train)의 이미지 개수는\", idx,\"입니다.\")\n",
        "    return imgs, labels\n",
        "\n",
        "image_dir_path = \"/content/drive/MyDrive/아이펠과정/Main_Quest03/김민기(총 304개)\"\n",
        "(x_train2, y_train2)=load_data(image_dir_path)\n",
        "x_train2_norm = x_train2/255.0   # 입력은 0~1 사이의 값으로 정규화\n",
        "\n",
        "print(\"x_train shape: {}\".format(x_train2.shape))\n",
        "print(\"y_train shape: {}\".format(y_train2.shape))"
      ],
      "metadata": {
        "colab": {
          "base_uri": "https://localhost:8080/"
        },
        "id": "enn5VjqTRb_r",
        "outputId": "c23f19a6-251f-4aec-d214-269e2362868f"
      },
      "execution_count": 7,
      "outputs": [
        {
          "output_type": "stream",
          "name": "stdout",
          "text": [
            "학습데이터(x_train)의 이미지 개수는 304 입니다.\n",
            "x_train shape: (304, 28, 28, 3)\n",
            "y_train shape: (304,)\n"
          ]
        }
      ]
    },
    {
      "cell_type": "markdown",
      "source": [
        "## 강훈, 민기 파일 concatenate로 합치기"
      ],
      "metadata": {
        "id": "J0kFNWgSm_SL"
      }
    },
    {
      "cell_type": "code",
      "source": [
        "x_train_merged = np.concatenate((x_train, x_train2), axis=0)"
      ],
      "metadata": {
        "id": "wUlfSzxqTvez"
      },
      "execution_count": 8,
      "outputs": []
    },
    {
      "cell_type": "code",
      "source": [
        "y_train_merged = np.concatenate((y_train, y_train2), axis=0)"
      ],
      "metadata": {
        "id": "CGB8HtpTT9iV"
      },
      "execution_count": 9,
      "outputs": []
    },
    {
      "cell_type": "code",
      "source": [
        "x_train_merged_norm = np.concatenate((x_train_norm, x_train2_norm), axis=0)"
      ],
      "metadata": {
        "id": "E8TWO5YdUWvW"
      },
      "execution_count": 10,
      "outputs": []
    },
    {
      "cell_type": "markdown",
      "source": [
        "## 스플릿으로 데이터셋 나누기"
      ],
      "metadata": {
        "id": "5shTEOdZnD_i"
      }
    },
    {
      "cell_type": "code",
      "source": [
        "from sklearn.model_selection import train_test_split\n",
        "X_train, X_test, y_train, y_test = train_test_split(x_train_merged_norm, y_train_merged, test_size=0.2, random_state=42)"
      ],
      "metadata": {
        "id": "h_IDATJeVoHS"
      },
      "execution_count": 11,
      "outputs": []
    },
    {
      "cell_type": "markdown",
      "source": [
        "## 모델 학습 시키기"
      ],
      "metadata": {
        "id": "bi8_d6Z-nJQt"
      }
    },
    {
      "cell_type": "code",
      "source": [
        "import tensorflow as tf\n",
        "from tensorflow import keras\n",
        "import numpy as np\n",
        "\n",
        "n_channel_1=32\n",
        "n_channel_2=64\n",
        "n_channel_3=128\n",
        "n_dense=256\n",
        "n_train_epoch=15\n",
        "\n",
        "model=keras.models.Sequential()\n",
        "model.add(keras.layers.Conv2D(n_channel_1, (3,3), activation='relu', input_shape=(28,28,3)))\n",
        "model.add(keras.layers.MaxPool2D(2,2))\n",
        "model.add(keras.layers.Conv2D(n_channel_2, (3,3), activation='relu'))\n",
        "model.add(keras.layers.MaxPooling2D((2,2)))\n",
        "model.add(keras.layers.Conv2D(n_channel_3, (3,3), activation='relu'))\n",
        "model.add(keras.layers.MaxPooling2D((2,2)))\n",
        "model.add(keras.layers.Flatten())\n",
        "model.add(keras.layers.Dense(n_dense, activation='relu'))\n",
        "\n",
        "model.add(keras.layers.Dropout(0.2))\n",
        "model.add(keras.layers.Dense(3, activation='softmax'))\n",
        "\n",
        "\n",
        "model.summary()\n",
        "\n",
        "# 모델 학습\n",
        "model.compile(optimizer='adam',\n",
        "             loss='sparse_categorical_crossentropy',\n",
        "             metrics=['accuracy'])\n",
        "\n",
        "model.fit(X_train, y_train, validation_data=(X_test, y_test),epochs=n_train_epoch) # val_loss, val_accuracy 확인하기\n",
        "\n",
        "\n"
      ],
      "metadata": {
        "colab": {
          "base_uri": "https://localhost:8080/"
        },
        "id": "wDeYk1W8VXJe",
        "outputId": "05c55230-4a05-4c45-877a-f5d53c021dd1"
      },
      "execution_count": 12,
      "outputs": [
        {
          "output_type": "stream",
          "name": "stdout",
          "text": [
            "Model: \"sequential\"\n",
            "_________________________________________________________________\n",
            " Layer (type)                Output Shape              Param #   \n",
            "=================================================================\n",
            " conv2d (Conv2D)             (None, 26, 26, 32)        896       \n",
            "                                                                 \n",
            " max_pooling2d (MaxPooling2D  (None, 13, 13, 32)       0         \n",
            " )                                                               \n",
            "                                                                 \n",
            " conv2d_1 (Conv2D)           (None, 11, 11, 64)        18496     \n",
            "                                                                 \n",
            " max_pooling2d_1 (MaxPooling  (None, 5, 5, 64)         0         \n",
            " 2D)                                                             \n",
            "                                                                 \n",
            " conv2d_2 (Conv2D)           (None, 3, 3, 128)         73856     \n",
            "                                                                 \n",
            " max_pooling2d_2 (MaxPooling  (None, 1, 1, 128)        0         \n",
            " 2D)                                                             \n",
            "                                                                 \n",
            " flatten (Flatten)           (None, 128)               0         \n",
            "                                                                 \n",
            " dense (Dense)               (None, 256)               33024     \n",
            "                                                                 \n",
            " dropout (Dropout)           (None, 256)               0         \n",
            "                                                                 \n",
            " dense_1 (Dense)             (None, 3)                 771       \n",
            "                                                                 \n",
            "=================================================================\n",
            "Total params: 127,043\n",
            "Trainable params: 127,043\n",
            "Non-trainable params: 0\n",
            "_________________________________________________________________\n",
            "Epoch 1/15\n",
            "16/16 [==============================] - 2s 58ms/step - loss: 1.1027 - accuracy: 0.4120 - val_loss: 1.0912 - val_accuracy: 0.3471\n",
            "Epoch 2/15\n",
            "16/16 [==============================] - 1s 40ms/step - loss: 1.0737 - accuracy: 0.4700 - val_loss: 1.0509 - val_accuracy: 0.6612\n",
            "Epoch 3/15\n",
            "16/16 [==============================] - 1s 41ms/step - loss: 1.0094 - accuracy: 0.5238 - val_loss: 0.9771 - val_accuracy: 0.3802\n",
            "Epoch 4/15\n",
            "16/16 [==============================] - 1s 40ms/step - loss: 0.9090 - accuracy: 0.5549 - val_loss: 0.7981 - val_accuracy: 0.6364\n",
            "Epoch 5/15\n",
            "16/16 [==============================] - 1s 40ms/step - loss: 0.7548 - accuracy: 0.6667 - val_loss: 0.6789 - val_accuracy: 0.6942\n",
            "Epoch 6/15\n",
            "16/16 [==============================] - 1s 38ms/step - loss: 0.6621 - accuracy: 0.7308 - val_loss: 0.6000 - val_accuracy: 0.7107\n",
            "Epoch 7/15\n",
            "16/16 [==============================] - 1s 39ms/step - loss: 0.5045 - accuracy: 0.8406 - val_loss: 0.4524 - val_accuracy: 0.8017\n",
            "Epoch 8/15\n",
            "16/16 [==============================] - 1s 39ms/step - loss: 0.4908 - accuracy: 0.8012 - val_loss: 0.3417 - val_accuracy: 0.9091\n",
            "Epoch 9/15\n",
            "16/16 [==============================] - 1s 39ms/step - loss: 0.3537 - accuracy: 0.9193 - val_loss: 0.2752 - val_accuracy: 0.9174\n",
            "Epoch 10/15\n",
            "16/16 [==============================] - 1s 56ms/step - loss: 0.2920 - accuracy: 0.9068 - val_loss: 0.3053 - val_accuracy: 0.8926\n",
            "Epoch 11/15\n",
            "16/16 [==============================] - 1s 74ms/step - loss: 0.2863 - accuracy: 0.9089 - val_loss: 0.2869 - val_accuracy: 0.9008\n",
            "Epoch 12/15\n",
            "16/16 [==============================] - 1s 71ms/step - loss: 0.2117 - accuracy: 0.9441 - val_loss: 0.1729 - val_accuracy: 0.9339\n",
            "Epoch 13/15\n",
            "16/16 [==============================] - 1s 72ms/step - loss: 0.1891 - accuracy: 0.9524 - val_loss: 0.1963 - val_accuracy: 0.9421\n",
            "Epoch 14/15\n",
            "16/16 [==============================] - 1s 71ms/step - loss: 0.1410 - accuracy: 0.9689 - val_loss: 0.1797 - val_accuracy: 0.9339\n",
            "Epoch 15/15\n",
            "16/16 [==============================] - 1s 70ms/step - loss: 0.1480 - accuracy: 0.9565 - val_loss: 0.1141 - val_accuracy: 0.9587\n"
          ]
        },
        {
          "output_type": "execute_result",
          "data": {
            "text/plain": [
              "<keras.callbacks.History at 0x7bd4840fece0>"
            ]
          },
          "metadata": {},
          "execution_count": 12
        }
      ]
    },
    {
      "cell_type": "markdown",
      "source": [
        "시간이없어서 조정값만 계속 바꾸고 넣느니라 조정값을 넣은후의 변화량은 넣지 못했습니다."
      ],
      "metadata": {
        "id": "wG-QNPpOs5aA"
      }
    },
    {
      "cell_type": "markdown",
      "source": [
        "## 레이어층 시각화"
      ],
      "metadata": {
        "id": "dgx-gTRjnWyo"
      }
    },
    {
      "cell_type": "code",
      "source": [
        "from tensorflow.keras.utils import plot_model  # 모델 구조를 시각화하는 데 사용되는 함수 제공\n",
        "plot_model(model, show_shapes=True, expand_nested=True, dpi=60)"
      ],
      "metadata": {
        "colab": {
          "base_uri": "https://localhost:8080/",
          "height": 754
        },
        "id": "uVXPryaqmeLs",
        "outputId": "049c00d6-6a80-45c0-f1e7-ab6a92e21892"
      },
      "execution_count": 13,
      "outputs": [
        {
          "output_type": "execute_result",
          "data": {
            "image/png": "[encoded data removed]",
            "text/plain": [
              "<IPython.core.display.Image object>"
            ]
          },
          "metadata": {},
          "execution_count": 13
        }
      ]
    },
    {
      "cell_type": "markdown",
      "source": [
        "### 선재님 파일 복사"
      ],
      "metadata": {
        "id": "RR7QnLXveaXV"
      }
    },
    {
      "cell_type": "code",
      "source": [
        "import os\n",
        "import shutil\n",
        "\n",
        "def copy_folder(src_dir, dst_dir):\n",
        "    \"\"\"\n",
        "    src_dir 디렉토리를 dst_dir 디렉토리에 복사합니다.\n",
        "\n",
        "    Args:\n",
        "        src_dir: 복사할 디렉토리 경로\n",
        "        dst_dir: 복사할 디렉토리의 대상 경로\n",
        "\n",
        "    Returns:\n",
        "        None\n",
        "    \"\"\"\n",
        "\n",
        "    if not os.path.isdir(src_dir):\n",
        "        raise FileNotFoundError(f\"{src_dir} 디렉토리가 존재하지 않습니다.\")\n",
        "    if os.path.isdir(dst_dir):\n",
        "        raise FileExistsError(f\"{dst_dir} 디렉토리가 이미 존재합니다.\")\n",
        "\n",
        "    os.makedirs(dst_dir, exist_ok=True)\n",
        "\n",
        "    for file in os.listdir(src_dir):\n",
        "        src_file_path = os.path.join(src_dir, file)\n",
        "        dst_file_path = os.path.join(dst_dir, file)\n",
        "\n",
        "        if os.path.isfile(src_file_path):\n",
        "            shutil.copy2(src_file_path, dst_file_path)\n",
        "        elif os.path.isdir(src_file_path):\n",
        "            copy_folder(src_file_path, dst_file_path)\n",
        "\n",
        "\n",
        "if __name__ == \"__main__\":\n",
        "    src_dir = \"/content/drive/MyDrive/가위바위보 데이터셋/이선재(O)\"\n",
        "    dst_dir = \"/content/drive/MyDrive/아이펠과정/Main_Quest03/이선재\"\n",
        "\n",
        "    copy_folder(src_dir, dst_dir)"
      ],
      "metadata": {
        "colab": {
          "base_uri": "https://localhost:8080/",
          "height": 349
        },
        "id": "fu_M2eeGWRhJ",
        "outputId": "bac559c8-6bf3-488b-f6d8-63333b811575"
      },
      "execution_count": 81,
      "outputs": [
        {
          "output_type": "error",
          "ename": "FileExistsError",
          "evalue": "ignored",
          "traceback": [
            "\u001b[0;31m---------------------------------------------------------------------------\u001b[0m",
            "\u001b[0;31mFileExistsError\u001b[0m                           Traceback (most recent call last)",
            "\u001b[0;32m<ipython-input-81-c45ec0793bef>\u001b[0m in \u001b[0;36m<cell line: 33>\u001b[0;34m()\u001b[0m\n\u001b[1;32m     35\u001b[0m     \u001b[0mdst_dir\u001b[0m \u001b[0;34m=\u001b[0m \u001b[0;34m\"/content/drive/MyDrive/아이펠과정/Main_Quest03/이선재\"\u001b[0m\u001b[0;34m\u001b[0m\u001b[0;34m\u001b[0m\u001b[0m\n\u001b[1;32m     36\u001b[0m \u001b[0;34m\u001b[0m\u001b[0m\n\u001b[0;32m---> 37\u001b[0;31m     \u001b[0mcopy_folder\u001b[0m\u001b[0;34m(\u001b[0m\u001b[0msrc_dir\u001b[0m\u001b[0;34m,\u001b[0m \u001b[0mdst_dir\u001b[0m\u001b[0;34m)\u001b[0m\u001b[0;34m\u001b[0m\u001b[0;34m\u001b[0m\u001b[0m\n\u001b[0m",
            "\u001b[0;32m<ipython-input-81-c45ec0793bef>\u001b[0m in \u001b[0;36mcopy_folder\u001b[0;34m(src_dir, dst_dir)\u001b[0m\n\u001b[1;32m     17\u001b[0m         \u001b[0;32mraise\u001b[0m \u001b[0mFileNotFoundError\u001b[0m\u001b[0;34m(\u001b[0m\u001b[0;34mf\"{src_dir} 디렉토리가 존재하지 않습니다.\"\u001b[0m\u001b[0;34m)\u001b[0m\u001b[0;34m\u001b[0m\u001b[0;34m\u001b[0m\u001b[0m\n\u001b[1;32m     18\u001b[0m     \u001b[0;32mif\u001b[0m \u001b[0mos\u001b[0m\u001b[0;34m.\u001b[0m\u001b[0mpath\u001b[0m\u001b[0;34m.\u001b[0m\u001b[0misdir\u001b[0m\u001b[0;34m(\u001b[0m\u001b[0mdst_dir\u001b[0m\u001b[0;34m)\u001b[0m\u001b[0;34m:\u001b[0m\u001b[0;34m\u001b[0m\u001b[0;34m\u001b[0m\u001b[0m\n\u001b[0;32m---> 19\u001b[0;31m         \u001b[0;32mraise\u001b[0m \u001b[0mFileExistsError\u001b[0m\u001b[0;34m(\u001b[0m\u001b[0;34mf\"{dst_dir} 디렉토리가 이미 존재합니다.\"\u001b[0m\u001b[0;34m)\u001b[0m\u001b[0;34m\u001b[0m\u001b[0;34m\u001b[0m\u001b[0m\n\u001b[0m\u001b[1;32m     20\u001b[0m \u001b[0;34m\u001b[0m\u001b[0m\n\u001b[1;32m     21\u001b[0m     \u001b[0mos\u001b[0m\u001b[0;34m.\u001b[0m\u001b[0mmakedirs\u001b[0m\u001b[0;34m(\u001b[0m\u001b[0mdst_dir\u001b[0m\u001b[0;34m,\u001b[0m \u001b[0mexist_ok\u001b[0m\u001b[0;34m=\u001b[0m\u001b[0;32mTrue\u001b[0m\u001b[0;34m)\u001b[0m\u001b[0;34m\u001b[0m\u001b[0;34m\u001b[0m\u001b[0m\n",
            "\u001b[0;31mFileExistsError\u001b[0m: /content/drive/MyDrive/아이펠과정/Main_Quest03/이선재 디렉토리가 이미 존재합니다."
          ]
        }
      ]
    },
    {
      "cell_type": "markdown",
      "source": [
        "## 다시 진행"
      ],
      "metadata": {
        "id": "_5yNhWEgecz5"
      }
    },
    {
      "cell_type": "code",
      "source": [
        "from PIL import Image\n",
        "import os\n",
        "import glob\n",
        "\n",
        "def resize_images(img_path):\n",
        "    images = glob.glob(img_path + \"/*.jpg\")\n",
        "\n",
        "    print(len(images), \" images to be resized.\")\n",
        "\n",
        "    # 파일마다 모두 28x28 사이즈로 바꾸어 저장합니다.\n",
        "    target_size = (28, 28)\n",
        "    for img in images:\n",
        "        old_img = Image.open(img)\n",
        "        new_img = old_img.resize(target_size, Image.ANTIALIAS)\n",
        "        new_img.save(img, \"JPEG\")\n",
        "\n",
        "    print(len(images), \" images resized.\")\n",
        "\n",
        "# 가위 이미지가 저장된 디렉토리 아래의 모든 jpg 파일을 읽어들여서\n",
        "scissor_path = '/content/drive/MyDrive/아이펠과정/Main_Quest03/이선재/scissor'\n",
        "paper_path = '/content/drive/MyDrive/아이펠과정/Main_Quest03/이선재/paper'\n",
        "rock_path = '/content/drive/MyDrive/아이펠과정/Main_Quest03/이선재/rock'\n",
        "\n",
        "resize_images(scissor_path)\n",
        "resize_images(paper_path)\n",
        "resize_images(rock_path)"
      ],
      "metadata": {
        "colab": {
          "base_uri": "https://localhost:8080/"
        },
        "id": "9tgUqvsncQ6x",
        "outputId": "56b0446b-3337-4fe4-ba2b-5c8a66cae2f8"
      },
      "execution_count": 82,
      "outputs": [
        {
          "output_type": "stream",
          "name": "stdout",
          "text": [
            "243  images to be resized.\n"
          ]
        },
        {
          "output_type": "stream",
          "name": "stderr",
          "text": [
            "<ipython-input-82-c5508323e25c>:14: DeprecationWarning: ANTIALIAS is deprecated and will be removed in Pillow 10 (2023-07-01). Use LANCZOS or Resampling.LANCZOS instead.\n",
            "  new_img = old_img.resize(target_size, Image.ANTIALIAS)\n"
          ]
        },
        {
          "output_type": "stream",
          "name": "stdout",
          "text": [
            "243  images resized.\n",
            "267  images to be resized.\n",
            "267  images resized.\n",
            "243  images to be resized.\n",
            "243  images resized.\n"
          ]
        }
      ]
    },
    {
      "cell_type": "code",
      "source": [
        "import numpy as np\n",
        "\n",
        "def load_data(img_path, number_of_data=753):  # 가위바위보 이미지 개수 총합에 주의하세요.\n",
        "    # 가위 : 0, 바위 : 1, 보 : 2\n",
        "    img_size=28\n",
        "    color=3\n",
        "    #이미지 데이터와 라벨(가위 : 0, 바위 : 1, 보 : 2) 데이터를 담을 행렬(matrix) 영역을 생성합니다.\n",
        "    imgs=np.zeros(number_of_data*img_size*img_size*color,dtype=np.int32).reshape(number_of_data,img_size,img_size,color)\n",
        "    labels=np.zeros(number_of_data,dtype=np.int32)\n",
        "\n",
        "    idx=0\n",
        "    for file in glob.iglob(img_path+'/scissor/*.jpg'):\n",
        "        img = np.array(Image.open(file),dtype=np.int32)\n",
        "        imgs[idx,:,:,:]=img    # 데이터 영역에 이미지 행렬을 복사\n",
        "        labels[idx]=0   # 가위 : 0\n",
        "        idx=idx+1\n",
        "\n",
        "    for file in glob.iglob(img_path+'/rock/*.jpg'):\n",
        "        img = np.array(Image.open(file),dtype=np.int32)\n",
        "        imgs[idx,:,:,:]=img    # 데이터 영역에 이미지 행렬을 복사\n",
        "        labels[idx]=1   # 바위 : 1\n",
        "        idx=idx+1\n",
        "\n",
        "    for file in glob.iglob(img_path+'/paper/*.jpg'):\n",
        "        img = np.array(Image.open(file),dtype=np.int32)\n",
        "        imgs[idx,:,:,:]=img    # 데이터 영역에 이미지 행렬을 복사\n",
        "        labels[idx]=2   # 보 : 2\n",
        "        idx=idx+1\n",
        "\n",
        "    print(\"학습데이터(x_test)의 이미지 개수는\", idx,\"입니다.\")\n",
        "    return imgs, labels\n",
        "\n",
        "image_dir_path = \"/content/drive/MyDrive/아이펠과정/Main_Quest03/이선재\"\n",
        "(x_test, y_test)=load_data(image_dir_path)\n",
        "x_test_norm = x_test/255.0   # 입력은 0~1 사이의 값으로 정규화\n",
        "\n",
        "print(\"x_test shape: {}\".format(x_test.shape))\n",
        "print(\"y_test shape: {}\".format(y_test.shape))"
      ],
      "metadata": {
        "colab": {
          "base_uri": "https://localhost:8080/"
        },
        "id": "pS9-u-NMbG_B",
        "outputId": "2b6afc8d-f5cb-4dcf-d28b-2f2fe715e8e8"
      },
      "execution_count": 14,
      "outputs": [
        {
          "output_type": "stream",
          "name": "stdout",
          "text": [
            "학습데이터(x_test)의 이미지 개수는 753 입니다.\n",
            "x_test shape: (753, 28, 28, 3)\n",
            "y_test shape: (753,)\n"
          ]
        }
      ]
    },
    {
      "cell_type": "code",
      "source": [
        "plt.imshow(x_test[254])\n",
        "print('라벨: ', y_test[254])"
      ],
      "metadata": {
        "colab": {
          "base_uri": "https://localhost:8080/",
          "height": 448
        },
        "id": "A6fkKptSbo9I",
        "outputId": "a911db40-3b2f-40af-98e6-a843e3b5148c"
      },
      "execution_count": 84,
      "outputs": [
        {
          "output_type": "stream",
          "name": "stdout",
          "text": [
            "라벨:  1\n"
          ]
        },
        {
          "output_type": "display_data",
          "data": {
            "text/plain": [
              "<Figure size 640x480 with 1 Axes>"
            ],
            "image/png": "[encoded data removed]"
          },
          "metadata": {}
        }
      ]
    },
    {
      "cell_type": "markdown",
      "source": [
        "## 학습된 모델로 선재님 데이터 정확도 구하기"
      ],
      "metadata": {
        "id": "Yz_i8ncAnbDL"
      }
    },
    {
      "cell_type": "code",
      "source": [
        "test_loss, test_accuracy = model.evaluate(x_test_norm, y_test, verbose=2)\n",
        "print(\"test_loss: {} \".format(test_loss))\n",
        "print(\"test_accuracy: {}\".format(test_accuracy))"
      ],
      "metadata": {
        "colab": {
          "base_uri": "https://localhost:8080/"
        },
        "id": "uLl0Pfd9dWL4",
        "outputId": "3a6758d0-49d0-412b-d312-c1fa8b61a6b8"
      },
      "execution_count": 15,
      "outputs": [
        {
          "output_type": "stream",
          "name": "stdout",
          "text": [
            "24/24 - 0s - loss: 9.5493 - accuracy: 0.3426 - 259ms/epoch - 11ms/step\n",
            "test_loss: 9.549263000488281 \n",
            "test_accuracy: 0.34262949228286743\n"
          ]
        }
      ]
    },
    {
      "cell_type": "code",
      "source": [],
      "metadata": {
        "id": "OHpO22d3d2qo"
      },
      "execution_count": 27,
      "outputs": []
    },
    {
      "cell_type": "markdown",
      "source": [
        "# 회고\n",
        "- K\n",
        "    - 구글 드라이브 폴더를 복사하는 방법을 알아내서 해결\n",
        "- P\n",
        "    - 데이터 수집 자체에서 매우 오래걸려, 코드 진행 시간 부족\n",
        "- T\n",
        "    - 폴더의 내용을 복사하여, 새로운 폴더를 만들어 저장하는법을 알아냈다.\n",
        "\n",
        "\n",
        "데이터를 수집하는 방법에서 다르게 구현을 하려다가 시간을 다 잡아먹어 버렸다.\n",
        "그래서 학습데이터를 많이 추가하지 못한채 급하게 돌리다가 다른사람의 데이터셋을 넣었을 때 예측이 33% 밖에 나오지 못한 점이 문제다.\n",
        "주말에 반드시 학습데이터를 미친듯이 넣어서 다시 예측 해보아야 겠다.\n",
        "\n",
        "강훈,민기 데이터로 검증까지했을땐 95%가 나오지만, 완전 다른 이미지인\n",
        "선재님꺼를 넣었을때는 매우 낮은 정확도가 나옵니다.."
      ],
      "metadata": {
        "id": "2uFWA5dgngKx"
      }
    }
  ]
}