{
  "nbformat": 4,
  "nbformat_minor": 0,
  "metadata": {
    "colab": {
      "provenance": [],
      "include_colab_link": true
    },
    "kernelspec": {
      "name": "python3",
      "display_name": "Python 3"
    },
    "language_info": {
      "name": "python"
    }
  },
  "cells": [
    {
      "cell_type": "markdown",
      "metadata": {
        "id": "view-in-github",
        "colab_type": "text"
      },
      "source": [
        "<a href=\"https://colab.research.google.com/github/choikanghoon/Aiffel_study/blob/master/Quest01/Quest01.ipynb\" target=\"_parent\"><img src=\"https://colab.research.google.com/assets/colab-badge.svg\" alt=\"Open In Colab\"/></a>"
      ]
    },
    {
      "cell_type": "code",
      "execution_count": 7,
      "metadata": {
        "colab": {
          "base_uri": "https://localhost:8080/"
        },
        "id": "7Sw5s-ljW33X",
        "outputId": "b3fdb841-24c1-43d6-936f-bfa278c001b4"
      },
      "outputs": [
        {
          "output_type": "stream",
          "name": "stdout",
          "text": [
            "입력값 : 아아아아아아아아아\n",
            "뒤집힌 단어는 : 아아아아아아아아아\n",
            "입력된 단어 아아아아아아아아아는 회문입니다.\n"
          ]
        }
      ],
      "source": [
        "def reverse(text):\n",
        "  reverse_text = text[::-1]\n",
        "  print(\"뒤집힌 단어는 :\",reverse_text)\n",
        "\n",
        "  if text == reverse_text:\n",
        "    return True\n",
        "  else:\n",
        "    return False\n",
        "\n",
        "input_text = input('입력값 : ')\n",
        "result = reverse(input_text)\n",
        "if result == True:\n",
        "    print(f\"입력된 단어 {input_text}는 회문입니다.\")\n",
        "else:\n",
        "    print(f\"입력된 단어 {input_text}는 회문이 아닙니다.\")"
      ]
    },
    {
      "cell_type": "code",
      "source": [],
      "metadata": {
        "id": "Nd-CK9mGb3kY"
      },
      "execution_count": null,
      "outputs": []
    }
  ]
}