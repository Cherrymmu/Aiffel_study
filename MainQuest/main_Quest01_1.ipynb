{
  "nbformat": 4,
  "nbformat_minor": 0,
  "metadata": {
    "colab": {
      "provenance": [],
      "toc_visible": true,
      "authorship_tag": "ABX9TyMB1sKnJCpxnCi/FntWykb7",
      "include_colab_link": true
    },
    "kernelspec": {
      "name": "python3",
      "display_name": "Python 3"
    },
    "language_info": {
      "name": "python"
    }
  },
  "cells": [
    {
      "cell_type": "markdown",
      "metadata": {
        "id": "view-in-github",
        "colab_type": "text"
      },
      "source": [
        "<a href=\"https://colab.research.google.com/github/choikanghoon/Aiffel_study/blob/master/MainQuest/main_Quest01_1.ipynb\" target=\"_parent\"><img src=\"https://colab.research.google.com/assets/colab-badge.svg\" alt=\"Open In Colab\"/></a>"
      ]
    },
    {
      "cell_type": "markdown",
      "source": [
        "# 메인퀘스트 1번문제"
      ],
      "metadata": {
        "id": "lpNRqMaR6r3p"
      }
    },
    {
      "cell_type": "code",
      "source": [
        "# 환경설정\n",
        "import random # 계좌번호에서 난수를 사용해야 하기 때문에 random 모듈 호출"
      ],
      "metadata": {
        "id": "cjdfYJw_6w1M"
      },
      "execution_count": null,
      "outputs": []
    },
    {
      "cell_type": "markdown",
      "source": [
        "## 주의사항\n",
        "\n",
        "---\n",
        "\n",
        "마지막 입출금 내역 때 집중해서 문제를 풀다보니 거기서 코드를 아예 새로 정리해버려서 마지막 부분이 완성된 코드가 되어 버렸습니다.\n",
        "\n",
        "최대한 주석을 달아놨습니다.\n",
        "\n",
        "마지막 꺼만 보셔도 될 것 같습니다.\n",
        "\n",
        "스크롤이 매우 기니 좌측 목차에 있는 입출금 내역을 눌러주세요\n",
        "\n",
        "---"
      ],
      "metadata": {
        "id": "JWfHtWKU8TWg"
      }
    },
    {
      "cell_type": "markdown",
      "source": [
        "## 1. Account 클래스\n",
        "\n",
        "은행에 가서 계좌를 개설하면 은행이름, 예금주 계좌번호, 잔액이 설정되빈다.\n",
        "Account 클래스를 생성한 후 생성자를 구현해보세요\n",
        "생성자에서는 예금주와 초기 잔액만 입력 받습니다. 은행이름은 SC은행으로 계좌번호는 3자리-2자리-6자리 형태로 랜덤하게 생성됩니다.\n",
        "(은행이름:SC은행, 계좌번호: 111-11-111111)"
      ],
      "metadata": {
        "id": "I9rmUEzI5vgG"
      }
    },
    {
      "cell_type": "code",
      "source": [
        "class Account:\n",
        "    def __init__(self, name, money):\n",
        "        # 계좌를 개설하자. 은행이름, 예금주, 계좌번호, 잔액 설정하기\n",
        "        self.bankname = \"SC은행\"\n",
        "        self.name = name\n",
        "        self.money = money\n",
        "        self.number = self.bank_number()\n",
        "    def bank_number(self):\n",
        "        first = random.randint(100,999)\n",
        "        center = random.randint(10,99)\n",
        "        last = random.randint(100000, 999999)\n",
        "        total_number = f\"{first}-{center}-{last}\"\n",
        "        return total_number\n",
        "\n",
        "my_bank = Account(\"최강훈\",10000) # 예금주, 초기잔액 입력\n",
        "\n",
        "print(\"은행이름 :\", my_bank.bankname)\n",
        "print(\"예금주 :\", my_bank.name)\n",
        "print(\"잔액 :\", my_bank.money)\n",
        "print(\"계좌번호 :\", my_bank.number)"
      ],
      "metadata": {
        "colab": {
          "base_uri": "https://localhost:8080/"
        },
        "id": "Eys007-66IiG",
        "outputId": "edfb03e8-38a7-4d84-9837-38f1011aeaab"
      },
      "execution_count": null,
      "outputs": [
        {
          "output_type": "stream",
          "name": "stdout",
          "text": [
            "은행이름 : SC은행\n",
            "예금주 : 최강훈\n",
            "잔액 : 10000\n",
            "계좌번호 : 347-86-330792\n"
          ]
        }
      ]
    },
    {
      "cell_type": "markdown",
      "source": [
        "## 2. 클래스 변수\n",
        "\n",
        "클래스 변수를 사용해서 Account 클래스로부터 생성된 계좌 객체의 개수를 저장하세요."
      ],
      "metadata": {
        "id": "BAqRQwrm9N0C"
      }
    },
    {
      "cell_type": "code",
      "source": [
        "class Account:\n",
        "    bank_count = 0\n",
        "    def __init__(self, name, money):\n",
        "        # 계좌를 개설하자. 은행이름, 예금주, 계좌번호, 잔액 설정하기\n",
        "        self.bankname = \"SC은행\"\n",
        "        self.name = name\n",
        "        self.money = money\n",
        "        self.number = self.bank_number()\n",
        "\n",
        "        Account.bank_count += 1\n",
        "\n",
        "    def bank_number(self):\n",
        "        first = random.randint(100,999)\n",
        "        center = random.randint(10,99)\n",
        "        last = random.randint(100000, 999999)\n",
        "        total_number = f\"{first}-{center}-{last}\"\n",
        "        return total_number\n",
        "\n",
        "my_bank = Account(\"최강훈\",10000) # 예금주, 초기잔액 입력\n",
        "\n",
        "print(\"은행이름 :\", my_bank.bankname)\n",
        "print(\"예금주 :\", my_bank.name)\n",
        "print(\"잔액 :\", my_bank.money)\n",
        "print(\"계좌번호 :\", my_bank.number)\n",
        "print(\"계좌 갯수 :\", Account.bank_count)"
      ],
      "metadata": {
        "colab": {
          "base_uri": "https://localhost:8080/"
        },
        "id": "YfZgY6CP8QgX",
        "outputId": "4f5b372f-1478-4c47-a80e-99b4bf789ce6"
      },
      "execution_count": null,
      "outputs": [
        {
          "output_type": "stream",
          "name": "stdout",
          "text": [
            "은행이름 : SC은행\n",
            "예금주 : 최강훈\n",
            "잔액 : 10000\n",
            "계좌번호 : 629-12-466383\n",
            "계좌 갯수 : 1\n"
          ]
        }
      ]
    },
    {
      "cell_type": "code",
      "source": [
        "my_bank2 = Account(\"이승환\",10000)\n",
        "print(\"계좌 갯수 :\", Account.bank_count)\n",
        "my_bank3 = Account(\"김양희\",10000)\n",
        "print(\"계좌 갯수 :\", Account.bank_count)\n",
        "my_bank4 = Account(\"조수민\",10000)\n",
        "print(\"계좌 갯수 :\", Account.bank_count)\n",
        "my_bank5 = Account(\"김승순\",10000)\n",
        "print(\"계좌 갯수 :\", Account.bank_count)"
      ],
      "metadata": {
        "colab": {
          "base_uri": "https://localhost:8080/"
        },
        "id": "3UyaC5S498KM",
        "outputId": "22868bee-a0b8-403d-8b98-115cd58ce5f8"
      },
      "execution_count": null,
      "outputs": [
        {
          "output_type": "stream",
          "name": "stdout",
          "text": [
            "계좌 갯수 : 2\n",
            "계좌 갯수 : 3\n",
            "계좌 갯수 : 4\n",
            "계좌 갯수 : 5\n"
          ]
        }
      ]
    },
    {
      "cell_type": "markdown",
      "source": [
        "## 3. 클래스 변수 출력\n",
        "\n",
        "Account 클래스로부터 생성된 계좌의 개수를 출력하는 get_account_num() 메서드를 추가하세요"
      ],
      "metadata": {
        "id": "0LIHOrpK-PH2"
      }
    },
    {
      "cell_type": "code",
      "source": [
        "class Account:\n",
        "    bank_count = 0\n",
        "    def __init__(self, name, money):\n",
        "        # 계좌를 개설하자. 은행이름, 예금주, 계좌번호, 잔액 설정하기\n",
        "        self.bankname = \"SC은행\"\n",
        "        self.name = name\n",
        "        self.money = money\n",
        "        self.number = self.bank_number()\n",
        "\n",
        "        Account.bank_count += 1\n",
        "\n",
        "    def bank_number(self):\n",
        "        first = random.randint(100,999)\n",
        "        center = random.randint(10,99)\n",
        "        last = random.randint(100000, 999999)\n",
        "        total_number = f\"{first}-{center}-{last}\"\n",
        "        return total_number\n",
        "\n",
        "    def get_account_num(self):\n",
        "        return Account.bank_count\n",
        "\n",
        "my_bank = Account(\"최강훈\",10000) # 예금주, 초기잔액 입력\n",
        "\n",
        "print(\"은행이름 :\", my_bank.bankname)\n",
        "print(\"예금주 :\", my_bank.name)\n",
        "print(\"잔액 :\", my_bank.money)\n",
        "print(\"계좌번호 :\", my_bank.number)\n",
        "print(\"계좌갯수 :\", my_bank.get_account_num())"
      ],
      "metadata": {
        "colab": {
          "base_uri": "https://localhost:8080/"
        },
        "id": "v3p4znCI-E8x",
        "outputId": "a5dbbd1c-d4f5-418d-912e-b6d5d7d95294"
      },
      "execution_count": null,
      "outputs": [
        {
          "output_type": "stream",
          "name": "stdout",
          "text": [
            "은행이름 : SC은행\n",
            "예금주 : 최강훈\n",
            "잔액 : 10000\n",
            "계좌번호 : 756-88-603948\n",
            "계좌갯수 : 1\n"
          ]
        }
      ]
    },
    {
      "cell_type": "markdown",
      "source": [
        "## 4. 입금 메서드\n",
        "Account 클래스에 입금을 위한 deposit 메서드를 추가하세요. 입금은 최소 1원이상만 가능합니다."
      ],
      "metadata": {
        "id": "9uUzfXoL_RAe"
      }
    },
    {
      "cell_type": "code",
      "source": [
        "class Account:\n",
        "    bank_count = 0\n",
        "    def __init__(self, name, money):\n",
        "        # 계좌를 개설하자. 은행이름, 예금주, 계좌번호, 잔액 설정하기\n",
        "        self.bankname = \"SC은행\"\n",
        "        self.name = name\n",
        "        self.money = money\n",
        "        self.number = self.bank_number()\n",
        "\n",
        "        Account.bank_count += 1\n",
        "\n",
        "    def bank_number(self):\n",
        "        first = random.randint(100,999)\n",
        "        center = random.randint(10,99)\n",
        "        last = random.randint(100000, 999999)\n",
        "        total_number = f\"{first}-{center}-{last}\"\n",
        "        return total_number\n",
        "\n",
        "    def get_account_num(self):\n",
        "        return Account.bank_count\n",
        "\n",
        "    def deposit(self, amount):\n",
        "        if amount >= 1:\n",
        "            self.money += amount\n",
        "            print(f\"{amount}원을 입금하셨습니다. 잔액은 {self.money}입니다.\")\n",
        "        else:\n",
        "            print(\"입금 금액은 최소 1원이상을 입금해주셔야 합니다.\")\n",
        "\n",
        "my_bank = Account(\"최강훈\",10000) # 예금주, 초기잔액 입력\n",
        "\n",
        "print(\"은행이름 :\", my_bank.bankname)\n",
        "print(\"예금주 :\", my_bank.name)\n",
        "print(\"잔액 :\", my_bank.money)\n",
        "print(\"계좌번호 :\", my_bank.number)\n",
        "print(\"계좌갯수 :\", my_bank.get_account_num())\n",
        "my_bank.deposit(1000)\n",
        "my_bank.deposit(3000)\n",
        "my_bank.deposit(5000)"
      ],
      "metadata": {
        "colab": {
          "base_uri": "https://localhost:8080/"
        },
        "id": "TbGPXFYp-pcy",
        "outputId": "17df73df-4007-401a-cb92-9c6a844c9e8f"
      },
      "execution_count": null,
      "outputs": [
        {
          "output_type": "stream",
          "name": "stdout",
          "text": [
            "은행이름 : SC은행\n",
            "예금주 : 최강훈\n",
            "잔액 : 10000\n",
            "계좌번호 : 232-98-452431\n",
            "계좌갯수 : 1\n",
            "1000원을 입금하셨습니다. 잔액은 11000입니다.\n",
            "3000원을 입금하셨습니다. 잔액은 14000입니다.\n",
            "5000원을 입금하셨습니다. 잔액은 19000입니다.\n"
          ]
        }
      ]
    },
    {
      "cell_type": "markdown",
      "source": [
        "## 5. 출금 메서드\n",
        "\n",
        "Account 클래스에 출금을 위한 withdraw 메서드를 추가하세요 출금은 계좌의 잔고 이상으로 출금할 수는 없습니다."
      ],
      "metadata": {
        "id": "fMxvRhw_A6zy"
      }
    },
    {
      "cell_type": "code",
      "source": [
        "class Account:\n",
        "    bank_count = 0\n",
        "    def __init__(self, name, money):\n",
        "        # 계좌를 개설하자. 은행이름, 예금주, 계좌번호, 잔액 설정하기\n",
        "        self.bankname = \"SC은행\"\n",
        "        self.name = name\n",
        "        self.money = money\n",
        "        self.number = self.bank_number()\n",
        "\n",
        "        Account.bank_count += 1\n",
        "\n",
        "    def bank_number(self):\n",
        "        first = random.randint(100,999)\n",
        "        center = random.randint(10,99)\n",
        "        last = random.randint(100000, 999999)\n",
        "        total_number = f\"{first}-{center}-{last}\"\n",
        "        return total_number\n",
        "\n",
        "    def get_account_num(self):\n",
        "        return Account.bank_count\n",
        "\n",
        "    def deposit(self, amount):\n",
        "        if amount >= 1:\n",
        "            self.money += amount\n",
        "            print(f\"{amount}원을 입금하셨습니다. 잔액은 {self.money}입니다.\")\n",
        "        else:\n",
        "            print(\"입금 금액은 최소 1원이상을 입금해주셔야 합니다.\")\n",
        "\n",
        "    def withdraw(self, amount):\n",
        "        if 0 < amount <= self.money:\n",
        "            self.money -= amount\n",
        "            print(f\"{amount}원을 출금하셨습니다. 잔액은 {self.money}입니다.\")\n",
        "        else:\n",
        "            print(f\"출금 금액은 {self.money}를 초과하실수 없습니다.\")\n",
        "\n",
        "my_bank = Account(\"최강훈\",10000) # 예금주, 초기잔액 입력\n",
        "\n",
        "print(\"은행이름 :\", my_bank.bankname)\n",
        "print(\"예금주 :\", my_bank.name)\n",
        "print(\"잔액 :\", my_bank.money)\n",
        "print(\"계좌번호 :\", my_bank.number)\n",
        "print(\"계좌갯수 :\", my_bank.get_account_num())\n",
        "my_bank.deposit(1000)\n",
        "my_bank.deposit(3000)\n",
        "my_bank.deposit(5000)\n",
        "my_bank.withdraw(3000)\n",
        "my_bank.withdraw(4000)\n",
        "my_bank.withdraw(5000)\n",
        "my_bank.withdraw(6000)\n",
        "my_bank.withdraw(7000)"
      ],
      "metadata": {
        "colab": {
          "base_uri": "https://localhost:8080/"
        },
        "id": "Ka4vV8TOAIK9",
        "outputId": "495531ef-4223-42fd-8aae-c6a144429a90"
      },
      "execution_count": null,
      "outputs": [
        {
          "output_type": "stream",
          "name": "stdout",
          "text": [
            "은행이름 : SC은행\n",
            "예금주 : 최강훈\n",
            "잔액 : 10000\n",
            "계좌번호 : 751-66-640568\n",
            "계좌갯수 : 1\n",
            "1000원을 입금하셨습니다. 잔액은 11000입니다.\n",
            "3000원을 입금하셨습니다. 잔액은 14000입니다.\n",
            "5000원을 입금하셨습니다. 잔액은 19000입니다.\n",
            "3000원을 출금하셨습니다. 잔액은 16000입니다.\n",
            "4000원을 출금하셨습니다. 잔액은 12000입니다.\n",
            "5000원을 출금하셨습니다. 잔액은 7000입니다.\n",
            "6000원을 출금하셨습니다. 잔액은 1000입니다.\n",
            "출금 금액은 1000를 초과하실수 없습니다.\n"
          ]
        }
      ]
    },
    {
      "cell_type": "markdown",
      "source": [
        "## 6. 정보 출력 메서드\n",
        "Account 인스턴스에 저장된 정보를 출력하는 display_info() 메서드를 추가하세요. 잔고는 세자리마다 쉼표를 출력하세요\n"
      ],
      "metadata": {
        "id": "w1-nBt0vDLg8"
      }
    },
    {
      "cell_type": "code",
      "source": [
        "class Account:\n",
        "    bank_count = 0\n",
        "    def __init__(self, name, money):\n",
        "        # 계좌를 개설하자. 은행이름, 예금주, 계좌번호, 잔액 설정하기\n",
        "        self.bankname = \"SC은행\"\n",
        "        self.name = name\n",
        "        self.money = money\n",
        "        self.number = self.bank_number()\n",
        "\n",
        "        Account.bank_count += 1\n",
        "\n",
        "    def bank_number(self):\n",
        "        first = random.randint(100,999)\n",
        "        center = random.randint(10,99)\n",
        "        last = random.randint(100000, 999999)\n",
        "        total_number = f\"{first}-{center}-{last}\"\n",
        "        return total_number\n",
        "\n",
        "    def get_account_num(self):\n",
        "        return Account.bank_count\n",
        "\n",
        "    def deposit(self, amount):\n",
        "        if amount >= 1:\n",
        "            self.money += amount\n",
        "            print(f\"{amount}원을 입금하셨습니다. 잔액은{self.money_stack()}원 입니다.\")\n",
        "        else:\n",
        "            print(\"입금 금액은 최소 1원이상을 입금해주셔야 합니다.\")\n",
        "\n",
        "    def withdraw(self, amount):\n",
        "        if amount <= self.money:\n",
        "            self.money -= amount\n",
        "            print(f\"{amount}원을 출금하셨습니다. 잔액은{self.money_stack()}원 입니다.\")\n",
        "        else:\n",
        "            print(f\"출금 금액은 {self.money}를 초과하실수 없습니다.\")\n",
        "\n",
        "    def display_info(self):\n",
        "        print(\"은행이름 :\", my_bank.bankname)\n",
        "        print(\"예금주 :\", my_bank.name)\n",
        "        print(\"잔액 :\", self.money_stack())\n",
        "        print(\"계좌번호 :\", my_bank.number)\n",
        "\n",
        "    def money_stack(self):\n",
        "        return f\"{self.money : ,}\"\n",
        "\n",
        "\n",
        "my_bank = Account(\"최강훈\",10000) # 예금주, 초기잔액 입력\n",
        "\n",
        "my_bank.display_info()\n",
        "print(\"계좌갯수 :\", my_bank.get_account_num())\n",
        "my_bank.deposit(1000)\n",
        "my_bank.deposit(3000)\n",
        "my_bank.deposit(5000)\n",
        "my_bank.withdraw(3000)\n",
        "my_bank.withdraw(4000)\n",
        "my_bank.withdraw(5000)\n",
        "my_bank.withdraw(6000)\n",
        "my_bank.withdraw(7000)"
      ],
      "metadata": {
        "colab": {
          "base_uri": "https://localhost:8080/"
        },
        "id": "n5weswUBCsT5",
        "outputId": "1c0c2bf5-7e0b-45a0-c800-eba19b02f836"
      },
      "execution_count": null,
      "outputs": [
        {
          "output_type": "stream",
          "name": "stdout",
          "text": [
            "은행이름 : SC은행\n",
            "예금주 : 최강훈\n",
            "잔액 :  10,000\n",
            "계좌번호 : 250-70-604915\n",
            "계좌갯수 : 1\n",
            "1000원을 입금하셨습니다. 잔액은 11,000원 입니다.\n",
            "3000원을 입금하셨습니다. 잔액은 14,000원 입니다.\n",
            "5000원을 입금하셨습니다. 잔액은 19,000원 입니다.\n",
            "3000원을 출금하셨습니다. 잔액은 16,000원 입니다.\n",
            "4000원을 출금하셨습니다. 잔액은 12,000원 입니다.\n",
            "5000원을 출금하셨습니다. 잔액은 7,000원 입니다.\n",
            "6000원을 출금하셨습니다. 잔액은 1,000원 입니다.\n",
            "출금 금액은 1000를 초과하실수 없습니다.\n"
          ]
        }
      ]
    },
    {
      "cell_type": "markdown",
      "source": [
        "## 7. 이자 지급하기\n",
        "\n",
        "입금 횟수가 5회가 될 때 잔고를 기준으로 1%의 이자가 잔고에 추가되도록 코드를 변경해보세요"
      ],
      "metadata": {
        "id": "z2V1uOfWGd1E"
      }
    },
    {
      "cell_type": "code",
      "source": [
        "class Account:\n",
        "    bank_count = 0\n",
        "    def __init__(self, name, money):\n",
        "        # 계좌를 개설하자. 은행이름, 예금주, 계좌번호, 잔액 설정하기\n",
        "        self.bankname = \"SC은행\"\n",
        "        self.name = name\n",
        "        self.money = money\n",
        "        self.number = self.bank_number()\n",
        "        self.deposit_count = 0\n",
        "\n",
        "        Account.bank_count += 1\n",
        "\n",
        "    def bank_number(self):\n",
        "        first = random.randint(100,999)\n",
        "        center = random.randint(10,99)\n",
        "        last = random.randint(100000, 999999)\n",
        "        total_number = f\"{first}-{center}-{last}\"\n",
        "        return total_number\n",
        "\n",
        "    def get_account_num(self):\n",
        "        return Account.bank_count\n",
        "\n",
        "    def deposit(self, amount):\n",
        "        if amount >= 1:\n",
        "            self.money += amount\n",
        "            self.deposit_count += 1\n",
        "            print(f\"{amount}원을 입금하셨습니다. 잔액은{self.money_stack()}원 입니다.\")\n",
        "            if self.deposit_count == 5:\n",
        "                print(f\"{self.money}에 이자 1%인 {self.money * 0.01}원이 입금되었습니다.\")\n",
        "                self.money = self.money + self.money * 0.01\n",
        "                print(f\"현재 계좌 잔액은 {self.money}원 입니다.\")\n",
        "        else:\n",
        "            print(\"입금 금액은 최소 1원이상을 입금해주셔야 합니다.\")\n",
        "\n",
        "    def withdraw(self, amount):\n",
        "        if amount <= self.money:\n",
        "            self.money -= amount\n",
        "            print(f\"{amount}원을 출금하셨습니다. 잔액은{self.money_stack()}원 입니다.\")\n",
        "        else:\n",
        "            print(f\"출금 금액은 {self.money}를 초과하실수 없습니다.\")\n",
        "\n",
        "    def display_info(self):\n",
        "        print(\"은행이름 :\", my_bank.bankname)\n",
        "        print(\"예금주 :\", my_bank.name)\n",
        "        print(\"잔액 :\", self.money_stack())\n",
        "        print(\"계좌번호 :\", my_bank.number)\n",
        "\n",
        "    def money_stack(self):\n",
        "        return f\"{self.money : ,}\"\n",
        "\n",
        "\n",
        "my_bank = Account(\"최강훈\",10000) # 예금주, 초기잔액 입력\n",
        "\n",
        "my_bank.display_info()\n",
        "print(\"계좌갯수 :\", my_bank.get_account_num())\n",
        "my_bank.deposit(1000)\n",
        "my_bank.deposit(3000)\n",
        "my_bank.deposit(5000)\n",
        "my_bank.deposit(1000)\n",
        "my_bank.deposit(2000)\n",
        "my_bank.withdraw(5000)\n",
        "my_bank.withdraw(6000)\n",
        "my_bank.withdraw(7000)\n",
        "my_bank.withdraw(6000)\n",
        "my_bank.display_info()"
      ],
      "metadata": {
        "colab": {
          "base_uri": "https://localhost:8080/"
        },
        "id": "LD6VTmaLE5I2",
        "outputId": "98d1ab2e-0af0-4040-ae8a-e8328843d496"
      },
      "execution_count": null,
      "outputs": [
        {
          "output_type": "stream",
          "name": "stdout",
          "text": [
            "은행이름 : SC은행\n",
            "예금주 : 최강훈\n",
            "잔액 :  10,000\n",
            "계좌번호 : 945-61-516064\n",
            "계좌갯수 : 1\n",
            "1000원을 입금하셨습니다. 잔액은 11,000원 입니다.\n",
            "3000원을 입금하셨습니다. 잔액은 14,000원 입니다.\n",
            "5000원을 입금하셨습니다. 잔액은 19,000원 입니다.\n",
            "1000원을 입금하셨습니다. 잔액은 20,000원 입니다.\n",
            "2000원을 입금하셨습니다. 잔액은 22,000원 입니다.\n",
            "22000에 이자 1%인 220.0원이 입금되었습니다.\n",
            "현재 계좌 잔액은 22220.0원 입니다.\n",
            "5000원을 출금하셨습니다. 잔액은 17,220.0원 입니다.\n",
            "6000원을 출금하셨습니다. 잔액은 11,220.0원 입니다.\n",
            "7000원을 출금하셨습니다. 잔액은 4,220.0원 입니다.\n",
            "출금 금액은 4220.0를 초과하실수 없습니다.\n",
            "은행이름 : SC은행\n",
            "예금주 : 최강훈\n",
            "잔액 :  4,220.0\n",
            "계좌번호 : 945-61-516064\n"
          ]
        }
      ]
    },
    {
      "cell_type": "markdown",
      "source": [
        "## 8. 여러 객체 생성\n",
        "\n",
        "Account 클래스로부터 3개 이상 인스턴스를 생성하고 생성된 인스턴스를 리스트에 저장해보세요"
      ],
      "metadata": {
        "id": "VD5jQDk4KWTo"
      }
    },
    {
      "cell_type": "code",
      "source": [
        "class Account:\n",
        "    bank_count = 0\n",
        "\n",
        "    def __init__(self, name, money):\n",
        "        # 계좌를 개설하자. 은행이름, 예금주, 계좌번호, 잔액 설정하기\n",
        "        self.bankname = \"SC은행\"\n",
        "        self.name = name\n",
        "        self.money = money\n",
        "        self.number = self.bank_number()\n",
        "        self.deposit_count = 0\n",
        "\n",
        "        Account.bank_count += 1\n",
        "\n",
        "    def bank_number(self):\n",
        "        first = random.randint(100, 999)\n",
        "        center = random.randint(10, 99)\n",
        "        last = random.randint(100000, 999999)\n",
        "        total_number = f\"{first}-{center}-{last}\"\n",
        "        return total_number\n",
        "\n",
        "    def get_account_num(self):\n",
        "        return Account.bank_count\n",
        "\n",
        "    def deposit(self, amount):\n",
        "        if amount >= 1:\n",
        "            self.money += amount\n",
        "            self.deposit_count += 1\n",
        "            print(f\"{amount}원을 입금하셨습니다. 잔액은{self.money_stack()}원 입니다.\")\n",
        "            if self.deposit_count == 5:\n",
        "                print(f\"{self.money}에 이자 1%인 {self.money * 0.01}원이 입금되었습니다.\")\n",
        "                self.money = self.money + self.money * 0.01\n",
        "                print(f\"현재 계좌 잔액은 {self.money}원 입니다.\")\n",
        "        else:\n",
        "            print(\"입금 금액은 최소 1원이상을 입금해주셔야 합니다.\")\n",
        "\n",
        "    def withdraw(self, amount):\n",
        "        if amount <= self.money:\n",
        "            self.money -= amount\n",
        "            print(f\"{amount}원을 출금하셨습니다. 잔액은{self.money_stack()}원 입니다.\")\n",
        "        else:\n",
        "            print(f\"출금 금액은 {self.money}를 초과하실수 없습니다.\")\n",
        "\n",
        "    def display_info(self):\n",
        "        print(\"은행이름 :\", self.bankname)\n",
        "        print(\"예금주 :\", self.name)\n",
        "        print(\"잔액 :\", self.money_stack())\n",
        "        print(\"계좌번호 :\", self.number)\n",
        "\n",
        "    def money_stack(self):\n",
        "        return f\"{self.money:,}\"\n",
        "\n",
        "\n",
        "class NewAccount(Account):\n",
        "    def __init__(self):\n",
        "        super().__init__(\"예금주\", 0)\n",
        "        self.account_list = []\n",
        "\n",
        "    def create_account(self, name, money):\n",
        "        new_account = Account(name, money)\n",
        "        self.account_list.append(new_account)\n",
        "        return new_account\n",
        "\n",
        "    def display_account_info(self):\n",
        "        for account in self.account_list:\n",
        "            print(\"-\" * 25)\n",
        "            account.display_info()\n",
        "\n",
        "# 사용 예시\n",
        "my_bank = Account(\"최강훈\", 10000)  # 예금주, 초기잔액 입력\n",
        "my_bank.display_info()\n",
        "\n",
        "print(\"계좌갯수:\", my_bank.get_account_num())\n",
        "my_bank.deposit(1000)\n",
        "my_bank.deposit(3000)\n",
        "my_bank.deposit(5000)\n",
        "my_bank.deposit(1000)\n",
        "my_bank.deposit(2000)\n",
        "my_bank.withdraw(5000)\n",
        "my_bank.withdraw(6000)\n",
        "my_bank.withdraw(7000)\n",
        "my_bank.withdraw(6000)\n",
        "my_bank.display_info()\n",
        "\n",
        "new_account = NewAccount()\n",
        "\n",
        "new_bank1 = new_account.create_account(\"이승환\", 100000)\n",
        "new_bank2 = new_account.create_account(\"김양희\", 200000)\n",
        "new_bank3 = new_account.create_account(\"조수민\", 3000000)\n",
        "new_bank4 = new_account.create_account(\"김승순\", 400000)\n",
        "\n",
        "new_account.display_account_info()"
      ],
      "metadata": {
        "colab": {
          "base_uri": "https://localhost:8080/"
        },
        "id": "C6x8iZWLH_3B",
        "outputId": "a692fea8-ba2a-4756-98cc-71055eb8c2ce"
      },
      "execution_count": null,
      "outputs": [
        {
          "output_type": "stream",
          "name": "stdout",
          "text": [
            "은행이름 : SC은행\n",
            "예금주 : 최강훈\n",
            "잔액 : 10,000\n",
            "계좌번호 : 342-73-442827\n",
            "계좌갯수: 1\n",
            "1000원을 입금하셨습니다. 잔액은11,000원 입니다.\n",
            "3000원을 입금하셨습니다. 잔액은14,000원 입니다.\n",
            "5000원을 입금하셨습니다. 잔액은19,000원 입니다.\n",
            "1000원을 입금하셨습니다. 잔액은20,000원 입니다.\n",
            "2000원을 입금하셨습니다. 잔액은22,000원 입니다.\n",
            "22000에 이자 1%인 220.0원이 입금되었습니다.\n",
            "현재 계좌 잔액은 22220.0원 입니다.\n",
            "5000원을 출금하셨습니다. 잔액은17,220.0원 입니다.\n",
            "6000원을 출금하셨습니다. 잔액은11,220.0원 입니다.\n",
            "7000원을 출금하셨습니다. 잔액은4,220.0원 입니다.\n",
            "출금 금액은 4220.0를 초과하실수 없습니다.\n",
            "은행이름 : SC은행\n",
            "예금주 : 최강훈\n",
            "잔액 : 4,220.0\n",
            "계좌번호 : 342-73-442827\n",
            "-------------------------\n",
            "은행이름 : SC은행\n",
            "예금주 : 이승환\n",
            "잔액 : 100,000\n",
            "계좌번호 : 240-14-130428\n",
            "-------------------------\n",
            "은행이름 : SC은행\n",
            "예금주 : 김양희\n",
            "잔액 : 200,000\n",
            "계좌번호 : 159-28-359507\n",
            "-------------------------\n",
            "은행이름 : SC은행\n",
            "예금주 : 조수민\n",
            "잔액 : 3,000,000\n",
            "계좌번호 : 823-19-829057\n",
            "-------------------------\n",
            "은행이름 : SC은행\n",
            "예금주 : 김승순\n",
            "잔액 : 400,000\n",
            "계좌번호 : 583-86-549493\n"
          ]
        }
      ]
    },
    {
      "cell_type": "markdown",
      "source": [
        "## 9. 객체 순회\n",
        "\n",
        "반복문을 통해 리스트에 있는 객체를 순회하면서 잔고가 100만원 이상인 고객의 정보만 출력하세요"
      ],
      "metadata": {
        "id": "dpTCFj7CR-fM"
      }
    },
    {
      "cell_type": "code",
      "source": [
        "class Account:\n",
        "    bank_count = 0\n",
        "\n",
        "    def __init__(self, name, money):\n",
        "        # 계좌를 개설하자. 은행이름, 예금주, 계좌번호, 잔액 설정하기\n",
        "        self.bankname = \"SC은행\"\n",
        "        self.name = name\n",
        "        self.money = money\n",
        "        self.number = self.bank_number()\n",
        "        self.deposit_count = 0\n",
        "\n",
        "        Account.bank_count += 1\n",
        "\n",
        "    def bank_number(self):\n",
        "        first = random.randint(100, 999)\n",
        "        center = random.randint(10, 99)\n",
        "        last = random.randint(100000, 999999)\n",
        "        total_number = f\"{first}-{center}-{last}\"\n",
        "        return total_number\n",
        "\n",
        "    def get_account_num(self):\n",
        "        return Account.bank_count\n",
        "\n",
        "    def deposit(self, amount):\n",
        "        if amount >= 1:\n",
        "            self.money += amount\n",
        "            self.deposit_count += 1\n",
        "            print(f\"{amount}원을 입금하셨습니다. 잔액은{self.money_stack()}원 입니다.\")\n",
        "            if self.deposit_count == 5:\n",
        "                print(f\"{self.money}에 이자 1%인 {self.money * 0.01}원이 입금되었습니다.\")\n",
        "                self.money = self.money + self.money * 0.01\n",
        "                print(f\"현재 계좌 잔액은 {self.money}원 입니다.\")\n",
        "        else:\n",
        "            print(\"입금 금액은 최소 1원이상을 입금해주셔야 합니다.\")\n",
        "\n",
        "    def withdraw(self, amount):\n",
        "        if amount <= self.money:\n",
        "            self.money -= amount\n",
        "            print(f\"{amount}원을 출금하셨습니다. 잔액은{self.money_stack()}원 입니다.\")\n",
        "        else:\n",
        "            print(f\"출금 금액은 {self.money}를 초과하실수 없습니다.\")\n",
        "\n",
        "    def display_info(self):\n",
        "        print(\"은행이름 :\", self.bankname)\n",
        "        print(\"예금주 :\", self.name)\n",
        "        print(\"잔액 :\", self.money_stack())\n",
        "        print(\"계좌번호 :\", self.number)\n",
        "\n",
        "    def money_stack(self):\n",
        "        return f\"{self.money:,}\"\n",
        "\n",
        "\n",
        "class NewAccount(Account):\n",
        "    def __init__(self):\n",
        "        super().__init__(\"예금주\", 0)\n",
        "        self.account_list = []\n",
        "\n",
        "    def create_account(self, name, money):\n",
        "        new_account = Account(name, money)\n",
        "        self.account_list.append(new_account)\n",
        "        return new_account\n",
        "\n",
        "    def display_account_info(self):\n",
        "        for account in self.account_list:\n",
        "            print(\"-\" * 25)\n",
        "            account.display_info()\n",
        "\n",
        "    def display_vip_account_info(self):\n",
        "        for account in self.account_list:\n",
        "            if account.money >= 1000000:\n",
        "                print(\"-\" * 25)\n",
        "                account.display_info()\n",
        "\n",
        "\n",
        "# 사용 예시\n",
        "my_bank = Account(\"최강훈\", 10000)  # 예금주, 초기잔액 입력\n",
        "my_bank.display_info()\n",
        "\n",
        "print(\"계좌갯수:\", my_bank.get_account_num())\n",
        "my_bank.deposit(1000)\n",
        "my_bank.deposit(3000)\n",
        "my_bank.deposit(5000)\n",
        "my_bank.deposit(1000)\n",
        "my_bank.deposit(2000)\n",
        "my_bank.withdraw(5000)\n",
        "my_bank.withdraw(6000)\n",
        "my_bank.withdraw(7000)\n",
        "my_bank.withdraw(6000)\n",
        "my_bank.display_info()\n",
        "\n",
        "new_account = NewAccount()\n",
        "\n",
        "new_bank1 = new_account.create_account(\"이승환\", 100000)\n",
        "new_bank2 = new_account.create_account(\"김양희\", 200000)\n",
        "new_bank3 = new_account.create_account(\"조수민\", 3000000)\n",
        "new_bank4 = new_account.create_account(\"김승순\", 400000)\n",
        "\n",
        "new_account.display_account_info()\n",
        "new_account.display_vip_account_info()"
      ],
      "metadata": {
        "colab": {
          "base_uri": "https://localhost:8080/"
        },
        "id": "7vpkMP52R9F1",
        "outputId": "4739eeb7-0eed-40df-e849-d160a077b598"
      },
      "execution_count": null,
      "outputs": [
        {
          "output_type": "stream",
          "name": "stdout",
          "text": [
            "은행이름 : SC은행\n",
            "예금주 : 최강훈\n",
            "잔액 : 10,000\n",
            "계좌번호 : 139-34-321667\n",
            "계좌갯수: 1\n",
            "1000원을 입금하셨습니다. 잔액은11,000원 입니다.\n",
            "3000원을 입금하셨습니다. 잔액은14,000원 입니다.\n",
            "5000원을 입금하셨습니다. 잔액은19,000원 입니다.\n",
            "1000원을 입금하셨습니다. 잔액은20,000원 입니다.\n",
            "2000원을 입금하셨습니다. 잔액은22,000원 입니다.\n",
            "22000에 이자 1%인 220.0원이 입금되었습니다.\n",
            "현재 계좌 잔액은 22220.0원 입니다.\n",
            "5000원을 출금하셨습니다. 잔액은17,220.0원 입니다.\n",
            "6000원을 출금하셨습니다. 잔액은11,220.0원 입니다.\n",
            "7000원을 출금하셨습니다. 잔액은4,220.0원 입니다.\n",
            "출금 금액은 4220.0를 초과하실수 없습니다.\n",
            "은행이름 : SC은행\n",
            "예금주 : 최강훈\n",
            "잔액 : 4,220.0\n",
            "계좌번호 : 139-34-321667\n",
            "-------------------------\n",
            "은행이름 : SC은행\n",
            "예금주 : 이승환\n",
            "잔액 : 100,000\n",
            "계좌번호 : 483-31-464963\n",
            "-------------------------\n",
            "은행이름 : SC은행\n",
            "예금주 : 김양희\n",
            "잔액 : 200,000\n",
            "계좌번호 : 953-16-625461\n",
            "-------------------------\n",
            "은행이름 : SC은행\n",
            "예금주 : 조수민\n",
            "잔액 : 3,000,000\n",
            "계좌번호 : 239-39-704160\n",
            "-------------------------\n",
            "은행이름 : SC은행\n",
            "예금주 : 김승순\n",
            "잔액 : 400,000\n",
            "계좌번호 : 664-76-102998\n",
            "-------------------------\n",
            "은행이름 : SC은행\n",
            "예금주 : 조수민\n",
            "잔액 : 3,000,000\n",
            "계좌번호 : 239-39-704160\n"
          ]
        }
      ]
    },
    {
      "cell_type": "markdown",
      "source": [
        "## 10. 입출금 내역\n",
        "\n",
        "입금과 출금 내역이 기록되도록 코드를 업데이트 하세요.\n",
        "\n",
        "입금 내역과 출금 내역을 출력하는 deposit_history와 withdraw_history 메서드를 추가하세요\n",
        "\n",
        "지속적인 코드 수정으로 완성본이 되었습니다;;"
      ],
      "metadata": {
        "id": "xIqaGEWbSNmx"
      }
    },
    {
      "cell_type": "code",
      "source": [
        "class Account:\n",
        "    bank_count = 0 # Class가 호출 되면 초기화가 되지만 클래스 호출하고나서는 계속 카운트가 추가 될수 있음\n",
        "    account_list = [] # Account 클래스의 정보들을 저장하는 리스트\n",
        "\n",
        "    def __init__(self, name, money): # 이름과, 계좌잔액만 처음에 받기\n",
        "        self.bankname = \"SC은행\" # 은행이 어디인지 보여주기\n",
        "        self.name = name # 이름\n",
        "        self.money = money # 계좌잔액\n",
        "        self.number = self.bank_number() # 계좌번호\n",
        "        self.deposit_count = 0 # 입금 5회를 하면 이자를 받게 하기위해 초기화를 시키고, 5가 되면 이자율 1%\n",
        "        self.deposit_list = [] # 입금 내역을 보여주기 위해 입금받을때마다 추가\n",
        "        self.withdraw_list = [] # 출금 내역을 보여주기 위해 출금할때마다 추가\n",
        "\n",
        "        Account.bank_count += 1 # Class가 호출되고 나서는 안에서만 이루어지기때문에 클래스 자체에 정보를 남기기위해 클래스.변수 사용 이러면 클래수에있는 변수에 += 1이 됨\n",
        "        Account.account_list.append(self) # Classmethod를 썼기 때문에 자신이 만들어낸 객체를 account_list에 담을수가 있게 되었습니다. 그렇게해서 클래스 자체에 list 정보를 남길수 있었습니다.\n",
        "\n",
        "    def bank_number(self):\n",
        "        first = random.randint(100, 999) # 계좌 앞자리 3자리를 만들어주기 위해 random 사용\n",
        "        center = random.randint(10, 99) # 계좌 가운데자리 2자리를 만들어주기 위해 random 사용\n",
        "        last = random.randint(100000, 999999) # 계좌 뒷자리 6자리를 만들어주기 위해 random 사용\n",
        "        total_number = f\"{first}-{center}-{last}\" # 그것을 결합하여 return 하기위해 변수 지정\n",
        "        return total_number # 반환\n",
        "\n",
        "    def get_account_num(self):\n",
        "        print(f\"현재 만들어진 계좌는 총 : {Account.bank_count}개 입니다.\") # 계좌 갯수를 보기위한 함수\n",
        "\n",
        "    def deposit(self, amount): # amount(입금액)을 받아서 self.money에 추가해주는 함수\n",
        "        if amount >= 1: # amount가 1이상일 경우\n",
        "            self.money += amount # amount에 써진 금액을 self.money에 추가한다.\n",
        "            self.deposit_list.append(amount) # 그리고, amount를 입금내역에 추가해서 나중에 입금내역을 뽑을수 있게 만든다.\n",
        "            self.deposit_count += 1 # 그리고 deposit_count에 횟수를 추가한다. ( 총 5회가 되면 이자 붙게 만들려고 )\n",
        "            print(f\"{amount}원을 입금하셨습니다. 잔액은 {self.money_stack()}원 입니다.\") # 입금한 금액, 그래서 총 합계된 잔액 출력\n",
        "            if self.deposit_count == 5: # count가 5회가 되면 이자를 주기위해 만들었음\n",
        "                interest = self.money * 0.01 # 1%\n",
        "                print(f\"{self.money}에 이자 1%인 {interest}원이 입금되었습니다.\") # 출력\n",
        "                self.money += interest # 이자 금액 계좌에 추가\n",
        "                self.deposit_list.append(interest) # 그리고 은행보면 결산이자? 같은것도 입금내역으로 뜨기때문에 이자도 입금내역에 추가하였음\n",
        "                print(f\"현재 계좌 잔액은 {self.money}원 입니다.\") # 출력\n",
        "        else:\n",
        "            print(\"입금 금액은 최소 1원이상을 입금해주셔야 합니다.\") # 1원미만일때 뜨는 문구\n",
        "\n",
        "    def deposit_history(self): # 입금내역 출력하기\n",
        "        for amount in self.deposit_list: # for문으로 deposit_list에 있는것을 하나씩 빼와서 출력하기\n",
        "            print(f\"{self.name}님의 계좌에 {amount}원 입금 되었습니다.\")\n",
        "\n",
        "    def withdraw(self, amount): # amount(출금액)을 받아서 self.money에서 빼주는 함수\n",
        "        if amount <= self.money: # amount(출금액)을 받아서 self.money 보다 적을 경우\n",
        "            self.money -= amount # amonut에 써진 금액을 self.money에서 빼버린다.\n",
        "            self.withdraw_list.append(amount) # 그리고, amount를 출금내역에 추가해서 나중에 출금내역을 뽑을수 있게 만든다.\n",
        "            print(f\"{amount}원을 출금하셨습니다. 잔액은 {self.money_stack()}원 입니다.\") # 출금한 금액, 그래서 총 남은 잔액 출력\n",
        "        else:\n",
        "            print(f\"출금 금액은 {self.money}를 초과하실 수 없습니다.\") # self.money보다 많은 금액을 입력하면 출력\n",
        "\n",
        "    def withdraw_history(self): # 출금내역 출력하기\n",
        "        for amount in self.withdraw_list: # for문으로 withdraw_list에 있는것을 하나씩 빼와서 출력하기\n",
        "            print(f\"{self.name}님의 계좌에서 {amount}원 출금 되었습니다.\")\n",
        "\n",
        "    def display_info(self): # 은행 계좌 정보 출력하기?\n",
        "        print(\"은행이름 :\", self.bankname) # 은행이름\n",
        "        print(\"예금주 :\", self.name) # 예금주\n",
        "        print(\"잔액 :\", self.money_stack()) # 잔액\n",
        "        print(\"계좌번호 :\", self.number) # 계좌번호\n",
        "\n",
        "    def money_stack(self): # 숫자 ,000 으로 만들어주기 위한 함수\n",
        "        return f\"{self.money:,}\" # f-string에서 :, 구문은 천단위로 끊어주는 역할을 함\n",
        "\n",
        "    @classmethod # 클래스메서드를 써봤습니다. 클래스자체를 한번 더 불러오는 것처럼 __init__함수를 다시 활용하는 개념같더라고요\n",
        "    def create_account(cls, name, money): # 예금주와, 계좌잔액을 받아서 새로 객체를 생성하기 함수\n",
        "        new_account = cls(name, money)\n",
        "        return new_account\n",
        "\n",
        "    def display_account_info(self): # 계좌만들어진 사람들의 정보가져오기\n",
        "        for account in Account.account_list: # 클래스에 만들어진 객체들의 리스트를 불러와서 하나씩 빼줍니다.\n",
        "            print(\"-\" * 25) # 구분지어서 볼수있게 하기\n",
        "            print(f\"{account.name} 고객 정보입니다.\") # 그사람의 이름 출력\n",
        "            account.display_info() # 그사람의 정보 출력\n",
        "\n",
        "    def display_vip_account_info(self): # 계좌만들어진 사람들의 정보가져오기\n",
        "        for account in Account.account_list:\n",
        "            if account.money >= 1000000: # 그중에 money가 100만원 이상인 사람만 불러오곘다.\n",
        "                print(\"\\n\") # VIP 느낌 물씬나게 구분선 짓기\n",
        "                print(\"*\" * 25)\n",
        "                print(f\"* {account.name}님은 VIP 입니다 *\") # VIP 취급해주기\n",
        "                print(\"*\" * 25)\n",
        "                print(f\"{account.name} 고객 정보 입니다.\") # 그 사람의 이름 출력\n",
        "                account.display_info() # 그사람의 정보 출력\n",
        "\n",
        "my_bank = Account(\"최강훈\", 10000)\n",
        "account1 = Account.create_account(\"이승환\", 5000)\n",
        "account2 = Account.create_account(\"김양희\", 2000000)\n",
        "\n",
        "account1.deposit(100000)\n",
        "account1.deposit(100000)\n",
        "account1.deposit(100000)\n",
        "account1.deposit(100000)\n",
        "account1.deposit(100000)\n",
        "account2.withdraw(100000)\n",
        "account2.withdraw(100000)\n",
        "account2.withdraw(100000)\n",
        "account2.withdraw(100000)\n",
        "\n",
        "my_bank.display_account_info()\n",
        "my_bank.display_vip_account_info()\n",
        "print()\n",
        "account1.deposit_history()\n",
        "print()\n",
        "account1.display_info()\n",
        "print()\n",
        "account2.withdraw_history()\n",
        "print()\n",
        "account2.display_info()"
      ],
      "metadata": {
        "colab": {
          "base_uri": "https://localhost:8080/"
        },
        "id": "-99s3UW8SDPL",
        "outputId": "428ddc43-3b4b-497e-c05c-b071cb202ce1"
      },
      "execution_count": null,
      "outputs": [
        {
          "output_type": "stream",
          "name": "stdout",
          "text": [
            "100000원을 입금하셨습니다. 잔액은 105,000원 입니다.\n",
            "100000원을 입금하셨습니다. 잔액은 205,000원 입니다.\n",
            "100000원을 입금하셨습니다. 잔액은 305,000원 입니다.\n",
            "100000원을 입금하셨습니다. 잔액은 405,000원 입니다.\n",
            "100000원을 입금하셨습니다. 잔액은 505,000원 입니다.\n",
            "505000에 이자 1%인 5050.0원이 입금되었습니다.\n",
            "현재 계좌 잔액은 510050.0원 입니다.\n",
            "100000원을 출금하셨습니다. 잔액은 1,900,000원 입니다.\n",
            "100000원을 출금하셨습니다. 잔액은 1,800,000원 입니다.\n",
            "100000원을 출금하셨습니다. 잔액은 1,700,000원 입니다.\n",
            "100000원을 출금하셨습니다. 잔액은 1,600,000원 입니다.\n",
            "-------------------------\n",
            "최강훈 고객 정보입니다.\n",
            "은행이름 : SC은행\n",
            "예금주 : 최강훈\n",
            "잔액 : 10,000\n",
            "계좌번호 : 570-35-464762\n",
            "-------------------------\n",
            "이승환 고객 정보입니다.\n",
            "은행이름 : SC은행\n",
            "예금주 : 이승환\n",
            "잔액 : 510,050.0\n",
            "계좌번호 : 425-72-754023\n",
            "-------------------------\n",
            "김양희 고객 정보입니다.\n",
            "은행이름 : SC은행\n",
            "예금주 : 김양희\n",
            "잔액 : 1,600,000\n",
            "계좌번호 : 431-97-267964\n",
            "\n",
            "\n",
            "*************************\n",
            "* 김양희님은 VIP 입니다 *\n",
            "*************************\n",
            "김양희 고객 정보 입니다.\n",
            "은행이름 : SC은행\n",
            "예금주 : 김양희\n",
            "잔액 : 1,600,000\n",
            "계좌번호 : 431-97-267964\n",
            "\n",
            "이승환님의 계좌에 100000원 입금 되었습니다.\n",
            "이승환님의 계좌에 100000원 입금 되었습니다.\n",
            "이승환님의 계좌에 100000원 입금 되었습니다.\n",
            "이승환님의 계좌에 100000원 입금 되었습니다.\n",
            "이승환님의 계좌에 100000원 입금 되었습니다.\n",
            "이승환님의 계좌에 5050.0원 입금 되었습니다.\n",
            "\n",
            "은행이름 : SC은행\n",
            "예금주 : 이승환\n",
            "잔액 : 510,050.0\n",
            "계좌번호 : 425-72-754023\n",
            "\n",
            "김양희님의 계좌에서 100000원 출금 되었습니다.\n",
            "김양희님의 계좌에서 100000원 출금 되었습니다.\n",
            "김양희님의 계좌에서 100000원 출금 되었습니다.\n",
            "김양희님의 계좌에서 100000원 출금 되었습니다.\n",
            "\n",
            "은행이름 : SC은행\n",
            "예금주 : 김양희\n",
            "잔액 : 1,600,000\n",
            "계좌번호 : 431-97-267964\n"
          ]
        }
      ]
    },
    {
      "cell_type": "markdown",
      "source": [
        "## 회고"
      ],
      "metadata": {
        "id": "VJ9cuqoM8Pe-"
      }
    },
    {
      "cell_type": "markdown",
      "source": [
        "### K\n",
        "- 마지막에 다시 코드정리를 한다. ( 프로젝트 때 부터 시행중 )"
      ],
      "metadata": {
        "id": "r8dLXkrc9HbD"
      }
    },
    {
      "cell_type": "markdown",
      "source": [
        "### P\n",
        "- 배운 개념을 써보겠다고 자식클래스(부모클래스)를 했다가 망했다.\n",
        "- 문제가 구조라고 생각하고 막 코드를 짰다가 개차반 된 점"
      ],
      "metadata": {
        "id": "GqkWwXCS9HUN"
      }
    },
    {
      "cell_type": "markdown",
      "source": [
        "### T\n",
        "- 깔끔하게 나오기 위해선 한 클래스에서 그 객체에 관한것들을 끝내야 한다는 것을 뒤늦게 깨닫고 맨 마지막에 코드 정리할 때 한 클래스에 다시 정리한점\n",
        "- 막 코드를 짠것을 마지막에 정리할 때 구조를 짠 점"
      ],
      "metadata": {
        "id": "BdcR5B7I9HM1"
      }
    },
    {
      "cell_type": "markdown",
      "source": [
        "---\n",
        "\n",
        "프로젝트 때도 노드에서 했던것에 대하여 다시 정리를 하면서 이해를 했었는데\n",
        "\n",
        "이번에는 구조자체를 잘못 짰다는것을 깨닫고, 늦게나마 코드를 다시 정리했다.\n",
        "\n",
        "계좌라는 객체에 대해서 정의를 하는것이였는데 왜 클래스를 나눴었는지... 참;;\n",
        "\n",
        "거기서 시간이 많이 소요되서 많이 수정을 했다.\n",
        "\n",
        "2번을 풀 시간이 얼마 남지않아서 시간분배도 잘 하지 못했던 것 같다.\n",
        "\n",
        "다음에는 처음부터 구조를 짜야 될 것 같다... 기획을 잘했어야 했고, 퍼실님께서도\n",
        "\n",
        "처음에 무엇부터 할지를 생각하라고 했는데 마냥 문제를 보면서 해결해 나갔던게 문제 같다.\n",
        "\n",
        "나만의 구조를 안만들어서 엉키게 된 것 같다."
      ],
      "metadata": {
        "id": "lehHR1fa96O-"
      }
    }
  ]
}