{
  "nbformat": 4,
  "nbformat_minor": 0,
  "metadata": {
    "colab": {
      "provenance": [],
      "toc_visible": true,
      "authorship_tag": "ABX9TyPgjzBKAz+HdYO4+MJjdVbR",
      "include_colab_link": true
    },
    "kernelspec": {
      "name": "python3",
      "display_name": "Python 3"
    },
    "language_info": {
      "name": "python"
    },
    "accelerator": "TPU"
  },
  "cells": [
    {
      "cell_type": "markdown",
      "metadata": {
        "id": "view-in-github",
        "colab_type": "text"
      },
      "source": [
        "<a href=\"https://colab.research.google.com/github/choikanghoon/Aiffel_study/blob/master/MainQuest/main_Quest03_2.ipynb\" target=\"_parent\"><img src=\"https://colab.research.google.com/assets/colab-badge.svg\" alt=\"Open In Colab\"/></a>"
      ]
    },
    {
      "cell_type": "markdown",
      "source": [
        "# 가위바위보\n",
        "\n",
        "가위바위보 분류기를 만들려고 한다.\n",
        "1. 목차\n",
        "- 버전확인\n",
        "- 구글마운트\n",
        "- train_datasets 불러오기 (채림님 데이터 사용)\n",
        "- train 생성\n",
        "    - X_train 과 y_train을 나누고, 20%를 검증용 데이터 사용\n",
        "- 1번째 모델 생성\n",
        "    - 결과\n",
        "- 2번째 모델 생성(데이터증강, 배치정규화) ( 성능이 좋지 못했음 )\n",
        "- 회고\n",
        "- 1번째 test 파일 불러오기 ( 보겸님 데이터 사용 )\n",
        "- 1번째 test 파일 결과\n",
        "    - 91.77% 까지 결과 도출 성공\n",
        "- 2번째 test 파일 불러오기 ( 새로 웹캠으로 촬영 후 test파일 생성 )\n",
        "- 2번째 test 파일 결과\n",
        "    - 30% 대의 결과로 의미 없는 결과 확인\n"
      ],
      "metadata": {
        "id": "fSSjmYuvSy3b"
      }
    },
    {
      "cell_type": "markdown",
      "source": [
        "## 버전확인"
      ],
      "metadata": {
        "id": "HCDXn-htS2N3"
      }
    },
    {
      "cell_type": "code",
      "execution_count": 1,
      "metadata": {
        "colab": {
          "base_uri": "https://localhost:8080/"
        },
        "id": "igYnZrgrA1a4",
        "outputId": "dc01bf75-b9d4-4f92-b759-fe3cbcfce983"
      },
      "outputs": [
        {
          "output_type": "stream",
          "name": "stdout",
          "text": [
            "2.12.0\n",
            "1.23.5\n"
          ]
        }
      ],
      "source": [
        "import tensorflow as tf\n",
        "import numpy as np\n",
        "\n",
        "print(tf.__version__)\n",
        "print(np.__version__)"
      ]
    },
    {
      "cell_type": "markdown",
      "source": [
        "## 구글 마운트"
      ],
      "metadata": {
        "id": "-0AHRZ60S3K2"
      }
    },
    {
      "cell_type": "code",
      "source": [
        "from google.colab import drive\n",
        "drive.mount('/content/drive')"
      ],
      "metadata": {
        "colab": {
          "base_uri": "https://localhost:8080/"
        },
        "id": "Rc8W7AfnA7T3",
        "outputId": "189f9d79-6ca9-4ab5-f8fc-3af510406f6f"
      },
      "execution_count": 2,
      "outputs": [
        {
          "output_type": "stream",
          "name": "stdout",
          "text": [
            "Mounted at /content/drive\n"
          ]
        }
      ]
    },
    {
      "cell_type": "code",
      "source": [
        "from PIL import Image\n",
        "import glob\n",
        "import os\n",
        "\n",
        "print(\"PIL 라이브러리 import 완료!\")"
      ],
      "metadata": {
        "colab": {
          "base_uri": "https://localhost:8080/"
        },
        "id": "k485C8RKBFiI",
        "outputId": "6e4d14aa-16c3-4c4d-9350-0ec358f74bc1"
      },
      "execution_count": 3,
      "outputs": [
        {
          "output_type": "stream",
          "name": "stdout",
          "text": [
            "PIL 라이브러리 import 완료!\n"
          ]
        }
      ]
    },
    {
      "cell_type": "markdown",
      "source": [
        "## train_datasets 불러오기"
      ],
      "metadata": {
        "id": "-2ORAB1qS8ly"
      }
    },
    {
      "cell_type": "code",
      "source": [
        "import os\n",
        "import shutil\n",
        "\n",
        "def copy_folder(src_dir, dst_dir):\n",
        "    \"\"\"\n",
        "    src_dir 디렉토리를 dst_dir 디렉토리에 복사합니다.\n",
        "\n",
        "    Args:\n",
        "        src_dir: 복사할 디렉토리 경로\n",
        "        dst_dir: 복사할 디렉토리의 대상 경로\n",
        "\n",
        "    Returns:\n",
        "        None\n",
        "    \"\"\"\n",
        "\n",
        "    if not os.path.isdir(src_dir):\n",
        "        raise FileNotFoundError(f\"{src_dir} 디렉토리가 존재하지 않습니다.\")\n",
        "    if os.path.isdir(dst_dir):\n",
        "        raise FileExistsError(f\"{dst_dir} 디렉토리가 이미 존재합니다.\")\n",
        "\n",
        "    os.makedirs(dst_dir, exist_ok=True)\n",
        "\n",
        "    for file in os.listdir(src_dir):\n",
        "        src_file_path = os.path.join(src_dir, file)\n",
        "        dst_file_path = os.path.join(dst_dir, file)\n",
        "\n",
        "        if os.path.isfile(src_file_path):\n",
        "            shutil.copy2(src_file_path, dst_file_path)\n",
        "        elif os.path.isdir(src_file_path):\n",
        "            copy_folder(src_file_path, dst_file_path)\n",
        "\n",
        "\n",
        "if __name__ == \"__main__\":\n",
        "    src_dir = \"/content/drive/MyDrive/가위바위보 데이터셋/홍채림 - zip 안해둠/rock_scissor_paper\"\n",
        "    dst_dir = \"/content/drive/MyDrive/아이펠과정/Main_Quest03/채림\"\n",
        "\n",
        "    copy_folder(src_dir, dst_dir)"
      ],
      "metadata": {
        "id": "EEasAnpBBWUj"
      },
      "execution_count": 4,
      "outputs": []
    },
    {
      "cell_type": "code",
      "source": [
        "from PIL import Image\n",
        "import os\n",
        "import glob\n",
        "\n",
        "def resize_images(img_path):\n",
        "    images = glob.glob(img_path + \"/*.jpg\")\n",
        "\n",
        "    print(len(images), \" images to be resized.\")\n",
        "\n",
        "    # 파일마다 모두 28x28 사이즈로 바꾸어 저장합니다.\n",
        "    target_size = (28, 28)\n",
        "    for img in images:\n",
        "        old_img = Image.open(img)\n",
        "        new_img = old_img.resize(target_size, Image.ANTIALIAS)\n",
        "        new_img.save(img, \"JPEG\")\n",
        "\n",
        "    print(len(images), \" images resized.\")\n",
        "\n",
        "# 가위 이미지가 저장된 디렉토리 아래의 모든 jpg 파일을 읽어들여서\n",
        "scissor_path = \"/content/drive/MyDrive/아이펠과정/Main_Quest03/채림/paper\"\n",
        "paper_path = \"/content/drive/MyDrive/아이펠과정/Main_Quest03/채림/rock\"\n",
        "rock_path = \"/content/drive/MyDrive/아이펠과정/Main_Quest03/채림/scissor\"\n",
        "\n",
        "resize_images(scissor_path)\n",
        "resize_images(paper_path)\n",
        "resize_images(rock_path)"
      ],
      "metadata": {
        "colab": {
          "base_uri": "https://localhost:8080/"
        },
        "id": "_0_D24gTBJkx",
        "outputId": "c92d9e58-6941-4429-8468-607713e970d8"
      },
      "execution_count": 44,
      "outputs": [
        {
          "output_type": "stream",
          "name": "stdout",
          "text": [
            "1140  images to be resized.\n"
          ]
        },
        {
          "output_type": "stream",
          "name": "stderr",
          "text": [
            "<ipython-input-44-a5d789bdfb43>:14: DeprecationWarning: ANTIALIAS is deprecated and will be removed in Pillow 10 (2023-07-01). Use LANCZOS or Resampling.LANCZOS instead.\n",
            "  new_img = old_img.resize(target_size, Image.ANTIALIAS)\n"
          ]
        },
        {
          "output_type": "stream",
          "name": "stdout",
          "text": [
            "1140  images resized.\n",
            "1024  images to be resized.\n",
            "1024  images resized.\n",
            "1077  images to be resized.\n",
            "1077  images resized.\n"
          ]
        }
      ]
    },
    {
      "cell_type": "markdown",
      "source": [
        "## train 생성"
      ],
      "metadata": {
        "id": "V3VXXHL4TCu6"
      }
    },
    {
      "cell_type": "code",
      "source": [
        "import numpy as np\n",
        "\n",
        "def load_data(img_path, number_of_data=3241):  # 가위바위보 이미지 개수 총합에 주의하세요.\n",
        "    # 가위 : 0, 바위 : 1, 보 : 2\n",
        "    img_size=28\n",
        "    color=3\n",
        "    #이미지 데이터와 라벨(가위 : 0, 바위 : 1, 보 : 2) 데이터를 담을 행렬(matrix) 영역을 생성합니다.\n",
        "    imgs=np.zeros(number_of_data*img_size*img_size*color,dtype=np.int32).reshape(number_of_data,img_size,img_size,color)\n",
        "    labels=np.zeros(number_of_data,dtype=np.int32)\n",
        "\n",
        "    idx=0\n",
        "    for file in glob.iglob(img_path+'/scissor/*.jpg'):\n",
        "        img = np.array(Image.open(file),dtype=np.int32)\n",
        "        imgs[idx,:,:,:]=img    # 데이터 영역에 이미지 행렬을 복사\n",
        "        labels[idx]=0   # 가위 : 0\n",
        "        idx=idx+1\n",
        "\n",
        "    for file in glob.iglob(img_path+'/rock/*.jpg'):\n",
        "        img = np.array(Image.open(file),dtype=np.int32)\n",
        "        imgs[idx,:,:,:]=img    # 데이터 영역에 이미지 행렬을 복사\n",
        "        labels[idx]=1   # 바위 : 1\n",
        "        idx=idx+1\n",
        "\n",
        "    for file in glob.iglob(img_path+'/paper/*.jpg'):\n",
        "        img = np.array(Image.open(file),dtype=np.int32)\n",
        "        imgs[idx,:,:,:]=img    # 데이터 영역에 이미지 행렬을 복사\n",
        "        labels[idx]=2   # 보 : 2\n",
        "        idx=idx+1\n",
        "\n",
        "    print(\"학습데이터(x_train)의 이미지 개수는\", idx,\"입니다.\")\n",
        "    return imgs, labels\n",
        "\n",
        "image_dir_path = \"/content/drive/MyDrive/아이펠과정/Main_Quest03/채림\"\n",
        "(x_train, y_train)=load_data(image_dir_path)\n",
        "x_train_norm = x_train/255.0   # 입력은 0~1 사이의 값으로 정규화\n",
        "\n",
        "print(\"x_train shape: {}\".format(x_train.shape))\n",
        "print(\"y_train shape: {}\".format(y_train.shape))"
      ],
      "metadata": {
        "colab": {
          "base_uri": "https://localhost:8080/"
        },
        "id": "crLkQj9aC3OR",
        "outputId": "22577778-234a-4dd9-8762-428504ab987c"
      },
      "execution_count": 75,
      "outputs": [
        {
          "output_type": "stream",
          "name": "stdout",
          "text": [
            "학습데이터(x_train)의 이미지 개수는 3241 입니다.\n",
            "x_train shape: (3241, 28, 28, 3)\n",
            "y_train shape: (3241,)\n"
          ]
        }
      ]
    },
    {
      "cell_type": "code",
      "source": [
        "from sklearn.model_selection import train_test_split\n",
        "X_train, X_val, y_train, y_val = train_test_split(x_train_norm, y_train, test_size=0.2, random_state=42) # 검증데이터 생성 및 랜덤값을 42번으로 고정"
      ],
      "metadata": {
        "id": "_tM-h_5xC66o"
      },
      "execution_count": 76,
      "outputs": []
    },
    {
      "cell_type": "markdown",
      "source": [
        "## 1번째 모델 생성"
      ],
      "metadata": {
        "id": "Sey7bpCQTGKv"
      }
    },
    {
      "cell_type": "code",
      "source": [
        "import tensorflow as tf\n",
        "from tensorflow import keras\n",
        "import numpy as np\n",
        "\n",
        "n_channel_1=16\n",
        "n_channel_2=32\n",
        "n_channel_3=64\n",
        "n_dense=128\n",
        "n_train_epoch=15\n",
        "from tensorflow.keras.callbacks import EarlyStopping # 모델이 향상되지 않을경우 멈추는 기능\n",
        "\n",
        "model=keras.models.Sequential()\n",
        "model.add(keras.layers.Conv2D(n_channel_1, (3,3), activation='relu', input_shape=(28,28,3))) # 처음 들어오는 사이즈가 28x28의 3채널을 가졌고 3x3 필터를 사용 relu 함수 사용\n",
        "model.add(keras.layers.MaxPool2D(2,2)) # 맥스풀링 2X2\n",
        "model.add(keras.layers.Conv2D(n_channel_2, (3,3), activation='relu'))\n",
        "model.add(keras.layers.MaxPooling2D((2,2)))\n",
        "model.add(keras.layers.Conv2D(n_channel_3, (3,3), activation='relu'))\n",
        "model.add(keras.layers.MaxPooling2D((2,2)))\n",
        "model.add(keras.layers.Flatten())\n",
        "model.add(keras.layers.Dense(n_dense, activation='relu'))\n",
        "\n",
        "model.add(keras.layers.Dropout(0.2))\n",
        "model.add(keras.layers.Dense(3, activation='softmax'))\n",
        "\n",
        "\n",
        "model.summary()\n",
        "\n",
        "# 모델 학습\n",
        "optimizer = keras.optimizers.Adam(learning_rate=0.001)\n",
        "model.compile(optimizer=optimizer,\n",
        "             loss='sparse_categorical_crossentropy',\n",
        "             metrics=['accuracy'])\n",
        "\n",
        "# model.compile(optimizer='adam',\n",
        "#              loss='sparse_categorical_crossentropy',\n",
        "#              metrics=['accuracy'])\n",
        "\n",
        "early_stopping = EarlyStopping(monitor='val_loss', patience=2, restore_best_weights=True)\n",
        "\n",
        "model.fit(X_train, y_train, validation_data=(X_val, y_val),epochs=n_train_epoch) # val_loss, val_accuracy 확인하기\n",
        "\n",
        "\n"
      ],
      "metadata": {
        "colab": {
          "base_uri": "https://localhost:8080/"
        },
        "id": "YTAp592SC7iu",
        "outputId": "2439efee-a841-47a3-a4df-2a750d6323c6"
      },
      "execution_count": 102,
      "outputs": [
        {
          "output_type": "stream",
          "name": "stdout",
          "text": [
            "Model: \"sequential_21\"\n",
            "_________________________________________________________________\n",
            " Layer (type)                Output Shape              Param #   \n",
            "=================================================================\n",
            " conv2d_61 (Conv2D)          (None, 26, 26, 16)        448       \n",
            "                                                                 \n",
            " max_pooling2d_61 (MaxPoolin  (None, 13, 13, 16)       0         \n",
            " g2D)                                                            \n",
            "                                                                 \n",
            " conv2d_62 (Conv2D)          (None, 11, 11, 32)        4640      \n",
            "                                                                 \n",
            " max_pooling2d_62 (MaxPoolin  (None, 5, 5, 32)         0         \n",
            " g2D)                                                            \n",
            "                                                                 \n",
            " conv2d_63 (Conv2D)          (None, 3, 3, 64)          18496     \n",
            "                                                                 \n",
            " max_pooling2d_63 (MaxPoolin  (None, 1, 1, 64)         0         \n",
            " g2D)                                                            \n",
            "                                                                 \n",
            " flatten_19 (Flatten)        (None, 64)                0         \n",
            "                                                                 \n",
            " dense_38 (Dense)            (None, 128)               8320      \n",
            "                                                                 \n",
            " dropout_19 (Dropout)        (None, 128)               0         \n",
            "                                                                 \n",
            " dense_39 (Dense)            (None, 3)                 387       \n",
            "                                                                 \n",
            "=================================================================\n",
            "Total params: 32,291\n",
            "Trainable params: 32,291\n",
            "Non-trainable params: 0\n",
            "_________________________________________________________________\n",
            "Epoch 1/15\n",
            "81/81 [==============================] - 4s 30ms/step - loss: 1.0892 - accuracy: 0.3939 - val_loss: 1.1005 - val_accuracy: 0.3205\n",
            "Epoch 2/15\n",
            "81/81 [==============================] - 2s 26ms/step - loss: 0.8854 - accuracy: 0.6142 - val_loss: 0.6370 - val_accuracy: 0.7473\n",
            "Epoch 3/15\n",
            "81/81 [==============================] - 2s 25ms/step - loss: 0.4816 - accuracy: 0.8110 - val_loss: 0.3717 - val_accuracy: 0.8598\n",
            "Epoch 4/15\n",
            "81/81 [==============================] - 2s 23ms/step - loss: 0.3069 - accuracy: 0.8850 - val_loss: 0.2607 - val_accuracy: 0.8952\n",
            "Epoch 5/15\n",
            "81/81 [==============================] - 2s 25ms/step - loss: 0.2380 - accuracy: 0.9109 - val_loss: 0.1892 - val_accuracy: 0.9414\n",
            "Epoch 6/15\n",
            "81/81 [==============================] - 3s 35ms/step - loss: 0.1671 - accuracy: 0.9433 - val_loss: 0.1667 - val_accuracy: 0.9476\n",
            "Epoch 7/15\n",
            "81/81 [==============================] - 3s 39ms/step - loss: 0.1234 - accuracy: 0.9591 - val_loss: 0.1024 - val_accuracy: 0.9738\n",
            "Epoch 8/15\n",
            "81/81 [==============================] - 2s 28ms/step - loss: 0.0898 - accuracy: 0.9726 - val_loss: 0.1155 - val_accuracy: 0.9507\n",
            "Epoch 9/15\n",
            "81/81 [==============================] - 2s 23ms/step - loss: 0.0737 - accuracy: 0.9765 - val_loss: 0.0777 - val_accuracy: 0.9800\n",
            "Epoch 10/15\n",
            "81/81 [==============================] - 2s 23ms/step - loss: 0.0687 - accuracy: 0.9745 - val_loss: 0.0649 - val_accuracy: 0.9877\n",
            "Epoch 11/15\n",
            "81/81 [==============================] - 2s 23ms/step - loss: 0.0409 - accuracy: 0.9892 - val_loss: 0.0530 - val_accuracy: 0.9831\n",
            "Epoch 12/15\n",
            "81/81 [==============================] - 2s 23ms/step - loss: 0.0477 - accuracy: 0.9869 - val_loss: 0.0663 - val_accuracy: 0.9800\n",
            "Epoch 13/15\n",
            "81/81 [==============================] - 2s 26ms/step - loss: 0.0357 - accuracy: 0.9904 - val_loss: 0.0299 - val_accuracy: 0.9954\n",
            "Epoch 14/15\n",
            "81/81 [==============================] - 3s 40ms/step - loss: 0.0243 - accuracy: 0.9942 - val_loss: 0.0324 - val_accuracy: 0.9923\n",
            "Epoch 15/15\n",
            "81/81 [==============================] - 3s 37ms/step - loss: 0.0275 - accuracy: 0.9923 - val_loss: 0.0616 - val_accuracy: 0.9738\n"
          ]
        },
        {
          "output_type": "execute_result",
          "data": {
            "text/plain": [
              "<keras.callbacks.History at 0x783bb9115810>"
            ]
          },
          "metadata": {},
          "execution_count": 102
        }
      ]
    },
    {
      "cell_type": "markdown",
      "source": [
        "### 결과"
      ],
      "metadata": {
        "id": "AQ154Z9ETd5Z"
      }
    },
    {
      "cell_type": "code",
      "source": [
        "from tensorflow.keras.utils import plot_model  # 모델 구조를 시각화하는 데 사용되는 함수 제공\n",
        "plot_model(model, show_shapes=True, expand_nested=True, dpi=60)"
      ],
      "metadata": {
        "colab": {
          "base_uri": "https://localhost:8080/",
          "height": 754
        },
        "id": "UgWrQmOCC9MB",
        "outputId": "f9a9d57f-aae8-4067-854d-e1ced0649e1b"
      },
      "execution_count": 95,
      "outputs": [
        {
          "output_type": "execute_result",
          "data": {
            "image/png": "[encoded data removed]",
            "text/plain": [
              "<IPython.core.display.Image object>"
            ]
          },
          "metadata": {},
          "execution_count": 95
        }
      ]
    },
    {
      "cell_type": "markdown",
      "source": [
        "1차\n",
        "\n",
        "n_channel_1=32\n",
        "n_channel_2=64\n",
        "n_channel_3=128\n",
        "n_dense=256\n",
        "n_train_epoch=15\n",
        "드롭아웃=0.2\n",
        "\n",
        "0.5393 -> 0.7827 -> 0.8536 -> 0.9153 -> 0.9322 -> 0.9676 -> 0.9630 -> 0.9723 -> 0.9769 -> 0.9846 -> 0.9815 -> 0.9815 -> 0.9908 -> ... -> 0.9861\n",
        "\n",
        "2차\n",
        "\n",
        "n_channel_1=16\n",
        "n_channel_2=32\n",
        "n_channel_3=64\n",
        "n_dense=128\n",
        "n_train_epoch=15\n",
        "드롭아웃=0.2\n",
        "\n",
        "0.4299 -> 0.4468 -> 0.8505 -> 0.9137 -> 0.9230 -> 0.9106 -> 0.9615 -> 0.9584 -> 0.9476 -> 0.9199 -> 0.9831 -> 0.9831 -> ... -> 0.9861\n",
        "\n",
        "3차\n",
        "\n",
        "n_channel_1=16\n",
        "n_channel_2=32\n",
        "n_channel_3=64\n",
        "n_dense=128\n",
        "n_train_epoch=15\n",
        "드롭아웃=0.2\n",
        "Adam 학습률 0.001\n",
        "\n",
        "0.6086 -> 0.7011 -> 0.7982 -> 0.8059 -> 0.9368 -> 0.9353 -> 0.9553 -> 0.9723 -> 0.9707 -> 0.9815 -> 0.9800 -> 0.9831 -> 0.9892 -> ... -> 0.9753"
      ],
      "metadata": {
        "id": "DeaU3Vp5H5Us"
      }
    },
    {
      "cell_type": "markdown",
      "source": [
        "대부분 과적합이 일어나는 것인지, 정확도가 오르락 내리락 하는 구간이 있음 4차부터는 ealry_stoping을 사용해야 할 듯"
      ],
      "metadata": {
        "id": "NZzf6UrnNHpE"
      }
    },
    {
      "cell_type": "markdown",
      "source": [
        "4차\n",
        "\n",
        "n_channel_1=32\n",
        "n_channel_2=64\n",
        "n_channel_3=128\n",
        "n_dense=256\n",
        "n_train_epoch=15\n",
        "드롭아웃=0.2\n",
        "ealry_stoping = 2\n",
        "일때\n",
        "\n",
        "0.4961 -> 0.7920 -> 0.7720 -> 0.9414 -> 0.9307 -> 0.9337 -> 0.9676 -> 0.9599 -> 0.9784 -> 0.9784 -> 0.9815 -> 0.9599 -> 0.9753 -> ... -> 0.9861\n",
        "\n",
        "5차\n",
        "\n",
        "n_channel_1=16\n",
        "n_channel_2=32\n",
        "n_channel_3=64\n",
        "n_dense=128\n",
        "n_train_epoch=15\n",
        "드롭아웃=0.2\n",
        "\n",
        "0.6179 -> 0.7427 -> 0.8105 -> 0.8752 -> 0.8829 -> 0.8752 -> 0.9399 -> 0.9337 -> 0.9553 -> 0.9692 -> 0.9569 -> 0.9738 -> 0.9846 -> ... -> 0.9861\n",
        "\n",
        "6차\n",
        "\n",
        "n_channel_1=16\n",
        "n_channel_2=32\n",
        "n_channel_3=64\n",
        "n_dense=128\n",
        "n_train_epoch=15\n",
        "드롭아웃=0.2\n",
        "Adam 학습률 0.001\n",
        "\n",
        "0.5331 -> 0.7504 -> 0.8120 -> 0.8983 -> 0.9414 -> 0.9322 -> 0.9461 -> 0.9676 -> 0.9384 -> 0.9800 -> 0.9630 -> 0.9723 -> 0.9861 -> ... -> 0.9846"
      ],
      "metadata": {
        "id": "7PsI3vp1ODbA"
      }
    },
    {
      "cell_type": "markdown",
      "source": [
        "## 2번째 모델 생성\n",
        "\n",
        "데이터 증강 + 배치정규화 까지 했지만, 결과는 더 좋지 않게 나온 것 같다."
      ],
      "metadata": {
        "id": "c2k--FiSTI7s"
      }
    },
    {
      "cell_type": "code",
      "source": [
        "import numpy as np\n",
        "import tensorflow as tf\n",
        "from tensorflow import keras\n",
        "from tensorflow.keras.layers import Conv2D, MaxPooling2D, Flatten, Dense, BatchNormalization, Dropout # 배치 정규화 추가\n",
        "from tensorflow.keras.preprocessing.image import ImageDataGenerator # 데이터 증강\n",
        "\n",
        "n_channel_1=32\n",
        "n_channel_2=64\n",
        "n_channel_3=128\n",
        "n_dense=256\n",
        "n_train_epoch=15\n",
        "from tensorflow.keras.callbacks import EarlyStopping # 모델이 향상되지 않을경우 멈추는 기능\n",
        "\n",
        "model = keras.models.Sequential()\n",
        "model.add(keras.layers.Conv2D(n_channel_1, (3,3), activation='relu', input_shape=(28,28,3))) # 처음 들어오는 사이즈가 28x28의 3채널을 가졌고 3x3 필터를 사용 relu 함수 사용\n",
        "model.add(keras.layers.MaxPool2D(2,2)) # 맥스풀링 2X2\n",
        "model.add(keras.layers.Conv2D(n_channel_2, (3,3), activation='relu'))\n",
        "model.add(keras.layers.MaxPooling2D((2,2)))\n",
        "model.add(keras.layers.Conv2D(n_channel_3, (3,3), activation='relu'))\n",
        "model.add(keras.layers.MaxPooling2D((2,2)))\n",
        "model.add(keras.layers.Flatten())\n",
        "model.add(keras.layers.Dense(n_dense, activation='relu'))\n",
        "\n",
        "model.add(keras.layers.Dropout(0.2))\n",
        "model.add(keras.layers.Dense(3, activation='softmax'))\n",
        "\n",
        "\n",
        "model.summary()\n",
        "\n",
        "# 모델 학습\n",
        "optimizer = keras.optimizers.Adam(learning_rate=0.001)\n",
        "model.compile(optimizer=optimizer,\n",
        "             loss='sparse_categorical_crossentropy',\n",
        "             metrics=['accuracy'])\n",
        "\n",
        "train_datagen = ImageDataGenerator(\n",
        "    rescale=1./255,\n",
        "    rotation_range=20,\n",
        "    width_shift_range=0.2,\n",
        "    height_shift_range=0.2,\n",
        "    shear_range=0.2,\n",
        "    zoom_range=0.2,\n",
        "    horizontal_flip=True,\n",
        "    fill_mode='nearest'\n",
        ")\n",
        "\n",
        "train_generator = train_datagen.flow(X_train, y_train, batch_size=32)\n",
        "early_stopping = EarlyStopping(monitor='val_loss', patience=1, restore_best_weights=True)\n",
        "\n",
        "# 모델 훈련\n",
        "model.fit(X_train, y_train, validation_data=(X_val, y_val),epochs=n_train_epoch) # val_loss, val_accuracy 확인하기"
      ],
      "metadata": {
        "colab": {
          "base_uri": "https://localhost:8080/"
        },
        "id": "4lm0iHrdSqEc",
        "outputId": "b54c4fcb-7a62-4a79-b951-d8b73490e90a"
      },
      "execution_count": 96,
      "outputs": [
        {
          "output_type": "stream",
          "name": "stdout",
          "text": [
            "Model: \"sequential_20\"\n",
            "_________________________________________________________________\n",
            " Layer (type)                Output Shape              Param #   \n",
            "=================================================================\n",
            " conv2d_58 (Conv2D)          (None, 26, 26, 32)        896       \n",
            "                                                                 \n",
            " max_pooling2d_58 (MaxPoolin  (None, 13, 13, 32)       0         \n",
            " g2D)                                                            \n",
            "                                                                 \n",
            " conv2d_59 (Conv2D)          (None, 11, 11, 64)        18496     \n",
            "                                                                 \n",
            " max_pooling2d_59 (MaxPoolin  (None, 5, 5, 64)         0         \n",
            " g2D)                                                            \n",
            "                                                                 \n",
            " conv2d_60 (Conv2D)          (None, 3, 3, 128)         73856     \n",
            "                                                                 \n",
            " max_pooling2d_60 (MaxPoolin  (None, 1, 1, 128)        0         \n",
            " g2D)                                                            \n",
            "                                                                 \n",
            " flatten_18 (Flatten)        (None, 128)               0         \n",
            "                                                                 \n",
            " dense_36 (Dense)            (None, 256)               33024     \n",
            "                                                                 \n",
            " dropout_18 (Dropout)        (None, 256)               0         \n",
            "                                                                 \n",
            " dense_37 (Dense)            (None, 3)                 771       \n",
            "                                                                 \n",
            "=================================================================\n",
            "Total params: 127,043\n",
            "Trainable params: 127,043\n",
            "Non-trainable params: 0\n",
            "_________________________________________________________________\n",
            "Epoch 1/15\n",
            "81/81 [==============================] - 5s 40ms/step - loss: 1.0970 - accuracy: 0.3603 - val_loss: 1.1032 - val_accuracy: 0.2928\n",
            "Epoch 2/15\n",
            "81/81 [==============================] - 3s 40ms/step - loss: 0.9471 - accuracy: 0.5463 - val_loss: 0.6134 - val_accuracy: 0.7689\n",
            "Epoch 3/15\n",
            "81/81 [==============================] - 4s 54ms/step - loss: 0.4437 - accuracy: 0.8241 - val_loss: 0.2914 - val_accuracy: 0.8998\n",
            "Epoch 4/15\n",
            "81/81 [==============================] - 5s 67ms/step - loss: 0.2470 - accuracy: 0.9086 - val_loss: 0.3540 - val_accuracy: 0.8428\n",
            "Epoch 5/15\n",
            "81/81 [==============================] - 3s 40ms/step - loss: 0.1982 - accuracy: 0.9267 - val_loss: 0.1799 - val_accuracy: 0.9291\n",
            "Epoch 6/15\n",
            "81/81 [==============================] - 3s 40ms/step - loss: 0.1001 - accuracy: 0.9676 - val_loss: 0.0970 - val_accuracy: 0.9723\n",
            "Epoch 7/15\n",
            "81/81 [==============================] - 3s 39ms/step - loss: 0.0750 - accuracy: 0.9695 - val_loss: 0.0640 - val_accuracy: 0.9723\n",
            "Epoch 8/15\n",
            "81/81 [==============================] - 6s 71ms/step - loss: 0.0429 - accuracy: 0.9880 - val_loss: 0.0548 - val_accuracy: 0.9861\n",
            "Epoch 9/15\n",
            "81/81 [==============================] - 4s 46ms/step - loss: 0.0357 - accuracy: 0.9915 - val_loss: 0.0695 - val_accuracy: 0.9723\n",
            "Epoch 10/15\n",
            "81/81 [==============================] - 3s 42ms/step - loss: 0.0302 - accuracy: 0.9915 - val_loss: 0.0448 - val_accuracy: 0.9892\n",
            "Epoch 11/15\n",
            "81/81 [==============================] - 3s 41ms/step - loss: 0.0280 - accuracy: 0.9904 - val_loss: 0.0721 - val_accuracy: 0.9769\n",
            "Epoch 12/15\n",
            "81/81 [==============================] - 6s 72ms/step - loss: 0.0266 - accuracy: 0.9923 - val_loss: 0.0798 - val_accuracy: 0.9676\n",
            "Epoch 13/15\n",
            "81/81 [==============================] - 4s 54ms/step - loss: 0.0171 - accuracy: 0.9958 - val_loss: 0.0171 - val_accuracy: 0.9923\n",
            "Epoch 14/15\n",
            "81/81 [==============================] - 4s 48ms/step - loss: 0.0180 - accuracy: 0.9961 - val_loss: 0.0495 - val_accuracy: 0.9800\n",
            "Epoch 15/15\n",
            "81/81 [==============================] - 3s 42ms/step - loss: 0.0103 - accuracy: 0.9969 - val_loss: 0.0155 - val_accuracy: 0.9954\n"
          ]
        },
        {
          "output_type": "execute_result",
          "data": {
            "text/plain": [
              "<keras.callbacks.History at 0x783bb92ad570>"
            ]
          },
          "metadata": {},
          "execution_count": 96
        }
      ]
    },
    {
      "cell_type": "code",
      "source": [
        "from tensorflow.keras.utils import plot_model  # 모델 구조를 시각화하는 데 사용되는 함수 제공\n",
        "plot_model(model, show_shapes=True, expand_nested=True, dpi=60)"
      ],
      "metadata": {
        "colab": {
          "base_uri": "https://localhost:8080/",
          "height": 754
        },
        "id": "BomOw7zUXKhM",
        "outputId": "3df150b6-3833-4ed6-f0d4-e67361423fd4"
      },
      "execution_count": 97,
      "outputs": [
        {
          "output_type": "execute_result",
          "data": {
            "image/png": "[encoded data removed]",
            "text/plain": [
              "<IPython.core.display.Image object>"
            ]
          },
          "metadata": {},
          "execution_count": 97
        }
      ]
    },
    {
      "cell_type": "markdown",
      "source": [
        "## 1번째 test 파일 불러오기"
      ],
      "metadata": {
        "id": "QnyZDwrBTMzY"
      }
    },
    {
      "cell_type": "code",
      "source": [
        "import os\n",
        "import shutil\n",
        "\n",
        "def copy_folder(src_dir, dst_dir):\n",
        "    \"\"\"\n",
        "    src_dir 디렉토리를 dst_dir 디렉토리에 복사합니다.\n",
        "\n",
        "    Args:\n",
        "        src_dir: 복사할 디렉토리 경로\n",
        "        dst_dir: 복사할 디렉토리의 대상 경로\n",
        "\n",
        "    Returns:\n",
        "        None\n",
        "    \"\"\"\n",
        "\n",
        "    if not os.path.isdir(src_dir):\n",
        "        raise FileNotFoundError(f\"{src_dir} 디렉토리가 존재하지 않습니다.\")\n",
        "    if os.path.isdir(dst_dir):\n",
        "        raise FileExistsError(f\"{dst_dir} 디렉토리가 이미 존재합니다.\")\n",
        "\n",
        "    os.makedirs(dst_dir, exist_ok=True)\n",
        "\n",
        "    for file in os.listdir(src_dir):\n",
        "        src_file_path = os.path.join(src_dir, file)\n",
        "        dst_file_path = os.path.join(dst_dir, file)\n",
        "\n",
        "        if os.path.isfile(src_file_path):\n",
        "            shutil.copy2(src_file_path, dst_file_path)\n",
        "        elif os.path.isdir(src_file_path):\n",
        "            copy_folder(src_file_path, dst_file_path)\n",
        "\n",
        "\n",
        "if __name__ == \"__main__\":\n",
        "    src_dir = \"/content/drive/MyDrive/가위바위보 데이터셋/조보겸 (O)/rock_scissor_paper\"\n",
        "    dst_dir = \"/content/drive/MyDrive/아이펠과정/Main_Quest03/보겸\"\n",
        "\n",
        "    copy_folder(src_dir, dst_dir)"
      ],
      "metadata": {
        "colab": {
          "base_uri": "https://localhost:8080/",
          "height": 349
        },
        "id": "0kGQUaSJCHIw",
        "outputId": "0f2b57a8-ad02-4b05-eced-d62533cfd38d"
      },
      "execution_count": 21,
      "outputs": [
        {
          "output_type": "error",
          "ename": "FileExistsError",
          "evalue": "ignored",
          "traceback": [
            "\u001b[0;31m---------------------------------------------------------------------------\u001b[0m",
            "\u001b[0;31mFileExistsError\u001b[0m                           Traceback (most recent call last)",
            "\u001b[0;32m<ipython-input-21-bd466130f69b>\u001b[0m in \u001b[0;36m<cell line: 33>\u001b[0;34m()\u001b[0m\n\u001b[1;32m     35\u001b[0m     \u001b[0mdst_dir\u001b[0m \u001b[0;34m=\u001b[0m \u001b[0;34m\"/content/drive/MyDrive/아이펠과정/Main_Quest03/보겸\"\u001b[0m\u001b[0;34m\u001b[0m\u001b[0;34m\u001b[0m\u001b[0m\n\u001b[1;32m     36\u001b[0m \u001b[0;34m\u001b[0m\u001b[0m\n\u001b[0;32m---> 37\u001b[0;31m     \u001b[0mcopy_folder\u001b[0m\u001b[0;34m(\u001b[0m\u001b[0msrc_dir\u001b[0m\u001b[0;34m,\u001b[0m \u001b[0mdst_dir\u001b[0m\u001b[0;34m)\u001b[0m\u001b[0;34m\u001b[0m\u001b[0;34m\u001b[0m\u001b[0m\n\u001b[0m",
            "\u001b[0;32m<ipython-input-21-bd466130f69b>\u001b[0m in \u001b[0;36mcopy_folder\u001b[0;34m(src_dir, dst_dir)\u001b[0m\n\u001b[1;32m     17\u001b[0m         \u001b[0;32mraise\u001b[0m \u001b[0mFileNotFoundError\u001b[0m\u001b[0;34m(\u001b[0m\u001b[0;34mf\"{src_dir} 디렉토리가 존재하지 않습니다.\"\u001b[0m\u001b[0;34m)\u001b[0m\u001b[0;34m\u001b[0m\u001b[0;34m\u001b[0m\u001b[0m\n\u001b[1;32m     18\u001b[0m     \u001b[0;32mif\u001b[0m \u001b[0mos\u001b[0m\u001b[0;34m.\u001b[0m\u001b[0mpath\u001b[0m\u001b[0;34m.\u001b[0m\u001b[0misdir\u001b[0m\u001b[0;34m(\u001b[0m\u001b[0mdst_dir\u001b[0m\u001b[0;34m)\u001b[0m\u001b[0;34m:\u001b[0m\u001b[0;34m\u001b[0m\u001b[0;34m\u001b[0m\u001b[0m\n\u001b[0;32m---> 19\u001b[0;31m         \u001b[0;32mraise\u001b[0m \u001b[0mFileExistsError\u001b[0m\u001b[0;34m(\u001b[0m\u001b[0;34mf\"{dst_dir} 디렉토리가 이미 존재합니다.\"\u001b[0m\u001b[0;34m)\u001b[0m\u001b[0;34m\u001b[0m\u001b[0;34m\u001b[0m\u001b[0m\n\u001b[0m\u001b[1;32m     20\u001b[0m \u001b[0;34m\u001b[0m\u001b[0m\n\u001b[1;32m     21\u001b[0m     \u001b[0mos\u001b[0m\u001b[0;34m.\u001b[0m\u001b[0mmakedirs\u001b[0m\u001b[0;34m(\u001b[0m\u001b[0mdst_dir\u001b[0m\u001b[0;34m,\u001b[0m \u001b[0mexist_ok\u001b[0m\u001b[0;34m=\u001b[0m\u001b[0;32mTrue\u001b[0m\u001b[0;34m)\u001b[0m\u001b[0;34m\u001b[0m\u001b[0;34m\u001b[0m\u001b[0m\n",
            "\u001b[0;31mFileExistsError\u001b[0m: /content/drive/MyDrive/아이펠과정/Main_Quest03/보겸 디렉토리가 이미 존재합니다."
          ]
        }
      ]
    },
    {
      "cell_type": "code",
      "source": [
        "from PIL import Image\n",
        "import os\n",
        "import glob\n",
        "\n",
        "def resize_images(img_path):\n",
        "    images = glob.glob(img_path + \"/*.jpg\")\n",
        "\n",
        "    print(len(images), \" images to be resized.\")\n",
        "\n",
        "    # 파일마다 모두 28x28 사이즈로 바꾸어 저장합니다.\n",
        "    target_size = (28, 28)\n",
        "    for img in images:\n",
        "        old_img = Image.open(img)\n",
        "        new_img = old_img.resize(target_size, Image.ANTIALIAS)\n",
        "        new_img.save(img, \"JPEG\")\n",
        "\n",
        "    print(len(images), \" images resized.\")\n",
        "\n",
        "# 가위 이미지가 저장된 디렉토리 아래의 모든 jpg 파일을 읽어들여서\n",
        "scissor_path = \"/content/drive/MyDrive/아이펠과정/Main_Quest03/보겸/paper\"\n",
        "paper_path = \"/content/drive/MyDrive/아이펠과정/Main_Quest03/보겸/rock\"\n",
        "rock_path = \"/content/drive/MyDrive/아이펠과정/Main_Quest03/보겸/scissor\"\n",
        "\n",
        "resize_images(scissor_path)\n",
        "resize_images(paper_path)\n",
        "resize_images(rock_path)"
      ],
      "metadata": {
        "colab": {
          "base_uri": "https://localhost:8080/"
        },
        "id": "N1viOqlZD0Ch",
        "outputId": "9fb16149-d18f-4b3a-e685-322d24ffbb9b"
      },
      "execution_count": 12,
      "outputs": [
        {
          "output_type": "stream",
          "name": "stdout",
          "text": [
            "100  images to be resized.\n"
          ]
        },
        {
          "output_type": "stream",
          "name": "stderr",
          "text": [
            "<ipython-input-12-d615607c81f6>:14: DeprecationWarning: ANTIALIAS is deprecated and will be removed in Pillow 10 (2023-07-01). Use LANCZOS or Resampling.LANCZOS instead.\n",
            "  new_img = old_img.resize(target_size, Image.ANTIALIAS)\n"
          ]
        },
        {
          "output_type": "stream",
          "name": "stdout",
          "text": [
            "100  images resized.\n",
            "100  images to be resized.\n",
            "100  images resized.\n",
            "100  images to be resized.\n",
            "100  images resized.\n"
          ]
        }
      ]
    },
    {
      "cell_type": "code",
      "source": [
        "import numpy as np\n",
        "\n",
        "def load_data(img_path, number_of_data=304):  # 가위바위보 이미지 개수 총합에 주의하세요.\n",
        "    # 가위 : 0, 바위 : 1, 보 : 2\n",
        "    img_size=28\n",
        "    color=3\n",
        "    #이미지 데이터와 라벨(가위 : 0, 바위 : 1, 보 : 2) 데이터를 담을 행렬(matrix) 영역을 생성합니다.\n",
        "    imgs=np.zeros(number_of_data*img_size*img_size*color,dtype=np.int32).reshape(number_of_data,img_size,img_size,color)\n",
        "    labels=np.zeros(number_of_data,dtype=np.int32)\n",
        "\n",
        "    idx=0\n",
        "    for file in glob.iglob(img_path+'/scissor/*.jpg'):\n",
        "        img = np.array(Image.open(file),dtype=np.int32)\n",
        "        imgs[idx,:,:,:]=img    # 데이터 영역에 이미지 행렬을 복사\n",
        "        labels[idx]=0   # 가위 : 0\n",
        "        idx=idx+1\n",
        "\n",
        "    for file in glob.iglob(img_path+'/rock/*.jpg'):\n",
        "        img = np.array(Image.open(file),dtype=np.int32)\n",
        "        imgs[idx,:,:,:]=img    # 데이터 영역에 이미지 행렬을 복사\n",
        "        labels[idx]=1   # 바위 : 1\n",
        "        idx=idx+1\n",
        "\n",
        "    for file in glob.iglob(img_path+'/paper/*.jpg'):\n",
        "        img = np.array(Image.open(file),dtype=np.int32)\n",
        "        imgs[idx,:,:,:]=img    # 데이터 영역에 이미지 행렬을 복사\n",
        "        labels[idx]=2   # 보 : 2\n",
        "        idx=idx+1\n",
        "\n",
        "    print(\"학습데이터(x_train)의 이미지 개수는\", idx,\"입니다.\")\n",
        "    return imgs, labels\n",
        "\n",
        "image_dir_path = \"/content/drive/MyDrive/아이펠과정/Main_Quest03/보겸\"\n",
        "(x_test, y_test)=load_data(image_dir_path)\n",
        "x_test_norm = x_test/255.0   # 입력은 0~1 사이의 값으로 정규화\n",
        "\n",
        "print(\"x_test shape: {}\".format(x_test.shape))\n",
        "print(\"y_test shape: {}\".format(y_test.shape))"
      ],
      "metadata": {
        "colab": {
          "base_uri": "https://localhost:8080/"
        },
        "id": "gXsDtRxJD-zV",
        "outputId": "55edf38c-ce2e-44fa-ab64-ea30bd94faf0"
      },
      "execution_count": 89,
      "outputs": [
        {
          "output_type": "stream",
          "name": "stdout",
          "text": [
            "학습데이터(x_train)의 이미지 개수는 300 입니다.\n",
            "x_train shape: (304, 28, 28, 3)\n",
            "y_train shape: (304,)\n"
          ]
        }
      ]
    },
    {
      "cell_type": "markdown",
      "source": [
        "## 1번째 test 예측 결과"
      ],
      "metadata": {
        "id": "lEJb4iFPTP5v"
      }
    },
    {
      "cell_type": "code",
      "source": [
        "test_loss, test_accuracy = model.evaluate(x_test_norm, y_test, verbose=2)\n",
        "print(\"test_loss: {} \".format(test_loss))\n",
        "print(\"test_accuracy: {}\".format(test_accuracy))"
      ],
      "metadata": {
        "colab": {
          "base_uri": "https://localhost:8080/"
        },
        "id": "xJIAbOmdDAy8",
        "outputId": "fc231b67-5108-4af1-ea50-020a0acd1f4c"
      },
      "execution_count": 90,
      "outputs": [
        {
          "output_type": "stream",
          "name": "stdout",
          "text": [
            "10/10 - 0s - loss: 0.3957 - accuracy: 0.8553 - 118ms/epoch - 12ms/step\n",
            "test_loss: 0.39571887254714966 \n",
            "test_accuracy: 0.8552631735801697\n"
          ]
        }
      ]
    },
    {
      "cell_type": "markdown",
      "source": [
        "### 결과"
      ],
      "metadata": {
        "id": "aVdTVVSwTgql"
      }
    },
    {
      "cell_type": "markdown",
      "source": [
        "1차\n",
        "\n",
        "10/10 - 0s - loss: 0.3709 - accuracy: 0.8849 - 139ms/epoch - 14ms/step\n",
        "test_loss: 0.3708781599998474\n",
        "test_accuracy: 0.8848684430122375\n",
        "\n",
        "2차\n",
        "\n",
        "10/10 - 0s - loss: 0.5478 - accuracy: 0.8355 - 297ms/epoch - 30ms/step\n",
        "test_loss: 0.5477541089057922\n",
        "test_accuracy: 0.8355262875556946\n",
        "\n",
        "3차\n",
        "\n",
        "10/10 - 0s - loss: 0.2477 - accuracy: 0.9178 - 93ms/epoch - 9ms/step\n",
        "test_loss: 0.24772071838378906\n",
        "test_accuracy: 0.917763173580169\n",
        "\n",
        "4차\n",
        "\n",
        "10/10 - 0s - loss: 0.5625 - accuracy: 0.8454 - 120ms/epoch - 12ms/step\n",
        "test_loss: 0.562507152557373\n",
        "test_accuracy: 0.8453947305679321\n",
        "\n",
        "5차\n",
        "\n",
        "10/10 - 0s - loss: 0.2590 - accuracy: 0.8816 - 98ms/epoch - 10ms/step\n",
        "test_loss: 0.25900816917419434\n",
        "test_accuracy: 0.8815789222717285\n",
        "\n",
        "6차\n",
        "\n",
        "10/10 - 0s - loss: 0.2668 - accuracy: 0.8980 - 93ms/epoch - 9ms/step\n",
        "test_loss: 0.26684921979904175\n",
        "test_accuracy: 0.8980262875556946"
      ],
      "metadata": {
        "id": "je9d4hzgI6Ax"
      }
    },
    {
      "cell_type": "markdown",
      "source": [
        "## 2번째 test 파일 불러오기"
      ],
      "metadata": {
        "id": "qCXTczghTTgs"
      }
    },
    {
      "cell_type": "code",
      "source": [
        "from PIL import Image\n",
        "import os\n",
        "import glob\n",
        "\n",
        "def resize_images(img_path):\n",
        "    images = glob.glob(img_path + \"/*.jpg\")\n",
        "\n",
        "    print(len(images), \" images to be resized.\")\n",
        "\n",
        "    # 파일마다 모두 28x28 사이즈로 바꾸어 저장합니다.\n",
        "    target_size = (28, 28)\n",
        "    for img in images:\n",
        "        old_img = Image.open(img)\n",
        "        new_img = old_img.resize(target_size, Image.ANTIALIAS)\n",
        "        new_img.save(img, \"JPEG\")\n",
        "\n",
        "    print(len(images), \" images resized.\")\n",
        "\n",
        "# 가위 이미지가 저장된 디렉토리 아래의 모든 jpg 파일을 읽어들여서\n",
        "scissor_path = \"/content/drive/MyDrive/아이펠과정/Main_Quest03/test/paper\"\n",
        "paper_path = \"/content/drive/MyDrive/아이펠과정/Main_Quest03/test/rock\"\n",
        "rock_path = \"/content/drive/MyDrive/아이펠과정/Main_Quest03/test/scissor\"\n",
        "\n",
        "resize_images(scissor_path)\n",
        "resize_images(paper_path)\n",
        "resize_images(rock_path)"
      ],
      "metadata": {
        "colab": {
          "base_uri": "https://localhost:8080/"
        },
        "id": "P-XHS_GMHmmG",
        "outputId": "125cf0a3-d463-4f3f-9931-49e8aeb0c595"
      },
      "execution_count": 62,
      "outputs": [
        {
          "output_type": "stream",
          "name": "stdout",
          "text": [
            "101  images to be resized.\n"
          ]
        },
        {
          "output_type": "stream",
          "name": "stderr",
          "text": [
            "<ipython-input-62-4f72ba462285>:14: DeprecationWarning: ANTIALIAS is deprecated and will be removed in Pillow 10 (2023-07-01). Use LANCZOS or Resampling.LANCZOS instead.\n",
            "  new_img = old_img.resize(target_size, Image.ANTIALIAS)\n"
          ]
        },
        {
          "output_type": "stream",
          "name": "stdout",
          "text": [
            "101  images resized.\n",
            "100  images to be resized.\n",
            "100  images resized.\n",
            "112  images to be resized.\n",
            "112  images resized.\n"
          ]
        }
      ]
    },
    {
      "cell_type": "code",
      "source": [
        "import numpy as np\n",
        "\n",
        "def load_data(img_path, number_of_data=313):  # 가위바위보 이미지 개수 총합에 주의하세요.\n",
        "    # 가위 : 0, 바위 : 1, 보 : 2\n",
        "    img_size=28\n",
        "    color=3\n",
        "    #이미지 데이터와 라벨(가위 : 0, 바위 : 1, 보 : 2) 데이터를 담을 행렬(matrix) 영역을 생성합니다.\n",
        "    imgs=np.zeros(number_of_data*img_size*img_size*color,dtype=np.int32).reshape(number_of_data,img_size,img_size,color)\n",
        "    labels=np.zeros(number_of_data,dtype=np.int32)\n",
        "\n",
        "    idx=0\n",
        "    for file in glob.iglob(img_path+'/scissor/*.jpg'):\n",
        "        img = np.array(Image.open(file),dtype=np.int32)\n",
        "        imgs[idx,:,:,:]=img    # 데이터 영역에 이미지 행렬을 복사\n",
        "        labels[idx]=0   # 가위 : 0\n",
        "        idx=idx+1\n",
        "\n",
        "    for file in glob.iglob(img_path+'/rock/*.jpg'):\n",
        "        img = np.array(Image.open(file),dtype=np.int32)\n",
        "        imgs[idx,:,:,:]=img    # 데이터 영역에 이미지 행렬을 복사\n",
        "        labels[idx]=1   # 바위 : 1\n",
        "        idx=idx+1\n",
        "\n",
        "    for file in glob.iglob(img_path+'/paper/*.jpg'):\n",
        "        img = np.array(Image.open(file),dtype=np.int32)\n",
        "        imgs[idx,:,:,:]=img    # 데이터 영역에 이미지 행렬을 복사\n",
        "        labels[idx]=2   # 보 : 2\n",
        "        idx=idx+1\n",
        "\n",
        "    print(\"학습데이터(x_train)의 이미지 개수는\", idx,\"입니다.\")\n",
        "    return imgs, labels\n",
        "\n",
        "image_dir_path = \"/content/drive/MyDrive/아이펠과정/Main_Quest03/test\"\n",
        "(x_test, y_test)=load_data(image_dir_path)\n",
        "x_test_norm = x_test/255.0   # 입력은 0~1 사이의 값으로 정규화\n",
        "\n",
        "print(\"x_test shape: {}\".format(x_test.shape))\n",
        "print(\"y_test shape: {}\".format(y_test.shape))"
      ],
      "metadata": {
        "colab": {
          "base_uri": "https://localhost:8080/"
        },
        "id": "RpcpKgDZQqy0",
        "outputId": "3277b394-7fc5-4686-cf06-30e49ac7710c"
      },
      "execution_count": 91,
      "outputs": [
        {
          "output_type": "stream",
          "name": "stdout",
          "text": [
            "학습데이터(x_train)의 이미지 개수는 313 입니다.\n",
            "x_train shape: (313, 28, 28, 3)\n",
            "y_train shape: (313,)\n"
          ]
        }
      ]
    },
    {
      "cell_type": "markdown",
      "source": [
        "## 2번째 test 예측 결과"
      ],
      "metadata": {
        "id": "-PGwVrzlTXgV"
      }
    },
    {
      "cell_type": "code",
      "source": [
        "test_loss, test_accuracy = model.evaluate(x_test_norm, y_test, verbose=2)\n",
        "print(\"test_loss: {} \".format(test_loss))\n",
        "print(\"test_accuracy: {}\".format(test_accuracy))"
      ],
      "metadata": {
        "colab": {
          "base_uri": "https://localhost:8080/"
        },
        "id": "PtNvb00qQ1ub",
        "outputId": "792e33d4-79cb-4683-844d-1ef373abce6e"
      },
      "execution_count": 92,
      "outputs": [
        {
          "output_type": "stream",
          "name": "stdout",
          "text": [
            "10/10 - 0s - loss: 3.9595 - accuracy: 0.3035 - 122ms/epoch - 12ms/step\n",
            "test_loss: 3.959491491317749 \n",
            "test_accuracy: 0.30351439118385315\n"
          ]
        }
      ]
    },
    {
      "cell_type": "markdown",
      "source": [
        "## 3번째 test 파일 불러오기"
      ],
      "metadata": {
        "id": "y0MEvGTSYUu0"
      }
    },
    {
      "cell_type": "code",
      "source": [
        "from PIL import Image\n",
        "import os\n",
        "import glob\n",
        "\n",
        "def resize_images(img_path):\n",
        "    images = glob.glob(img_path + \"/*.jpg\")\n",
        "\n",
        "    print(len(images), \" images to be resized.\")\n",
        "\n",
        "    # 파일마다 모두 28x28 사이즈로 바꾸어 저장합니다.\n",
        "    target_size = (28, 28)\n",
        "    for img in images:\n",
        "        old_img = Image.open(img)\n",
        "        new_img = old_img.resize(target_size, Image.ANTIALIAS)\n",
        "        new_img.save(img, \"JPEG\")\n",
        "\n",
        "    print(len(images), \" images resized.\")\n",
        "\n",
        "# 가위 이미지가 저장된 디렉토리 아래의 모든 jpg 파일을 읽어들여서\n",
        "scissor_path = \"/content/drive/MyDrive/아이펠과정/Main_Quest03/이선재/paper\"\n",
        "paper_path = \"/content/drive/MyDrive/아이펠과정/Main_Quest03/이선재/rock\"\n",
        "rock_path = \"/content/drive/MyDrive/아이펠과정/Main_Quest03/이선재/scissor\"\n",
        "\n",
        "resize_images(scissor_path)\n",
        "resize_images(paper_path)\n",
        "resize_images(rock_path)"
      ],
      "metadata": {
        "colab": {
          "base_uri": "https://localhost:8080/"
        },
        "id": "oBRBrUGoQ8F7",
        "outputId": "f24ed640-8dc5-45fc-c57b-9755690d1cb7"
      },
      "execution_count": 98,
      "outputs": [
        {
          "output_type": "stream",
          "name": "stdout",
          "text": [
            "267  images to be resized.\n"
          ]
        },
        {
          "output_type": "stream",
          "name": "stderr",
          "text": [
            "<ipython-input-98-e7c967160c98>:14: DeprecationWarning: ANTIALIAS is deprecated and will be removed in Pillow 10 (2023-07-01). Use LANCZOS or Resampling.LANCZOS instead.\n",
            "  new_img = old_img.resize(target_size, Image.ANTIALIAS)\n"
          ]
        },
        {
          "output_type": "stream",
          "name": "stdout",
          "text": [
            "267  images resized.\n",
            "243  images to be resized.\n",
            "243  images resized.\n",
            "243  images to be resized.\n",
            "243  images resized.\n"
          ]
        }
      ]
    },
    {
      "cell_type": "code",
      "source": [
        "import numpy as np\n",
        "\n",
        "def load_data(img_path, number_of_data=753):  # 가위바위보 이미지 개수 총합에 주의하세요.\n",
        "    # 가위 : 0, 바위 : 1, 보 : 2\n",
        "    img_size=28\n",
        "    color=3\n",
        "    #이미지 데이터와 라벨(가위 : 0, 바위 : 1, 보 : 2) 데이터를 담을 행렬(matrix) 영역을 생성합니다.\n",
        "    imgs=np.zeros(number_of_data*img_size*img_size*color,dtype=np.int32).reshape(number_of_data,img_size,img_size,color)\n",
        "    labels=np.zeros(number_of_data,dtype=np.int32)\n",
        "\n",
        "    idx=0\n",
        "    for file in glob.iglob(img_path+'/scissor/*.jpg'):\n",
        "        img = np.array(Image.open(file),dtype=np.int32)\n",
        "        imgs[idx,:,:,:]=img    # 데이터 영역에 이미지 행렬을 복사\n",
        "        labels[idx]=0   # 가위 : 0\n",
        "        idx=idx+1\n",
        "\n",
        "    for file in glob.iglob(img_path+'/rock/*.jpg'):\n",
        "        img = np.array(Image.open(file),dtype=np.int32)\n",
        "        imgs[idx,:,:,:]=img    # 데이터 영역에 이미지 행렬을 복사\n",
        "        labels[idx]=1   # 바위 : 1\n",
        "        idx=idx+1\n",
        "\n",
        "    for file in glob.iglob(img_path+'/paper/*.jpg'):\n",
        "        img = np.array(Image.open(file),dtype=np.int32)\n",
        "        imgs[idx,:,:,:]=img    # 데이터 영역에 이미지 행렬을 복사\n",
        "        labels[idx]=2   # 보 : 2\n",
        "        idx=idx+1\n",
        "\n",
        "    print(\"학습데이터(x_train)의 이미지 개수는\", idx,\"입니다.\")\n",
        "    return imgs, labels\n",
        "\n",
        "image_dir_path = \"/content/drive/MyDrive/아이펠과정/Main_Quest03/이선재\"\n",
        "(x_test, y_test)=load_data(image_dir_path)\n",
        "x_test_norm = x_test/255.0   # 입력은 0~1 사이의 값으로 정규화\n",
        "\n",
        "print(\"x_test shape: {}\".format(x_test.shape))\n",
        "print(\"y_test shape: {}\".format(y_test.shape))"
      ],
      "metadata": {
        "colab": {
          "base_uri": "https://localhost:8080/"
        },
        "id": "uKAsqHNnX-pB",
        "outputId": "b72c3cfe-d883-4b28-e94d-0d20639d2baa"
      },
      "execution_count": 103,
      "outputs": [
        {
          "output_type": "stream",
          "name": "stdout",
          "text": [
            "학습데이터(x_train)의 이미지 개수는 753 입니다.\n",
            "x_test shape: (753, 28, 28, 3)\n",
            "y_test shape: (753,)\n"
          ]
        }
      ]
    },
    {
      "cell_type": "markdown",
      "source": [
        "## 3번째 test 예측 결과"
      ],
      "metadata": {
        "id": "rEuhnA-gZEFu"
      }
    },
    {
      "cell_type": "code",
      "source": [
        "test_loss, test_accuracy = model.evaluate(x_test_norm, y_test, verbose=2)\n",
        "print(\"test_loss: {} \".format(test_loss))\n",
        "print(\"test_accuracy: {}\".format(test_accuracy))"
      ],
      "metadata": {
        "colab": {
          "base_uri": "https://localhost:8080/"
        },
        "id": "16-oFpCKYTMz",
        "outputId": "1a1a7c5f-ce07-41b8-9a4a-ed2da8110f85"
      },
      "execution_count": 105,
      "outputs": [
        {
          "output_type": "stream",
          "name": "stdout",
          "text": [
            "24/24 - 0s - loss: 0.0058 - accuracy: 0.9987 - 338ms/epoch - 14ms/step\n",
            "test_loss: 0.005779704079031944 \n",
            "test_accuracy: 0.9986720085144043\n"
          ]
        }
      ]
    },
    {
      "cell_type": "markdown",
      "source": [
        "# 회고\n",
        "\n",
        "채림님이 데이터를 3200개나 모았다는 이야기를 듣고 train 셋으로 사용 하였으며,\n",
        "보겸님의 데이터를 test로 사용하였다. 그결과 80%이상의 정확도가 나타났고 그중, 학습률을 0.001 을 사용하였을때 91.77%라는 높은 정확도를 뽑아낼 수 있었다.\n",
        "하지만 예측값이 고정적이 아닌 랜덤한 요소가 있는 것 같다.\n",
        "마지막 6차에서 stoping을 설정하였지만, 결국 에포크가 15번 다 돌았는데\n",
        "\n",
        "결과가 90%를 미치지 못하였다."
      ],
      "metadata": {
        "id": "QuTqhGcfPctz"
      }
    },
    {
      "cell_type": "markdown",
      "source": [
        "# 회고\n",
        "\n",
        "test 데이터를 다른 것을 사용해도 높게 나올 수 있을까 라는 생각으로 진행을 하였다. 결과는 처참하게 30%대가 나왔다....\n",
        "주말에 부모님과의 약속 등 다양한 것이 있기에, 마무리를 짓지 못한 것이 매우 아쉽다."
      ],
      "metadata": {
        "id": "po4HnA6JXcAi"
      }
    },
    {
      "cell_type": "markdown",
      "source": [
        "# 회고\n",
        "\n",
        "선재님의 파일도 test파일로 실행 하였는데, 아마 train에 있는 데이터와 동일하기 때문에\n",
        "매우 결과가 높게 나온 것으로 생각된다.\n",
        "왜.. 처음 들어오는 test 셋이 들어오면 정확도가 심하게 떨어지는지 이유를 모르겠다."
      ],
      "metadata": {
        "id": "tt6WOcUpZLMf"
      }
    },
    {
      "cell_type": "markdown",
      "source": [
        "# 회고\n",
        "- K\n",
        "    - 데이터 셋의 양을 높여서 재차 코딩\n",
        "- P\n",
        "    - 데이터셋과 관련된 test 데이터를 제외한 새로운 test에 대한 결과가 좋지 못함\n",
        "- T\n",
        "    - 데이터 증강하는 법을 찾아 추가를 하였음\n",
        "\n",
        "하지만, 결과는 더 좋지않은 결과를 초래 하였음, try 해본점은 좋았으나, 해결되지 않았음 새로 다시 처음부터 생각을 해야 할 듯"
      ],
      "metadata": {
        "id": "DEcfz9xRZcDB"
      }
    }
  ]
}