{
  "nbformat": 4,
  "nbformat_minor": 0,
  "metadata": {
    "colab": {
      "provenance": [],
      "toc_visible": true,
      "authorship_tag": "ABX9TyOQcDZultx35EAWTYZgcBum",
      "include_colab_link": true
    },
    "kernelspec": {
      "name": "python3",
      "display_name": "Python 3"
    },
    "language_info": {
      "name": "python"
    }
  },
  "cells": [
    {
      "cell_type": "markdown",
      "metadata": {
        "id": "view-in-github",
        "colab_type": "text"
      },
      "source": [
        "<a href=\"https://colab.research.google.com/github/choikanghoon/Aiffel_study/blob/master/MainQuest/main_Quest01_2.ipynb\" target=\"_parent\"><img src=\"https://colab.research.google.com/assets/colab-badge.svg\" alt=\"Open In Colab\"/></a>"
      ]
    },
    {
      "cell_type": "markdown",
      "source": [
        "# 메인퀘스트 2번 문제\n",
        "\n",
        "아이펠 캠퍼스에서는 그루들에게 학번을 부여하고 퀘스트 점수를 관리하고 있습니다.\n",
        "이제부터 학번과 점수를 관리할 수 있는 Aiffel 클래스를 만들어보도록 하겠습니다.\n",
        "\n",
        "이니셜라이저에서는 아래와 같은4개의 인자를 받습니다.\n",
        "이름, 입학연도, 기수, 과정명\n",
        "학번은 7자리로 이뤄져있고 학번 생성 규칙은 아래와 같습니다.\n",
        "\n",
        "YYNNCXX\n",
        "YY : 연도 마지막 두자리\n",
        "NN : 기수 (온라인 7기는 29기)\n",
        "C  : 과정 종류 (리서치 = 1, 코어 = 2)\n",
        "XX : 가나다순 번호"
      ],
      "metadata": {
        "id": "L9Trb4VfHH2Z"
      }
    },
    {
      "cell_type": "markdown",
      "source": [
        "## 주의사항\n",
        "\n",
        "---\n",
        "\n",
        "모든문제를 해결하지 못하였네요.. 마지막 코드 쪽에 주석달아서 왜 넣었었는지를 넣었습니다..\n",
        "\n",
        "코드를 다시 정리 하지 않아서 제 생각을 넣은게 대부분 입니다.\n",
        "\n",
        "---"
      ],
      "metadata": {
        "id": "Gyx5jsTZgJPO"
      }
    },
    {
      "cell_type": "markdown",
      "source": [
        "## 1. 코어명단\n",
        "\n",
        "코어명단(딕셔너리)을 입력받아 학번을 부여하는 초기화 메서드를 작성해보세요.\n",
        "\n",
        "{강영현:0, 강경민:0, 김민기:0, 김승순:0, 김양희:0, 김영신:0, 오우진:0, 윤혜윤:0, 이상원:0, 이선재:0, 이슬:0, 이승환:0, 전민규:0, 조보겸:0, 조수민:0, 한현종:0, 홍채림:0}\n",
        "\n"
      ],
      "metadata": {
        "id": "bZQYI_qpHJsz"
      }
    },
    {
      "cell_type": "code",
      "source": [
        "core_people = {'강영현':0, '강경민':0, '김민기':0, '김승순':0, '김양희':0, '김영신':0, '오우진':0, '윤혜윤':0, '이상원':0, '이선재':0, '이슬':0, '이승환':0, '전민규':0, '조보겸':0, '조수민':0, '최강훈':0, '한현종':0, '홍채림':0}"
      ],
      "metadata": {
        "id": "9hEuA_PMW3H6"
      },
      "execution_count": null,
      "outputs": []
    },
    {
      "cell_type": "code",
      "source": [
        "class Aiffel:\n",
        "    def __init__(self,core_people):\n",
        "        self.core_people = core_people\n",
        "        self.student()\n",
        "    def student(self):\n",
        "        year = 23\n",
        "        online = 29\n",
        "        core = 2\n",
        "        for index, name in enumerate(sorted(core_people)):\n",
        "            index += 1\n",
        "            value = f\"{year:02d}{online}{core:01d}{index:02d}\"\n",
        "            core_people[name] = value\n",
        "\n",
        "student = Aiffel(core_people)\n",
        "\n",
        "for name in core_people:\n",
        "    print(f\"{name} : 학번 {core_people[name]}\")"
      ],
      "metadata": {
        "colab": {
          "base_uri": "https://localhost:8080/"
        },
        "id": "A47zeGhSWC3i",
        "outputId": "2c7c19a2-b10f-47f0-b37e-7eddfb2adaf5"
      },
      "execution_count": null,
      "outputs": [
        {
          "output_type": "stream",
          "name": "stdout",
          "text": [
            "강영현 : 학번 2329202\n",
            "강경민 : 학번 2329201\n",
            "김민기 : 학번 2329203\n",
            "김승순 : 학번 2329204\n",
            "김양희 : 학번 2329205\n",
            "김영신 : 학번 2329206\n",
            "오우진 : 학번 2329207\n",
            "윤혜윤 : 학번 2329208\n",
            "이상원 : 학번 2329209\n",
            "이선재 : 학번 2329210\n",
            "이슬 : 학번 2329211\n",
            "이승환 : 학번 2329212\n",
            "전민규 : 학번 2329213\n",
            "조보겸 : 학번 2329214\n",
            "조수민 : 학번 2329215\n",
            "최강훈 : 학번 2329216\n",
            "한현종 : 학번 2329217\n",
            "홍채림 : 학번 2329218\n"
          ]
        }
      ]
    },
    {
      "cell_type": "markdown",
      "source": [
        "## 2. 학번의 개수를 출력하기\n",
        "\n",
        "Aiffel 클래스로부터 생성된 학번의 개수를 출력하는 get_id_num 메서드를 추가하세요"
      ],
      "metadata": {
        "id": "B3aW3a1MHJzJ"
      }
    },
    {
      "cell_type": "code",
      "source": [
        "class Aiffel:\n",
        "    def __init__(self,core_people):\n",
        "        self.core_people = core_people\n",
        "        self.student()\n",
        "    def student(self):\n",
        "        year = 23\n",
        "        online = 29\n",
        "        core = 2\n",
        "        for index, name in enumerate(sorted(core_people)):\n",
        "            index += 1\n",
        "            value = f\"{year:02d}{online}{core:01d}{index:02d}\"\n",
        "            core_people[name] = value\n",
        "    def get_id_num(self):\n",
        "        return len(self.core_people)\n",
        "\n",
        "student = Aiffel(core_people)\n",
        "\n",
        "# for name in core_people:\n",
        "#     print(f\"{name} : 학번 {core_people[name]}\")\n",
        "\n",
        "print(f\"학번 개수 : {student.get_id_num()}개\")"
      ],
      "metadata": {
        "colab": {
          "base_uri": "https://localhost:8080/"
        },
        "id": "Xx1nDUAkXgeH",
        "outputId": "ba6c6cba-9a57-4fce-f14b-8e963c5cb2ad"
      },
      "execution_count": null,
      "outputs": [
        {
          "output_type": "stream",
          "name": "stdout",
          "text": [
            "학번 개수 : 18개\n"
          ]
        }
      ]
    },
    {
      "cell_type": "markdown",
      "source": [
        "## 3. score 메서드 추가하기\n",
        "\n",
        "Aiffel 클래스에 퀘스트 점수 입력을 위한 score 메서드를 추가하세요. 점수는 +1점 부터 +3점까지만"
      ],
      "metadata": {
        "id": "Mf3dSu7GYbDP"
      }
    },
    {
      "cell_type": "code",
      "source": [
        "class Aiffel:\n",
        "    def __init__(self,core_people):\n",
        "        self.core_people = core_people\n",
        "        self.student()\n",
        "\n",
        "    def student(self):\n",
        "        year = 23\n",
        "        online = 29\n",
        "        core = 2\n",
        "        for index, name in enumerate(sorted(core_people)):\n",
        "            index += 1\n",
        "            value = f\"{year:02d}{online}{core:01d}{index:02d}\"\n",
        "            core_people[name] = {'학번': value, '퀘스트 점수' : 0}\n",
        "    def get_id_num(self):\n",
        "        return len(self.core_people)\n",
        "\n",
        "    def score(self, name, quest_score):\n",
        "        if name in self.core_people:\n",
        "            if 1 <= quest_score <= 3:\n",
        "                self.core_people[name]['퀘스트 점수'] += quest_score\n",
        "                print(f\"{name}의 퀘스트 점수가 {quest_score}점 추가 되었습니다.\")\n",
        "            else:\n",
        "                print(\"잘못 입력 하셨습니다.\")\n",
        "        else:\n",
        "            print(f\"{name} 학생은 존재하지 않습니다.\")\n",
        "student = Aiffel(core_people)\n",
        "\n",
        "for name in core_people:\n",
        "    print(f\"{name} : 학번 {core_people[name]}\")\n",
        "\n",
        "print(f\"학번 개수 : {student.get_id_num()}개\")\n",
        "student.score('김양희', 3)"
      ],
      "metadata": {
        "colab": {
          "base_uri": "https://localhost:8080/"
        },
        "id": "IDjpQSdOX9VC",
        "outputId": "d0efbaf2-0c14-455d-8947-c3b7e2cab87d"
      },
      "execution_count": null,
      "outputs": [
        {
          "output_type": "stream",
          "name": "stdout",
          "text": [
            "강영현 : 학번 {'학번': '2329202', '퀘스트 점수': 0}\n",
            "강경민 : 학번 {'학번': '2329201', '퀘스트 점수': 0}\n",
            "김민기 : 학번 {'학번': '2329203', '퀘스트 점수': 0}\n",
            "김승순 : 학번 {'학번': '2329204', '퀘스트 점수': 0}\n",
            "김양희 : 학번 {'학번': '2329205', '퀘스트 점수': 0}\n",
            "김영신 : 학번 {'학번': '2329206', '퀘스트 점수': 0}\n",
            "오우진 : 학번 {'학번': '2329207', '퀘스트 점수': 0}\n",
            "윤혜윤 : 학번 {'학번': '2329208', '퀘스트 점수': 0}\n",
            "이상원 : 학번 {'학번': '2329209', '퀘스트 점수': 0}\n",
            "이선재 : 학번 {'학번': '2329210', '퀘스트 점수': 0}\n",
            "이슬 : 학번 {'학번': '2329211', '퀘스트 점수': 0}\n",
            "이승환 : 학번 {'학번': '2329212', '퀘스트 점수': 0}\n",
            "전민규 : 학번 {'학번': '2329213', '퀘스트 점수': 0}\n",
            "조보겸 : 학번 {'학번': '2329214', '퀘스트 점수': 0}\n",
            "조수민 : 학번 {'학번': '2329215', '퀘스트 점수': 0}\n",
            "최강훈 : 학번 {'학번': '2329216', '퀘스트 점수': 0}\n",
            "한현종 : 학번 {'학번': '2329217', '퀘스트 점수': 0}\n",
            "홍채림 : 학번 {'학번': '2329218', '퀘스트 점수': 0}\n",
            "학번 개수 : 18개\n",
            "김양희의 퀘스트 점수가 3점 추가 되었습니다.\n"
          ]
        }
      ]
    },
    {
      "cell_type": "markdown",
      "source": [
        "## 4. penalty 메서드 추가하기\n",
        "\n"
      ],
      "metadata": {
        "id": "73FiUDfddaZN"
      }
    },
    {
      "cell_type": "code",
      "source": [
        "class Aiffel:\n",
        "    def __init__(self,core_people):\n",
        "        self.core_people = core_people\n",
        "        self.student()\n",
        "\n",
        "    def student(self):\n",
        "        year = 23 # 연도\n",
        "        online = 29 # 기수\n",
        "        core = 2 # 과정\n",
        "        for index, name in enumerate(sorted(core_people)):\n",
        "            index += 1 # 인덱스를 +1을 땡기고 뒤에 다시 넣어주면 학번으로 쓸수 있겠다고 생각했습니다.\n",
        "            value = f\"{year:02d}{online}{core:01d}{index:02d}\" #처음에 year을 4자리다쓰고 2자리를 뽑아올수있을까 했는데 찾아봐도 안나와서 23으로 넣었습니다.\n",
        "            core_people[name] = {'학번': value, '퀘스트 점수' : 0} # 딕셔너리안에 딕셔너리 구조가 생각나서 했습니다.\n",
        "    def get_id_num(self):\n",
        "        return len(self.core_people) #print로 해도되는데, 혹시 반환값이 필요할지 몰라서 일단 return으로 했습니다. 총 인원에 따른 생성된 갯수 출력\n",
        "\n",
        "    def score(self, name, quest_score):\n",
        "        if name in self.core_people:\n",
        "            if 1 <= quest_score <= 3: # 1점부터 최고 3점이라고 해서 설정\n",
        "                self.core_people[name]['퀘스트 점수'] += quest_score\n",
        "                print(f\"{name}의 퀘스트 점수가 {quest_score}점 추가 되었습니다.\")\n",
        "            else:\n",
        "                print(\"잘못 입력 하셨습니다.\")\n",
        "        else:\n",
        "            print(f\"{name} 학생은 존재하지 않습니다.\")\n",
        "    def penalty(self, name, quest_score): # 처음에 name을 받았는데 굳이 넣어야할까 했는데 이름을 기입안하면 맨 마지막 사람으로 설정되어서 추가\n",
        "        if name in self.core_people:\n",
        "            if 1 <= quest_score <= 3: # 최대 3점까지만 깎을거라고 생각했습니다. 안그러면 마음이 아파서\n",
        "                self.core_people[name]['퀘스트 점수'] -= quest_score\n",
        "                print(f\"{name}의 퀘스트 점수가 {quest_score}점 감점 되었습니다.\")\n",
        "            else:\n",
        "                print(\"잘못 입력 하셨습니다.\")\n",
        "        else:\n",
        "            print(f\"{name} 학생은 존재하지 않습니다.\")\n",
        "student = Aiffel(core_people)\n",
        "\n",
        "for name in core_people:\n",
        "    print(f\"{name} : 학번 {core_people[name]}\")\n",
        "\n",
        "print(f\"학번 개수 : {student.get_id_num()}개\")\n",
        "student.score('김양희', 3)\n",
        "student.penalty('최강훈', 3)"
      ],
      "metadata": {
        "colab": {
          "base_uri": "https://localhost:8080/"
        },
        "id": "L_1J2viXbePq",
        "outputId": "f3a7bd6a-4aaf-46f8-df90-23091459bdbc"
      },
      "execution_count": null,
      "outputs": [
        {
          "output_type": "stream",
          "name": "stdout",
          "text": [
            "강영현 : 학번 {'학번': '2329202', '퀘스트 점수': 0}\n",
            "강경민 : 학번 {'학번': '2329201', '퀘스트 점수': 0}\n",
            "김민기 : 학번 {'학번': '2329203', '퀘스트 점수': 0}\n",
            "김승순 : 학번 {'학번': '2329204', '퀘스트 점수': 0}\n",
            "김양희 : 학번 {'학번': '2329205', '퀘스트 점수': 0}\n",
            "김영신 : 학번 {'학번': '2329206', '퀘스트 점수': 0}\n",
            "오우진 : 학번 {'학번': '2329207', '퀘스트 점수': 0}\n",
            "윤혜윤 : 학번 {'학번': '2329208', '퀘스트 점수': 0}\n",
            "이상원 : 학번 {'학번': '2329209', '퀘스트 점수': 0}\n",
            "이선재 : 학번 {'학번': '2329210', '퀘스트 점수': 0}\n",
            "이슬 : 학번 {'학번': '2329211', '퀘스트 점수': 0}\n",
            "이승환 : 학번 {'학번': '2329212', '퀘스트 점수': 0}\n",
            "전민규 : 학번 {'학번': '2329213', '퀘스트 점수': 0}\n",
            "조보겸 : 학번 {'학번': '2329214', '퀘스트 점수': 0}\n",
            "조수민 : 학번 {'학번': '2329215', '퀘스트 점수': 0}\n",
            "최강훈 : 학번 {'학번': '2329216', '퀘스트 점수': 0}\n",
            "한현종 : 학번 {'학번': '2329217', '퀘스트 점수': 0}\n",
            "홍채림 : 학번 {'학번': '2329218', '퀘스트 점수': 0}\n",
            "학번 개수 : 18개\n",
            "김양희의 퀘스트 점수가 3점 추가 되었습니다.\n",
            "최강훈의 퀘스트 점수가 3점 감점 되었습니다.\n"
          ]
        }
      ]
    },
    {
      "cell_type": "markdown",
      "source": [
        "## display_info() 메서드 추가하기\n",
        "\n",
        "Aiffel 인스턴스에 저장된 정보를 출력하는 display_info() 메서드를 추가하세요.\n",
        "\n",
        "해당 메서드를 호출하면 이름, 학번, 과정종류, 퀘스트 점수 총점, 퀘스트 입력 총점, 퀘스트 penalty 총합이\n",
        "\n",
        "새로운 코어 명단(csv파일)로 출력되어야 합니다."
      ],
      "metadata": {
        "id": "wudy4qOmeLVk"
      }
    },
    {
      "cell_type": "code",
      "source": [],
      "metadata": {
        "id": "fTxjK1dGcWgM"
      },
      "execution_count": null,
      "outputs": []
    },
    {
      "cell_type": "markdown",
      "source": [
        "## 회고...\n",
        "\n",
        "결국 다 풀지를 못했네요..\n",
        "패널티 부분은 다행히도 score의 반대가 되었기때문에 얻어 걸렸지만,\n",
        "\n",
        "딕셔너리에 대해서 알아보는데에서 모든 진이 다 빨린 것 같습니다 하하하하..\n",
        "\n",
        "최대한 열심히 했지만 4번이 끝날때 10분이 남아서 마무리를 짓게 되어 5번부터는 건들지를 못하였네요\n",
        "\n",
        "퀘스트 너무 어려운것 같아요 ㅠㅠ"
      ],
      "metadata": {
        "id": "AD-N4PWue8ua"
      }
    }
  ]
}