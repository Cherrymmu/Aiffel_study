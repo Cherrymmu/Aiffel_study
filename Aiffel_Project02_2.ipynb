{
 "cells": [
  {
   "cell_type": "markdown",
   "id": "2739e51a",
   "metadata": {},
   "source": [
    "# Reuters 딥러닝 모델"
   ]
  },
  {
   "cell_type": "markdown",
   "id": "30146a01",
   "metadata": {},
   "source": [
    "## 환경설정"
   ]
  },
  {
   "cell_type": "code",
   "execution_count": 2,
   "id": "97640b5b",
   "metadata": {},
   "outputs": [],
   "source": [
    "import numpy as np\n",
    "import matplotlib.pyplot as plt\n",
    "from sklearn.model_selection import train_test_split\n",
    "\n",
    "from tensorflow.keras import models, layers\n",
    "from tensorflow.keras import callbacks\n",
    "from tensorflow.keras import utils\n",
    "from tensorflow.keras.datasets import reuters"
   ]
  },
  {
   "cell_type": "markdown",
   "id": "7f3d1b34",
   "metadata": {},
   "source": [
    "## 데이터 불러오기 및 검증데이터 분리"
   ]
  },
  {
   "cell_type": "code",
   "execution_count": 3,
   "id": "c9dbe7cd",
   "metadata": {},
   "outputs": [
    {
     "name": "stdout",
     "output_type": "stream",
     "text": [
      "6736\n",
      "2246\n",
      "2246\n",
      "46\n"
     ]
    }
   ],
   "source": [
    "# 문제 2-1: reuters 데이터셋을 로드하고, 훈련 데이터셋에서 25%를 검증 데이터셋으로 분리합니다.\n",
    "(train_data, train_labels), (test_data, test_labels) = reuters.load_data(num_words=10000)\n",
    "train_data, val_data, train_labels, val_labels = train_test_split(train_data, train_labels, test_size=0.25, random_state=42)\n",
    "\n",
    "# 훈련, 검증, 테스트 데이터와 레이블 종류가 몇 개인지 출력합니다.\n",
    "print(len(train_data))\n",
    "print(len(val_data))\n",
    "print(len(test_data))\n",
    "print(len(set(train_labels)))"
   ]
  },
  {
   "cell_type": "markdown",
   "id": "9a88daec",
   "metadata": {},
   "source": [
    "## 원핫 인코딩 실시"
   ]
  },
  {
   "cell_type": "code",
   "execution_count": 4,
   "id": "c2683a95",
   "metadata": {},
   "outputs": [],
   "source": [
    "# 문제 2-2: 텍스트 데이터의 전처리를 위해서 각 데이터셋마다 원-핫 인코딩을 수행합니다.\n",
    "def one_hot_encoding(data, dim=10000):\n",
    "  results = np.zeros((len(data), dim))\n",
    "  for i, d in enumerate(data):\n",
    "    results[i, d] = 1.\n",
    "  return results\n",
    "\n",
    "x_train = one_hot_encoding(train_data)\n",
    "x_val = one_hot_encoding(val_data)\n",
    "x_test = one_hot_encoding(test_data)\n",
    "\n",
    "# 레이블 데이터들은 범주형 형태로 to_categorical() 함수를 사용해 변환합니다.\n",
    "from tensorflow.keras.utils import to_categorical# label을 categorical 형태로 만드는 모듈\n",
    "\n",
    "y_train_one_hot = to_categorical(train_labels) # GPT에 물어봤을때 num_class를 넣어줘야한다고 했었지만, 위에 46이이 나온 개념과 같아서\n",
    "y_val_one_hot = to_categorical(val_labels) # 없어도 된다고 한다. dim 부분쪽에서 에러가 났었는지 오류가 지속적으로 떠서 헤맸었음\n",
    "y_test_one_hot = to_categorical(test_labels)"
   ]
  },
  {
   "cell_type": "markdown",
   "id": "8bedda18",
   "metadata": {},
   "source": [
    "## 모델학습"
   ]
  },
  {
   "cell_type": "code",
   "execution_count": 5,
   "id": "07e9a5ed",
   "metadata": {},
   "outputs": [
    {
     "name": "stdout",
     "output_type": "stream",
     "text": [
      "WARNING:tensorflow:Please add `keras.layers.InputLayer` instead of `keras.Input` to Sequential model. `keras.Input` is intended to be used by Functional model.\n"
     ]
    }
   ],
   "source": [
    "# 문제 2-3: 빠른 학습과 과대적합을 방지하기 위해 BatchNormalization과 Dropout을 적용한 딥러닝 모델을 구성합니다.\n",
    "model = models.Sequential()\n",
    "model.add(layers.Input(shape=(10000, )))\n",
    "model.add(layers.Dense(128, activation='relu'))\n",
    "model.add(layers.BatchNormalization())\n",
    "model.add(layers.Activation('relu'))\n",
    "model.add(layers.Dropout(0.5))\n",
    "model.add(layers.Dense(128, activation='relu'))\n",
    "model.add(layers.BatchNormalization())\n",
    "model.add(layers.Activation('relu'))\n",
    "model.add(layers.Dropout(0.5))\n",
    "model.add(layers.Dense(46, activation='softmax'))"
   ]
  },
  {
   "cell_type": "code",
   "execution_count": 6,
   "id": "2c911cb8",
   "metadata": {},
   "outputs": [
    {
     "name": "stdout",
     "output_type": "stream",
     "text": [
      "Model: \"sequential\"\n",
      "_________________________________________________________________\n",
      "Layer (type)                 Output Shape              Param #   \n",
      "=================================================================\n",
      "dense (Dense)                (None, 128)               1280128   \n",
      "_________________________________________________________________\n",
      "batch_normalization (BatchNo (None, 128)               512       \n",
      "_________________________________________________________________\n",
      "activation (Activation)      (None, 128)               0         \n",
      "_________________________________________________________________\n",
      "dropout (Dropout)            (None, 128)               0         \n",
      "_________________________________________________________________\n",
      "dense_1 (Dense)              (None, 128)               16512     \n",
      "_________________________________________________________________\n",
      "batch_normalization_1 (Batch (None, 128)               512       \n",
      "_________________________________________________________________\n",
      "activation_1 (Activation)    (None, 128)               0         \n",
      "_________________________________________________________________\n",
      "dropout_1 (Dropout)          (None, 128)               0         \n",
      "_________________________________________________________________\n",
      "dense_2 (Dense)              (None, 46)                5934      \n",
      "=================================================================\n",
      "Total params: 1,303,598\n",
      "Trainable params: 1,303,086\n",
      "Non-trainable params: 512\n",
      "_________________________________________________________________\n"
     ]
    }
   ],
   "source": [
    "model.summary()"
   ]
  },
  {
   "cell_type": "markdown",
   "id": "ea60f93d",
   "metadata": {},
   "source": [
    "## 모델 컴파일 및 훈련 시작"
   ]
  },
  {
   "cell_type": "code",
   "execution_count": 7,
   "id": "d8a17fcc",
   "metadata": {},
   "outputs": [
    {
     "name": "stdout",
     "output_type": "stream",
     "text": [
      "Epoch 1/30\n",
      "211/211 [==============================] - 3s 8ms/step - loss: 2.3385 - accuracy: 0.4774 - val_loss: 2.6887 - val_accuracy: 0.6790\n",
      "Epoch 2/30\n",
      "211/211 [==============================] - 1s 4ms/step - loss: 1.4882 - accuracy: 0.6513 - val_loss: 1.3860 - val_accuracy: 0.7240\n",
      "Epoch 3/30\n",
      "211/211 [==============================] - 1s 4ms/step - loss: 1.2547 - accuracy: 0.6966 - val_loss: 1.2504 - val_accuracy: 0.7440\n",
      "Epoch 4/30\n",
      "211/211 [==============================] - 1s 4ms/step - loss: 1.1076 - accuracy: 0.7308 - val_loss: 1.1722 - val_accuracy: 0.7538\n",
      "Epoch 5/30\n",
      "211/211 [==============================] - 1s 4ms/step - loss: 0.9703 - accuracy: 0.7610 - val_loss: 1.1541 - val_accuracy: 0.7729\n",
      "Epoch 6/30\n",
      "211/211 [==============================] - 1s 4ms/step - loss: 0.8882 - accuracy: 0.7795 - val_loss: 1.1198 - val_accuracy: 0.7814\n",
      "Epoch 7/30\n",
      "211/211 [==============================] - 1s 4ms/step - loss: 0.8192 - accuracy: 0.7985 - val_loss: 1.0971 - val_accuracy: 0.7832\n",
      "Epoch 8/30\n",
      "211/211 [==============================] - 1s 5ms/step - loss: 0.7501 - accuracy: 0.8124 - val_loss: 1.0905 - val_accuracy: 0.7881\n",
      "Epoch 9/30\n",
      "211/211 [==============================] - 1s 6ms/step - loss: 0.6978 - accuracy: 0.8223 - val_loss: 1.0850 - val_accuracy: 0.7947\n",
      "Epoch 10/30\n",
      "211/211 [==============================] - 1s 5ms/step - loss: 0.6649 - accuracy: 0.8315 - val_loss: 1.0641 - val_accuracy: 0.7970\n",
      "Epoch 11/30\n",
      "211/211 [==============================] - 1s 5ms/step - loss: 0.6080 - accuracy: 0.8463 - val_loss: 1.0357 - val_accuracy: 0.8068\n",
      "Epoch 12/30\n",
      "211/211 [==============================] - 1s 5ms/step - loss: 0.5749 - accuracy: 0.8492 - val_loss: 1.0528 - val_accuracy: 0.8037\n",
      "Epoch 13/30\n",
      "211/211 [==============================] - 1s 5ms/step - loss: 0.5724 - accuracy: 0.8529 - val_loss: 1.0296 - val_accuracy: 0.8037\n",
      "Epoch 14/30\n",
      "211/211 [==============================] - 1s 6ms/step - loss: 0.5315 - accuracy: 0.8655 - val_loss: 1.0264 - val_accuracy: 0.8099\n",
      "Epoch 15/30\n",
      "211/211 [==============================] - 1s 6ms/step - loss: 0.4773 - accuracy: 0.8763 - val_loss: 1.0276 - val_accuracy: 0.8081\n",
      "Epoch 16/30\n",
      "211/211 [==============================] - 1s 5ms/step - loss: 0.4646 - accuracy: 0.8777 - val_loss: 1.0297 - val_accuracy: 0.8108\n",
      "Epoch 17/30\n",
      "211/211 [==============================] - 1s 4ms/step - loss: 0.4511 - accuracy: 0.8800 - val_loss: 1.0341 - val_accuracy: 0.8134\n",
      "Epoch 18/30\n",
      "211/211 [==============================] - 1s 4ms/step - loss: 0.4444 - accuracy: 0.8854 - val_loss: 1.0251 - val_accuracy: 0.8099\n",
      "Epoch 19/30\n",
      "211/211 [==============================] - 1s 5ms/step - loss: 0.4234 - accuracy: 0.8887 - val_loss: 1.0445 - val_accuracy: 0.8050\n",
      "Epoch 20/30\n",
      "211/211 [==============================] - 1s 5ms/step - loss: 0.3954 - accuracy: 0.8964 - val_loss: 1.0523 - val_accuracy: 0.8103\n",
      "Epoch 21/30\n",
      "211/211 [==============================] - 1s 5ms/step - loss: 0.3897 - accuracy: 0.8956 - val_loss: 1.0528 - val_accuracy: 0.8108\n",
      "Epoch 22/30\n",
      "211/211 [==============================] - 1s 5ms/step - loss: 0.3777 - accuracy: 0.9016 - val_loss: 1.0635 - val_accuracy: 0.8081\n",
      "Epoch 23/30\n",
      "211/211 [==============================] - 1s 5ms/step - loss: 0.3595 - accuracy: 0.9041 - val_loss: 1.0532 - val_accuracy: 0.8108\n",
      "Epoch 24/30\n",
      "211/211 [==============================] - 1s 6ms/step - loss: 0.3465 - accuracy: 0.9063 - val_loss: 1.0847 - val_accuracy: 0.8161\n",
      "Epoch 25/30\n",
      "211/211 [==============================] - 1s 6ms/step - loss: 0.3473 - accuracy: 0.9075 - val_loss: 1.0635 - val_accuracy: 0.8161\n",
      "Epoch 26/30\n",
      "211/211 [==============================] - 1s 6ms/step - loss: 0.3306 - accuracy: 0.9103 - val_loss: 1.0848 - val_accuracy: 0.8192\n",
      "Epoch 27/30\n",
      "211/211 [==============================] - 1s 6ms/step - loss: 0.3242 - accuracy: 0.9135 - val_loss: 1.0953 - val_accuracy: 0.8175\n",
      "Epoch 28/30\n",
      "211/211 [==============================] - 1s 6ms/step - loss: 0.3200 - accuracy: 0.9139 - val_loss: 1.0813 - val_accuracy: 0.8152\n"
     ]
    }
   ],
   "source": [
    "model.compile(loss='categorical_crossentropy', optimizer='adam', metrics=['accuracy'])\n",
    "\n",
    "# 문제 2-4: ModelCheckpoint와 EarlyStopping 콜백 함수를 적용하여 모델 학습을 진행합니다.\n",
    "from tensorflow.keras import callbacks\n",
    "check_point_cb = callbacks.ModelCheckpoint('best_model.h5', save_best_only=True)\n",
    "early_stopping_cb = callbacks.EarlyStopping(patience=10, monitor='val_loss', restore_best_weights=True)\n",
    "\n",
    "history = model.fit(x_train, y_train_one_hot, epochs=30, validation_data=(x_val, y_val_one_hot), callbacks=[check_point_cb, early_stopping_cb])"
   ]
  },
  {
   "cell_type": "markdown",
   "id": "07a93ba0",
   "metadata": {},
   "source": [
    "## 학습데이터와 검증데이터 시각화"
   ]
  },
  {
   "cell_type": "code",
   "execution_count": 8,
   "id": "1952e22f",
   "metadata": {},
   "outputs": [
    {
     "data": {
      "image/png": "[encoded data removed]",
      "text/plain": [
       "<Figure size 1200x500 with 2 Axes>"
      ]
     },
     "metadata": {},
     "output_type": "display_data"
    }
   ],
   "source": [
    "# 학습 히스토리의 `loss`, `val_loss`, `accuracy`, `val_accuracy`를 차트로 시각화합니다.\n",
    "plt.style.use('seaborn-white')\n",
    "\n",
    "history_dict = history.history\n",
    "\n",
    "loss = history_dict['loss']\n",
    "val_loss = history_dict['val_loss']\n",
    "\n",
    "epochs = range(1, len(loss) + 1)\n",
    "fig = plt.figure(figsize=(12, 5))\n",
    "\n",
    "ax1 = fig.add_subplot(1, 2, 1)\n",
    "ax1.plot(epochs, loss, 'b-', label='train_loss')\n",
    "ax1.plot(epochs, val_loss, 'r-', label='val_loss')\n",
    "ax1.set_title('Train and Validation Loss')\n",
    "ax1.set_xlabel('Epochs')\n",
    "ax1.set_ylabel('Loss')\n",
    "ax1.grid()\n",
    "ax1.legend()\n",
    "\n",
    "accuracy = history_dict['accuracy']\n",
    "val_accuracy = history_dict['val_accuracy']\n",
    "\n",
    "ax2 = fig.add_subplot(1, 2, 2)\n",
    "ax2.plot(epochs, accuracy, 'b-', label='train_accuracy')\n",
    "ax2.plot(epochs, val_accuracy, 'r-', label='val_accuracy')\n",
    "ax2.set_title('Train and Validation Accuracy')\n",
    "ax2.set_xlabel('Epochs')\n",
    "ax2.set_ylabel('Accuracy')\n",
    "ax2.grid()\n",
    "ax2.legend()\n",
    "\n",
    "plt.show()"
   ]
  },
  {
   "cell_type": "markdown",
   "id": "e76e8c94",
   "metadata": {},
   "source": [
    "## 모델 평가"
   ]
  },
  {
   "cell_type": "code",
   "execution_count": 9,
   "id": "43c36cde",
   "metadata": {},
   "outputs": [
    {
     "name": "stdout",
     "output_type": "stream",
     "text": [
      "71/71 [==============================] - 0s 3ms/step - loss: 1.1292 - accuracy: 0.7930\n",
      "loss : 1.1291946172714233\n",
      "acc : 0.792965292930603\n"
     ]
    }
   ],
   "source": [
    "# 문제 2-5: 테스트 데이터셋을 이용해 모델을 평가합니다.\n",
    "test_loss, test_acc = model.evaluate(x_test, y_test_one_hot)\n",
    "print(f\"loss : {test_loss}\")\n",
    "print(f\"acc : {test_acc}\")"
   ]
  },
  {
   "cell_type": "markdown",
   "id": "7e661e08",
   "metadata": {},
   "source": [
    "## 회고\n",
    "\n",
    "배운 부분에서는 model.compile(loss='categorical_crossentropy', optimizer='adam', metrics=['accuracy']) 에서 loss를\n",
    "sparse_categorical_crossentropy를 썼었다. 그래서 오류가 계속 났던 것이였다.\n",
    "**원-핫 인코딩이 아닌 상태에서 sparse_categorical_crossentropy를 사용하고 있습니다. 따라서 모델을 컴파일할 때 categorical_crossentropy를 사용하거나, 레이블을 정수로 사용해 sparse_categorical_crossentropy를 계속 사용해야 합니다. 여기서는 categorical_crossentropy를 사용하도록 수정하겠습니다.**\n",
    "라는 내용을 보고 사용했을 때 정상적인 진행이 되었었다.\n",
    "이 부분에서 애를 먹었었기에 시간이 오래 걸렸다.\n",
    "\n",
    "- **K**\n",
    "    - 레이어층 구성 완벽 성공\n",
    "    - check_point 와 ealry_stopping 부분 직접 코드 구현 실시 성공\n",
    "- **P**\n",
    "    - compile 부분의 지속적인 오류로 인한 시간 소모\n",
    "- **T**\n",
    "    - loss 관련 해서 열심히 검색을 해서 해결"
   ]
  }
 ],
 "metadata": {
  "kernelspec": {
   "display_name": "tensor_env",
   "language": "python",
   "name": "tensor_env"
  },
  "language_info": {
   "codemirror_mode": {
    "name": "ipython",
    "version": 3
   },
   "file_extension": ".py",
   "mimetype": "text/x-python",
   "name": "python",
   "nbconvert_exporter": "python",
   "pygments_lexer": "ipython3",
   "version": "3.7.1"
  }
 },
 "nbformat": 4,
 "nbformat_minor": 5
}
